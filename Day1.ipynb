{
 "cells": [
  {
   "cell_type": "markdown",
   "id": "ad061274-5a19-4d74-8b54-12a2cbb546e8",
   "metadata": {},
   "source": [
    "# Python is an\n",
    "  # * interpreted\n",
    "  # * high-level programming language with dynamic semantics\n",
    "  # * object-oriented "
   ]
  },
  {
   "cell_type": "raw",
   "id": "37124af7-feb1-4e60-b6aa-03bfd61acc19",
   "metadata": {},
   "source": [
    "* It was created by Guido Von Rossum and first released in 1991"
   ]
  },
  {
   "cell_type": "raw",
   "id": "576e332f-83ba-4ecb-a338-ce71a820505e",
   "metadata": {},
   "source": [
    "* It has the following features that makes it very attractive for Rapid Application Development, as well as for use as a scripting or glue language to connect existing components together -\n",
    "\n",
    "high-level built in data structures,\n",
    "dynamic typing\n",
    "dynamic binding\n",
    "Python's simple, easy to learn syntax emphasizes on code readability with the use of whitespaces and therefore reduces the cost of program maintenance.\n",
    "\n",
    "Python supports modules and packages, which encourages program modularity and code reuse.\n",
    "\n",
    "The Python interpreter and the extensive standard library are available in source or binary form without charge for all major platforms, and can be freely distributed.\n",
    "\n",
    "Python is a great general-purpose programming language on its own, but with the help of a few popular libraries (numpy, scipy, matplotlib) it becomes a powerful environment for scientific computing.\n",
    "\n"
   ]
  },
  {
   "cell_type": "raw",
   "id": "7bfd2075-7d22-4f00-89b6-c1df68ae284f",
   "metadata": {},
   "source": [
    "Let us move towards the basics of python:-\n",
    "As you very much know about IDE(Integrated Development Environment) where user wrires their own code, save it and execute it.\n",
    "There are so much IDE'S for doing codes in python like VS Code, Jupyter Lab, Jupyter Notebook, Google Colab etc...\n"
   ]
  },
  {
   "cell_type": "markdown",
   "id": "494191bc-e429-4129-b695-25b99a8c457f",
   "metadata": {},
   "source": [
    "# Python Version"
   ]
  },
  {
   "cell_type": "markdown",
   "id": "8cfa714f-2c86-4008-bd28-fa185ae5fd1e",
   "metadata": {},
   "source": [
    "# Python 2"
   ]
  },
  {
   "cell_type": "raw",
   "id": "7905da62-c54a-4d52-a297-96322a107095",
   "metadata": {},
   "source": [
    "*Published in late 2000, Python 2 signalled a more transparent and inclusive language development process than earlier versions of Python with the implementation of PEP (Python Enhancement Proposal), a technical specification that either provides information to Python community members or describes a new feature of the language.\n",
    "\n",
    "*Additionally, Python 2 included many more programmatic features including a cycle-detecting garbage collector to automate memory management, increased Unicode support to standardize characters, and list comprehensions to create a list based on existing lists. As Python 2 continued to develop, more features were added, including unifying Python’s types and classes into one hierarchy in Python version 2.2."
   ]
  },
  {
   "cell_type": "markdown",
   "id": "9c1102b5-3056-4d0e-884d-8828b250a30c",
   "metadata": {},
   "source": [
    "# Python 3"
   ]
  },
  {
   "cell_type": "raw",
   "id": "cc527744-bfd3-4eb2-9655-8cdd7975ba7b",
   "metadata": {},
   "source": [
    "*Python 3 is regarded as the future of Python and is the version of the language that is currently in development. A major overhaul, Python 3 was released in late 2008 to address and amend intrinsic design flaws of previous versions of the language. The focus of Python 3 development was to clean up the codebase and remove redundancy, making it clear that there was only one way to perform a given task.\n",
    "Major modifications to Python 3.0 included changing the print statement into a built-in function, improve the way integers are divided, and providing more Unicode support.\n",
    "\n",
    "*At first, Python 3 was slowly adopted due to the language not being backwards compatible with Python 2, requiring people to make a decision as to which version of the language to use. Additionally, many package libraries were only available for Python 2, but as the development team behind Python 3 has reiterated that there is an end of life for Python 2 support, more libraries have been ported to Python 3. The increased adoption of Python 3 can be shown by the number of Python packages that now provide Python 3 support, which at the time of writing includes 339 of the 360 most popular Python packages."
   ]
  },
  {
   "cell_type": "markdown",
   "id": "702b4696-3437-4dcf-91d9-8e59e279e9f1",
   "metadata": {},
   "source": [
    "# Why Python is PYTHON?"
   ]
  },
  {
   "cell_type": "raw",
   "id": "8efa0da4-b1d1-481e-88a2-9d254a32e0fe",
   "metadata": {},
   "source": [
    "Quality of software: Python was meant for readability. Its reusable and maintainable as compared to other languages. Its easier to understand. It supports all the modern features like OOPs and functional programming.\n",
    "\n",
    "Productivity of Developers: The same program which is written in other high-level languages like c++ or java can be written in one-third or one-fifth line of codes. That means debugging can be easy and it will be less prone to error which in turn increases the productivity of the developers.\n",
    "\n",
    "Portability: Mostly it’s platform-independent. It can run on any platform or OS with minor or no change at all which makes it a highly portable language. Now you can use MircoPython to interact with hardware as well. It can be used on most of the edge devices.\n",
    "\n",
    "Supporting Libraries: Python already has a lot of inbuilt libraries that come with the standard python package which you download from its official site. With these libraries, you can build lots of basic applications or day to day automation tasks like copying data in bulk from one place to another. Apart from this, there’s a huge list of third-party libraries like Numpy, Matplotlib, Scikit Learn, etc.\n",
    "\n",
    "Fun to use: Its simplicity and availability of lots of supporting libraries plus huge open source community support make development in python a breeze. That’s why its widely preferred by hobbyists as well."
   ]
  },
  {
   "cell_type": "markdown",
   "id": "c83322d8-96f9-44fb-bb44-a9be563996c0",
   "metadata": {},
   "source": [
    "# Operations"
   ]
  },
  {
   "cell_type": "code",
   "execution_count": 32,
   "id": "6d56cd29-a5c4-416f-8abe-ee4e41413bd7",
   "metadata": {
    "tags": []
   },
   "outputs": [
    {
     "data": {
      "text/plain": [
       "4"
      ]
     },
     "execution_count": 32,
     "metadata": {},
     "output_type": "execute_result"
    }
   ],
   "source": [
    "#Addition\n",
    "1+3"
   ]
  },
  {
   "cell_type": "code",
   "execution_count": 34,
   "id": "f4b860f0-d7f9-4c45-914a-a6156d76fe79",
   "metadata": {},
   "outputs": [
    {
     "data": {
      "text/plain": [
       "2"
      ]
     },
     "execution_count": 34,
     "metadata": {},
     "output_type": "execute_result"
    }
   ],
   "source": [
    "#Subtraction\n",
    "4-2"
   ]
  },
  {
   "cell_type": "code",
   "execution_count": 35,
   "id": "3670c22f-bb77-4ede-869a-e2a8f081c5d5",
   "metadata": {},
   "outputs": [
    {
     "data": {
      "text/plain": [
       "8"
      ]
     },
     "execution_count": 35,
     "metadata": {},
     "output_type": "execute_result"
    }
   ],
   "source": [
    "#Multiplication\n",
    "4*2\n"
   ]
  },
  {
   "cell_type": "code",
   "execution_count": 36,
   "id": "16b10f90-6c52-4371-a365-2be60887a8b5",
   "metadata": {},
   "outputs": [
    {
     "data": {
      "text/plain": [
       "5.666666666666667"
      ]
     },
     "execution_count": 36,
     "metadata": {},
     "output_type": "execute_result"
    }
   ],
   "source": [
    "#Division\n",
    "85/15"
   ]
  },
  {
   "cell_type": "code",
   "execution_count": 38,
   "id": "610d20dd-4f6f-45b6-b8f5-5c29ddfc22c9",
   "metadata": {},
   "outputs": [
    {
     "data": {
      "text/plain": [
       "1"
      ]
     },
     "execution_count": 38,
     "metadata": {},
     "output_type": "execute_result"
    }
   ],
   "source": [
    "#Remainder\n",
    "15%2"
   ]
  },
  {
   "cell_type": "code",
   "execution_count": 45,
   "id": "8ee21481-11c1-49f2-8f1f-be24385342cf",
   "metadata": {},
   "outputs": [
    {
     "data": {
      "text/plain": [
       "8"
      ]
     },
     "execution_count": 45,
     "metadata": {},
     "output_type": "execute_result"
    }
   ],
   "source": [
    "#Exponent\n",
    "2**3"
   ]
  },
  {
   "cell_type": "code",
   "execution_count": 49,
   "id": "25436c9e-77ab-49fa-bdac-ba46858229b9",
   "metadata": {},
   "outputs": [
    {
     "data": {
      "text/plain": [
       "8"
      ]
     },
     "execution_count": 49,
     "metadata": {},
     "output_type": "execute_result"
    }
   ],
   "source": [
    "#floor value\n",
    "25//3"
   ]
  },
  {
   "cell_type": "code",
   "execution_count": 10,
   "id": "7ec34938-c620-43fb-ada0-73f01be94356",
   "metadata": {
    "scrolled": true,
    "tags": []
   },
   "outputs": [
    {
     "name": "stdout",
     "output_type": "stream",
     "text": [
      "4\n"
     ]
    }
   ],
   "source": [
    "print(1+3)\n"
   ]
  },
  {
   "cell_type": "code",
   "execution_count": 11,
   "id": "43271ef3-b64f-4c86-82b0-a8b13c75d7a0",
   "metadata": {
    "scrolled": true,
    "tags": []
   },
   "outputs": [
    {
     "name": "stdout",
     "output_type": "stream",
     "text": [
      "6\n"
     ]
    }
   ],
   "source": [
    "print(1+5)"
   ]
  },
  {
   "cell_type": "code",
   "execution_count": 13,
   "id": "b29b7764-c0e1-437e-96b5-b553a624be65",
   "metadata": {
    "tags": []
   },
   "outputs": [
    {
     "name": "stdout",
     "output_type": "stream",
     "text": [
      "5\n"
     ]
    }
   ],
   "source": [
    "a=5\n",
    "print(a)"
   ]
  },
  {
   "cell_type": "code",
   "execution_count": 31,
   "id": "f6347b35-c788-49cf-a155-cffa35b2a927",
   "metadata": {},
   "outputs": [
    {
     "name": "stdout",
     "output_type": "stream",
     "text": [
      "hello world\n"
     ]
    }
   ],
   "source": [
    "##use of print() function\n",
    "print(\"hello world\")"
   ]
  },
  {
   "cell_type": "markdown",
   "id": "bb3062a4-2c0d-45c5-be44-f5255f571883",
   "metadata": {
    "tags": []
   },
   "source": [
    "# variables assignment"
   ]
  },
  {
   "cell_type": "code",
   "execution_count": 20,
   "id": "f99cc6ce-baec-430e-8a78-7a5d47b37b5d",
   "metadata": {},
   "outputs": [],
   "source": [
    "name =\"piyush\"\n",
    "company = \"Students assosciation\""
   ]
  },
  {
   "cell_type": "code",
   "execution_count": 18,
   "id": "2ac0739b-1c88-4b3e-9960-2e64d14fcbd3",
   "metadata": {},
   "outputs": [
    {
     "data": {
      "text/plain": [
       "'piyush'"
      ]
     },
     "execution_count": 18,
     "metadata": {},
     "output_type": "execute_result"
    }
   ],
   "source": [
    "name"
   ]
  },
  {
   "cell_type": "code",
   "execution_count": 21,
   "id": "76c62351-1dc1-4001-bbb3-b2a3b59163ca",
   "metadata": {},
   "outputs": [
    {
     "data": {
      "text/plain": [
       "'Students assosciation'"
      ]
     },
     "execution_count": 21,
     "metadata": {},
     "output_type": "execute_result"
    }
   ],
   "source": [
    "company"
   ]
  },
  {
   "cell_type": "code",
   "execution_count": 22,
   "id": "a5a283da-49c8-4dee-89ff-cbc9f733aa13",
   "metadata": {},
   "outputs": [
    {
     "data": {
      "text/plain": [
       "str"
      ]
     },
     "execution_count": 22,
     "metadata": {},
     "output_type": "execute_result"
    }
   ],
   "source": [
    "type(name)"
   ]
  },
  {
   "cell_type": "code",
   "execution_count": 23,
   "id": "7fc32bb1-8fde-4ba4-9e8e-f4ee2b383e4f",
   "metadata": {},
   "outputs": [],
   "source": [
    "number=10"
   ]
  },
  {
   "cell_type": "code",
   "execution_count": 24,
   "id": "00253858-a152-494e-a3c7-c241353d82b1",
   "metadata": {},
   "outputs": [
    {
     "data": {
      "text/plain": [
       "int"
      ]
     },
     "execution_count": 24,
     "metadata": {},
     "output_type": "execute_result"
    }
   ],
   "source": [
    "type(number)"
   ]
  },
  {
   "cell_type": "code",
   "execution_count": 25,
   "id": "decc2f07-89dd-4d9a-a9bf-ab7e3113c8fc",
   "metadata": {},
   "outputs": [],
   "source": [
    "decimal_number=4.789"
   ]
  },
  {
   "cell_type": "code",
   "execution_count": 26,
   "id": "859a3e68-f2c1-42e4-b168-144cd6b4fc6a",
   "metadata": {},
   "outputs": [
    {
     "data": {
      "text/plain": [
       "4.789"
      ]
     },
     "execution_count": 26,
     "metadata": {},
     "output_type": "execute_result"
    }
   ],
   "source": [
    "decimal_number"
   ]
  },
  {
   "cell_type": "code",
   "execution_count": 27,
   "id": "1c38979b-492a-4e16-80e8-430f89b20db1",
   "metadata": {},
   "outputs": [
    {
     "data": {
      "text/plain": [
       "float"
      ]
     },
     "execution_count": 27,
     "metadata": {},
     "output_type": "execute_result"
    }
   ],
   "source": [
    "type(decimal_number)"
   ]
  },
  {
   "cell_type": "code",
   "execution_count": 28,
   "id": "d8f063dd-8707-48ba-866e-293b6b5c517b",
   "metadata": {},
   "outputs": [],
   "source": [
    "complex=1+2j"
   ]
  },
  {
   "cell_type": "code",
   "execution_count": 29,
   "id": "d8ac3394-ea17-40a8-802f-ca8cdaf828ef",
   "metadata": {},
   "outputs": [
    {
     "data": {
      "text/plain": [
       "complex"
      ]
     },
     "execution_count": 29,
     "metadata": {},
     "output_type": "execute_result"
    }
   ],
   "source": [
    "type(complex)"
   ]
  },
  {
   "cell_type": "code",
   "execution_count": 45,
   "id": "f9628135-1d5c-4671-91dc-6ebe0764bb73",
   "metadata": {},
   "outputs": [
    {
     "ename": "SyntaxError",
     "evalue": "invalid decimal literal (2786148990.py, line 2)",
     "output_type": "error",
     "traceback": [
      "\u001b[0;36m  Cell \u001b[0;32mIn[45], line 2\u001b[0;36m\u001b[0m\n\u001b[0;31m    1a\u001b[0m\n\u001b[0m    ^\u001b[0m\n\u001b[0;31mSyntaxError\u001b[0m\u001b[0;31m:\u001b[0m invalid decimal literal\n"
     ]
    }
   ],
   "source": [
    "## bad way to define variable\n",
    "1a\n",
    "3answer\n",
    "\n"
   ]
  },
  {
   "cell_type": "code",
   "execution_count": 46,
   "id": "04c84c62-848e-4284-8390-c7e85cf26f13",
   "metadata": {},
   "outputs": [
    {
     "data": {
      "text/plain": [
       "'\\nint,float,len,complex,bool,str,return,yield\\n'"
      ]
     },
     "execution_count": 46,
     "metadata": {},
     "output_type": "execute_result"
    }
   ],
   "source": [
    "## reserved keywords\n",
    "'''\n",
    "int,float,len,complex,bool,str,return,yield\n",
    "'''"
   ]
  },
  {
   "cell_type": "code",
   "execution_count": 47,
   "id": "7c350307-beea-4e9e-86d1-0f8369d82739",
   "metadata": {},
   "outputs": [],
   "source": [
    "float=32"
   ]
  },
  {
   "cell_type": "code",
   "execution_count": 48,
   "id": "c7090e04-e88f-4fc5-9494-652c1cadcc88",
   "metadata": {},
   "outputs": [
    {
     "data": {
      "text/plain": [
       "32"
      ]
     },
     "execution_count": 48,
     "metadata": {},
     "output_type": "execute_result"
    }
   ],
   "source": [
    "float\n"
   ]
  },
  {
   "cell_type": "code",
   "execution_count": 1,
   "id": "c54c755c-5595-49c9-81a6-c54a9c57f87b",
   "metadata": {},
   "outputs": [
    {
     "data": {
      "text/plain": [
       "True"
      ]
     },
     "execution_count": 1,
     "metadata": {},
     "output_type": "execute_result"
    }
   ],
   "source": [
    "## boolean\n",
    "True"
   ]
  },
  {
   "cell_type": "code",
   "execution_count": 2,
   "id": "6446e60b-f5d4-42d8-8738-7ce04a134ad9",
   "metadata": {},
   "outputs": [
    {
     "data": {
      "text/plain": [
       "False"
      ]
     },
     "execution_count": 2,
     "metadata": {},
     "output_type": "execute_result"
    }
   ],
   "source": [
    "False\n"
   ]
  },
  {
   "cell_type": "code",
   "execution_count": 3,
   "id": "43638537-854e-4633-b266-4287ea9848ca",
   "metadata": {},
   "outputs": [
    {
     "data": {
      "text/plain": [
       "False"
      ]
     },
     "execution_count": 3,
     "metadata": {},
     "output_type": "execute_result"
    }
   ],
   "source": [
    "True and False"
   ]
  },
  {
   "cell_type": "code",
   "execution_count": 4,
   "id": "3cc7df0b-2e33-4032-ba1c-0b5aaca997e9",
   "metadata": {},
   "outputs": [
    {
     "data": {
      "text/plain": [
       "True"
      ]
     },
     "execution_count": 4,
     "metadata": {},
     "output_type": "execute_result"
    }
   ],
   "source": [
    "True or False"
   ]
  },
  {
   "cell_type": "code",
   "execution_count": 5,
   "id": "a5209828-c007-41e5-a02a-e76ec680e60c",
   "metadata": {},
   "outputs": [
    {
     "data": {
      "text/plain": [
       "bool"
      ]
     },
     "execution_count": 5,
     "metadata": {},
     "output_type": "execute_result"
    }
   ],
   "source": [
    "type(True)"
   ]
  },
  {
   "cell_type": "code",
   "execution_count": 8,
   "id": "3d63da55-b36f-4476-b2b8-644908598845",
   "metadata": {},
   "outputs": [
    {
     "data": {
      "text/plain": [
       "False"
      ]
     },
     "execution_count": 8,
     "metadata": {},
     "output_type": "execute_result"
    }
   ],
   "source": [
    "#typecasting\n",
    "bool(0)\n"
   ]
  },
  {
   "cell_type": "code",
   "execution_count": 7,
   "id": "529fd910-16ef-4fa0-b990-f44e99df426d",
   "metadata": {},
   "outputs": [
    {
     "data": {
      "text/plain": [
       "True"
      ]
     },
     "execution_count": 7,
     "metadata": {},
     "output_type": "execute_result"
    }
   ],
   "source": [
    "bool(1)"
   ]
  },
  {
   "cell_type": "code",
   "execution_count": 9,
   "id": "58da5f3e-f076-4cc1-b41e-fae891f3038c",
   "metadata": {},
   "outputs": [
    {
     "data": {
      "text/plain": [
       "'23'"
      ]
     },
     "execution_count": 9,
     "metadata": {},
     "output_type": "execute_result"
    }
   ],
   "source": [
    "str(23)"
   ]
  },
  {
   "cell_type": "code",
   "execution_count": 10,
   "id": "f9ff826a-cd23-4bdc-84bd-e95cc82e3d52",
   "metadata": {},
   "outputs": [
    {
     "ename": "ValueError",
     "evalue": "invalid literal for int() with base 10: 'abc'",
     "output_type": "error",
     "traceback": [
      "\u001b[0;31m---------------------------------------------------------------------------\u001b[0m",
      "\u001b[0;31mValueError\u001b[0m                                Traceback (most recent call last)",
      "Cell \u001b[0;32mIn[10], line 1\u001b[0m\n\u001b[0;32m----> 1\u001b[0m \u001b[38;5;28;43mint\u001b[39;49m\u001b[43m(\u001b[49m\u001b[38;5;124;43m\"\u001b[39;49m\u001b[38;5;124;43mabc\u001b[39;49m\u001b[38;5;124;43m\"\u001b[39;49m\u001b[43m)\u001b[49m\n",
      "\u001b[0;31mValueError\u001b[0m: invalid literal for int() with base 10: 'abc'"
     ]
    }
   ],
   "source": [
    "int(\"abc\")"
   ]
  },
  {
   "cell_type": "code",
   "execution_count": 11,
   "id": "867b8be0-8c4b-4fc3-8992-7231ca8b5b93",
   "metadata": {},
   "outputs": [
    {
     "data": {
      "text/plain": [
       "23"
      ]
     },
     "execution_count": 11,
     "metadata": {},
     "output_type": "execute_result"
    }
   ],
   "source": [
    "int(\"23\")"
   ]
  },
  {
   "cell_type": "code",
   "execution_count": 12,
   "id": "f1042f55-1b93-44c3-ad8b-33112e147a55",
   "metadata": {},
   "outputs": [
    {
     "data": {
      "text/plain": [
       "int"
      ]
     },
     "execution_count": 12,
     "metadata": {},
     "output_type": "execute_result"
    }
   ],
   "source": [
    "type(int(\"23\"))"
   ]
  },
  {
   "cell_type": "markdown",
   "id": "a7f96835-9029-4fb7-b7d7-b47d77db445a",
   "metadata": {},
   "source": [
    "# Dynamic Typing"
   ]
  },
  {
   "cell_type": "code",
   "execution_count": 13,
   "id": "b57e2ae5-d7ff-4eb4-90cb-f5724393f5de",
   "metadata": {},
   "outputs": [],
   "source": [
    "num=12\n",
    "str1=\"piyush\"\n",
    "num=\"var\""
   ]
  },
  {
   "cell_type": "code",
   "execution_count": 14,
   "id": "14e28b53-8209-4bda-8c8a-a13ae0bcedbb",
   "metadata": {},
   "outputs": [
    {
     "name": "stdout",
     "output_type": "stream",
     "text": [
      "<class 'str'>\n"
     ]
    }
   ],
   "source": [
    "print(type(num))"
   ]
  },
  {
   "cell_type": "code",
   "execution_count": 15,
   "id": "d0d99c14-a095-41cf-9020-93a9f5ec8fc6",
   "metadata": {},
   "outputs": [
    {
     "data": {
      "text/plain": [
       "2"
      ]
     },
     "execution_count": 15,
     "metadata": {},
     "output_type": "execute_result"
    }
   ],
   "source": [
    "int(2.67)"
   ]
  },
  {
   "cell_type": "code",
   "execution_count": 16,
   "id": "ae22a876-7e84-4128-8407-d9a186028a43",
   "metadata": {},
   "outputs": [
    {
     "data": {
      "text/plain": [
       "4.0"
      ]
     },
     "execution_count": 16,
     "metadata": {},
     "output_type": "execute_result"
    }
   ],
   "source": [
    "float(4)"
   ]
  },
  {
   "cell_type": "code",
   "execution_count": 18,
   "id": "691d2682-d3d0-4474-bd25-25bf34aefeba",
   "metadata": {},
   "outputs": [
    {
     "data": {
      "text/plain": [
       "'234'"
      ]
     },
     "execution_count": 18,
     "metadata": {},
     "output_type": "execute_result"
    }
   ],
   "source": [
    "## concatenation\n",
    "## adding string objects\n",
    "\"2\" + \"3\" + \"4\""
   ]
  },
  {
   "cell_type": "code",
   "execution_count": 19,
   "id": "45874991-9da4-404f-ae02-6af1586505f7",
   "metadata": {},
   "outputs": [
    {
     "ename": "TypeError",
     "evalue": "unsupported operand type(s) for +: 'int' and 'str'",
     "output_type": "error",
     "traceback": [
      "\u001b[0;31m---------------------------------------------------------------------------\u001b[0m",
      "\u001b[0;31mTypeError\u001b[0m                                 Traceback (most recent call last)",
      "Cell \u001b[0;32mIn[19], line 1\u001b[0m\n\u001b[0;32m----> 1\u001b[0m \u001b[38;5;241;43m2\u001b[39;49m\u001b[38;5;241;43m+\u001b[39;49m\u001b[38;5;124;43m\"\u001b[39;49m\u001b[38;5;124;43m3\u001b[39;49m\u001b[38;5;124;43m\"\u001b[39;49m\u001b[38;5;241m+\u001b[39m\u001b[38;5;241m4\u001b[39m\n",
      "\u001b[0;31mTypeError\u001b[0m: unsupported operand type(s) for +: 'int' and 'str'"
     ]
    }
   ],
   "source": [
    "2+\"3\"+4"
   ]
  },
  {
   "cell_type": "code",
   "execution_count": 21,
   "id": "a9c106ba-1150-4940-9489-898385ba9fd1",
   "metadata": {},
   "outputs": [
    {
     "data": {
      "text/plain": [
       "'2222222222222222222222222222222222222222222222222222222222222222222222222222222222222222222222222222'"
      ]
     },
     "execution_count": 21,
     "metadata": {},
     "output_type": "execute_result"
    }
   ],
   "source": [
    "\"2\"*100"
   ]
  },
  {
   "cell_type": "code",
   "execution_count": 22,
   "id": "22dddb19-70a0-475f-b841-55a6a5c47233",
   "metadata": {},
   "outputs": [
    {
     "ename": "TypeError",
     "evalue": "can't multiply sequence by non-int of type 'str'",
     "output_type": "error",
     "traceback": [
      "\u001b[0;31m---------------------------------------------------------------------------\u001b[0m",
      "\u001b[0;31mTypeError\u001b[0m                                 Traceback (most recent call last)",
      "Cell \u001b[0;32mIn[22], line 1\u001b[0m\n\u001b[0;32m----> 1\u001b[0m \u001b[38;5;124;43m\"\u001b[39;49m\u001b[38;5;124;43m2\u001b[39;49m\u001b[38;5;124;43m\"\u001b[39;49m\u001b[38;5;241;43m*\u001b[39;49m\u001b[38;5;124;43m\"\u001b[39;49m\u001b[38;5;124;43m100\u001b[39;49m\u001b[38;5;124;43m\"\u001b[39;49m\n",
      "\u001b[0;31mTypeError\u001b[0m: can't multiply sequence by non-int of type 'str'"
     ]
    }
   ],
   "source": [
    "\"2\"*\"100\""
   ]
  },
  {
   "cell_type": "code",
   "execution_count": 23,
   "id": "1d8f45b5-7b77-496b-8cc3-f8c4fbf00d70",
   "metadata": {},
   "outputs": [
    {
     "ename": "TypeError",
     "evalue": "unsupported operand type(s) for /: 'str' and 'int'",
     "output_type": "error",
     "traceback": [
      "\u001b[0;31m---------------------------------------------------------------------------\u001b[0m",
      "\u001b[0;31mTypeError\u001b[0m                                 Traceback (most recent call last)",
      "Cell \u001b[0;32mIn[23], line 1\u001b[0m\n\u001b[0;32m----> 1\u001b[0m \u001b[38;5;124;43m\"\u001b[39;49m\u001b[38;5;124;43m4\u001b[39;49m\u001b[38;5;124;43m\"\u001b[39;49m\u001b[38;5;241;43m/\u001b[39;49m\u001b[38;5;241;43m100\u001b[39;49m\n",
      "\u001b[0;31mTypeError\u001b[0m: unsupported operand type(s) for /: 'str' and 'int'"
     ]
    }
   ],
   "source": [
    "\"4\"/100"
   ]
  },
  {
   "cell_type": "code",
   "execution_count": 24,
   "id": "2c76bc28-cb25-4fec-bc2d-7ce2740cfa5b",
   "metadata": {},
   "outputs": [
    {
     "ename": "TypeError",
     "evalue": "unsupported operand type(s) for /: 'str' and 'str'",
     "output_type": "error",
     "traceback": [
      "\u001b[0;31m---------------------------------------------------------------------------\u001b[0m",
      "\u001b[0;31mTypeError\u001b[0m                                 Traceback (most recent call last)",
      "Cell \u001b[0;32mIn[24], line 1\u001b[0m\n\u001b[0;32m----> 1\u001b[0m \u001b[38;5;124;43m\"\u001b[39;49m\u001b[38;5;124;43m4\u001b[39;49m\u001b[38;5;124;43m\"\u001b[39;49m\u001b[43m \u001b[49m\u001b[38;5;241;43m/\u001b[39;49m\u001b[43m \u001b[49m\u001b[38;5;124;43m\"\u001b[39;49m\u001b[38;5;124;43m100\u001b[39;49m\u001b[38;5;124;43m\"\u001b[39;49m\n",
      "\u001b[0;31mTypeError\u001b[0m: unsupported operand type(s) for /: 'str' and 'str'"
     ]
    }
   ],
   "source": [
    "\"4\" / \"100\""
   ]
  },
  {
   "cell_type": "code",
   "execution_count": 25,
   "id": "f78d3cea-c3e9-4876-9042-ae0cafa4a379",
   "metadata": {},
   "outputs": [
    {
     "ename": "TypeError",
     "evalue": "not all arguments converted during string formatting",
     "output_type": "error",
     "traceback": [
      "\u001b[0;31m---------------------------------------------------------------------------\u001b[0m",
      "\u001b[0;31mTypeError\u001b[0m                                 Traceback (most recent call last)",
      "Cell \u001b[0;32mIn[25], line 1\u001b[0m\n\u001b[0;32m----> 1\u001b[0m \u001b[38;5;124;43m\"\u001b[39;49m\u001b[38;5;124;43m4\u001b[39;49m\u001b[38;5;124;43m\"\u001b[39;49m\u001b[38;5;241;43m%\u001b[39;49m\u001b[38;5;241;43m100\u001b[39;49m\n",
      "\u001b[0;31mTypeError\u001b[0m: not all arguments converted during string formatting"
     ]
    }
   ],
   "source": [
    "\"4\"%100"
   ]
  },
  {
   "cell_type": "code",
   "execution_count": 26,
   "id": "05d29896-908f-4a23-9ca9-85baae15197b",
   "metadata": {},
   "outputs": [
    {
     "ename": "TypeError",
     "evalue": "not all arguments converted during string formatting",
     "output_type": "error",
     "traceback": [
      "\u001b[0;31m---------------------------------------------------------------------------\u001b[0m",
      "\u001b[0;31mTypeError\u001b[0m                                 Traceback (most recent call last)",
      "Cell \u001b[0;32mIn[26], line 1\u001b[0m\n\u001b[0;32m----> 1\u001b[0m \u001b[38;5;124;43m\"\u001b[39;49m\u001b[38;5;124;43m4\u001b[39;49m\u001b[38;5;124;43m\"\u001b[39;49m\u001b[38;5;241;43m%\u001b[39;49m\u001b[38;5;124;43m\"\u001b[39;49m\u001b[38;5;124;43m100\u001b[39;49m\u001b[38;5;124;43m\"\u001b[39;49m\n",
      "\u001b[0;31mTypeError\u001b[0m: not all arguments converted during string formatting"
     ]
    }
   ],
   "source": [
    "\"4\"%\"100\""
   ]
  },
  {
   "cell_type": "code",
   "execution_count": 27,
   "id": "7bd679d6-cde9-433b-b3c5-9437e3d830ae",
   "metadata": {},
   "outputs": [
    {
     "ename": "TypeError",
     "evalue": "unsupported operand type(s) for -: 'str' and 'str'",
     "output_type": "error",
     "traceback": [
      "\u001b[0;31m---------------------------------------------------------------------------\u001b[0m",
      "\u001b[0;31mTypeError\u001b[0m                                 Traceback (most recent call last)",
      "Cell \u001b[0;32mIn[27], line 1\u001b[0m\n\u001b[0;32m----> 1\u001b[0m \u001b[38;5;124;43m\"\u001b[39;49m\u001b[38;5;124;43m4\u001b[39;49m\u001b[38;5;124;43m\"\u001b[39;49m\u001b[38;5;241;43m-\u001b[39;49m\u001b[38;5;124;43m\"\u001b[39;49m\u001b[38;5;124;43m2\u001b[39;49m\u001b[38;5;124;43m\"\u001b[39;49m\n",
      "\u001b[0;31mTypeError\u001b[0m: unsupported operand type(s) for -: 'str' and 'str'"
     ]
    }
   ],
   "source": [
    "\"4\"-\"2\""
   ]
  },
  {
   "cell_type": "code",
   "execution_count": null,
   "id": "0130fe62-be6e-4358-bfaf-849262d56c2a",
   "metadata": {},
   "outputs": [],
   "source": []
  }
 ],
 "metadata": {
  "kernelspec": {
   "display_name": "Python 3 (ipykernel)",
   "language": "python",
   "name": "python3"
  },
  "language_info": {
   "codemirror_mode": {
    "name": "ipython",
    "version": 3
   },
   "file_extension": ".py",
   "mimetype": "text/x-python",
   "name": "python",
   "nbconvert_exporter": "python",
   "pygments_lexer": "ipython3",
   "version": "3.10.8"
  }
 },
 "nbformat": 4,
 "nbformat_minor": 5
}
