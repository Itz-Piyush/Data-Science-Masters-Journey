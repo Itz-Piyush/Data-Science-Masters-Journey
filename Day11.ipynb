{
 "cells": [
  {
   "cell_type": "code",
   "execution_count": 2,
   "id": "484d304a-8bb2-4a42-8fc6-b88ac63f8ce5",
   "metadata": {},
   "outputs": [],
   "source": [
    "f = open(\"test.txt\",'w')"
   ]
  },
  {
   "cell_type": "code",
   "execution_count": 3,
   "id": "a0f4517b-411a-4771-b642-e1d09d125052",
   "metadata": {},
   "outputs": [
    {
     "data": {
      "text/plain": [
       "'/home/jovyan/work'"
      ]
     },
     "execution_count": 3,
     "metadata": {},
     "output_type": "execute_result"
    }
   ],
   "source": [
    "pwd"
   ]
  },
  {
   "cell_type": "code",
   "execution_count": 4,
   "id": "fed47a8c-197e-4e2c-a6ef-81492082d1ae",
   "metadata": {},
   "outputs": [
    {
     "name": "stdout",
     "output_type": "stream",
     "text": [
      " 1_Python_Programming_Language_Overview.ipynb\n",
      " Day10.ipynb\n",
      "'Day1 -Data Science MAsters.ipynb'\n",
      " Day1.ipynb\n",
      " Day_2_Control_Flow.ipynb\n",
      " Day2.ipynb\n",
      "'Day 2 Python Condition and Loops .ipynb'\n",
      " Day3.ipynb\n",
      "'Day 3- Python Operators and Lists (1).ipynb'\n",
      " Day4.ipynb\n",
      "'Day 4 Strings List.ipynb'\n",
      " Day5.ipynb\n",
      " Day6.ipynb\n",
      " Day7.ipynb\n",
      " Day8.ipynb\n",
      " Day9.ipynb\n",
      "'Dict Eng.ipynb'\n",
      " Expressions,_Operators,_and_Precedence.ipynb\n",
      " Feb_3_Python_Assignment.ipynb\n",
      " Feb_4_Assignment_Python.ipynb\n",
      " Feb_5_Assignment_Python.ipynb\n",
      " Feb_6_Assignment_Python.ipynb\n",
      " Feb_7_Assignment_Python.ipynb\n",
      " Feb_9_Assignment_Python.ipynb\n",
      " README.md\n",
      " sets.ipynb\n",
      " String_manipulation_and_methods.ipynb\n",
      " test1.json\n",
      " test1.log\n",
      " test1.txt\n",
      " test2.txt\n",
      " test3.csv\n",
      " test3.log\n",
      " test4.bin\n",
      " test.log\n",
      " test.txt\n",
      " text1.json\n",
      "'Tuple Eng.ipynb'\n",
      " Tuples_set_dict_assignment.ipynb\n",
      " Untitled1.ipynb\n",
      " Untitled.ipynb\n"
     ]
    }
   ],
   "source": [
    "ls"
   ]
  },
  {
   "cell_type": "code",
   "execution_count": 5,
   "id": "7f9ea277-d564-4b4f-a4ad-5a774a63467d",
   "metadata": {},
   "outputs": [
    {
     "data": {
      "text/plain": [
       "32"
      ]
     },
     "execution_count": 5,
     "metadata": {},
     "output_type": "execute_result"
    }
   ],
   "source": [
    "f.write(\"Hii Everyone this is piyush here\")"
   ]
  },
  {
   "cell_type": "code",
   "execution_count": 6,
   "id": "14be9fbd-a6cc-405f-a98b-2303f60d2f27",
   "metadata": {},
   "outputs": [],
   "source": [
    "f.close()"
   ]
  },
  {
   "cell_type": "code",
   "execution_count": 7,
   "id": "df841126-631f-4ec3-b9e1-58c3d2814cf2",
   "metadata": {},
   "outputs": [],
   "source": [
    "data=open(\"test.txt\",\"r\")"
   ]
  },
  {
   "cell_type": "code",
   "execution_count": 8,
   "id": "ee7a1991-32ed-4f38-90e4-4a00beff943f",
   "metadata": {},
   "outputs": [
    {
     "data": {
      "text/plain": [
       "'Hii Everyone this is piyush here'"
      ]
     },
     "execution_count": 8,
     "metadata": {},
     "output_type": "execute_result"
    }
   ],
   "source": [
    "data.read()"
   ]
  },
  {
   "cell_type": "code",
   "execution_count": 9,
   "id": "d432195d-a4b2-4126-85c5-f4e9dc4a7fe0",
   "metadata": {},
   "outputs": [
    {
     "data": {
      "text/plain": [
       "5"
      ]
     },
     "execution_count": 9,
     "metadata": {},
     "output_type": "execute_result"
    }
   ],
   "source": [
    "data.seek(5)"
   ]
  },
  {
   "cell_type": "code",
   "execution_count": 10,
   "id": "7dbbfe4c-fdca-43ae-ac4e-c6007f878b85",
   "metadata": {},
   "outputs": [
    {
     "data": {
      "text/plain": [
       "'veryone this is piyush here'"
      ]
     },
     "execution_count": 10,
     "metadata": {},
     "output_type": "execute_result"
    }
   ],
   "source": [
    "data.read()"
   ]
  },
  {
   "cell_type": "code",
   "execution_count": 11,
   "id": "790b4910-28cd-462a-8231-ac5daa1d94b5",
   "metadata": {},
   "outputs": [],
   "source": [
    "data1=open(\"test.txt\",\"r\")"
   ]
  },
  {
   "cell_type": "code",
   "execution_count": 12,
   "id": "d8823f7b-5165-49db-b0d3-7d51c483568e",
   "metadata": {},
   "outputs": [
    {
     "name": "stdout",
     "output_type": "stream",
     "text": [
      "Hii Everyone this is piyush here\n"
     ]
    }
   ],
   "source": [
    "for i in data1:\n",
    "    print(i)"
   ]
  },
  {
   "cell_type": "code",
   "execution_count": 13,
   "id": "9d2ba633-a813-44fb-ab00-71de58a5c4b8",
   "metadata": {},
   "outputs": [],
   "source": [
    "import os"
   ]
  },
  {
   "cell_type": "code",
   "execution_count": 14,
   "id": "38edcf27-b920-4e2b-a0fb-1a4ee82aa3a9",
   "metadata": {},
   "outputs": [
    {
     "data": {
      "text/plain": [
       "32"
      ]
     },
     "execution_count": 14,
     "metadata": {},
     "output_type": "execute_result"
    }
   ],
   "source": [
    "##gives us the file size in byte\n",
    "os.path.getsize(\"test.txt\")"
   ]
  },
  {
   "cell_type": "code",
   "execution_count": 15,
   "id": "be894bab-3166-4397-b850-7942509b27d0",
   "metadata": {},
   "outputs": [],
   "source": [
    "import shutil"
   ]
  },
  {
   "cell_type": "code",
   "execution_count": 16,
   "id": "7ad5b805-da1d-4cb9-882b-91dba253ddbe",
   "metadata": {},
   "outputs": [
    {
     "data": {
      "text/plain": [
       "'test1.txt'"
      ]
     },
     "execution_count": 16,
     "metadata": {},
     "output_type": "execute_result"
    }
   ],
   "source": [
    "shutil.copy(\"test.txt\",\"test1.txt\")"
   ]
  },
  {
   "cell_type": "code",
   "execution_count": 17,
   "id": "808f0b80-7966-437c-96b5-fb5e20b9db1a",
   "metadata": {},
   "outputs": [],
   "source": [
    "os.remove(\"test.txt\")"
   ]
  },
  {
   "cell_type": "code",
   "execution_count": 18,
   "id": "d981daf6-4958-4a53-b997-3409f3ea95eb",
   "metadata": {},
   "outputs": [
    {
     "name": "stdout",
     "output_type": "stream",
     "text": [
      "Hii Everyone this is piyush here\n"
     ]
    }
   ],
   "source": [
    "with open(\"test1.txt\",\"r\")as f:\n",
    "    print(f.read())"
   ]
  },
  {
   "cell_type": "code",
   "execution_count": 19,
   "id": "3b3d7031-c70a-4967-9e43-7ce7fc997dda",
   "metadata": {},
   "outputs": [],
   "source": [
    "os.rename(\"test1.txt\",\"test2.txt\")"
   ]
  },
  {
   "cell_type": "code",
   "execution_count": 20,
   "id": "cdd916c2-80c5-4674-8d47-21e32a7c5efe",
   "metadata": {},
   "outputs": [],
   "source": [
    "data={\n",
    "    \"name\":\"sudh\",\n",
    "    \"mail_id\":\"sudh@gmail.com\",\n",
    "    \"phone_number\":91345678,\n",
    "    \"subject\":[\"data science\",\"big data\",\"AI\"]\n",
    "}\n",
    "    "
   ]
  },
  {
   "cell_type": "code",
   "execution_count": 21,
   "id": "41e11d21-cc2f-438a-96e3-f42802153410",
   "metadata": {},
   "outputs": [],
   "source": [
    "import json"
   ]
  },
  {
   "cell_type": "code",
   "execution_count": 22,
   "id": "934233ed-621b-479b-9641-9d4557b2c778",
   "metadata": {},
   "outputs": [],
   "source": [
    "with open(\"test1.json\",\"w\") as f:\n",
    "    json.dump(data,f)"
   ]
  },
  {
   "cell_type": "code",
   "execution_count": 23,
   "id": "10b5b38c-7751-49b6-b5a0-d12fb4424d68",
   "metadata": {},
   "outputs": [],
   "source": [
    "with open(\"test1.json\",'r')as f:\n",
    "    data1=json.load(f)"
   ]
  },
  {
   "cell_type": "code",
   "execution_count": 24,
   "id": "f600b055-c367-4b75-85e8-c338815a84f7",
   "metadata": {},
   "outputs": [
    {
     "data": {
      "text/plain": [
       "{'name': 'sudh',\n",
       " 'mail_id': 'sudh@gmail.com',\n",
       " 'phone_number': 91345678,\n",
       " 'subject': ['data science', 'big data', 'AI']}"
      ]
     },
     "execution_count": 24,
     "metadata": {},
     "output_type": "execute_result"
    }
   ],
   "source": [
    "data1"
   ]
  },
  {
   "cell_type": "code",
   "execution_count": 25,
   "id": "65357379-034d-416a-b8d8-a5054ff08e39",
   "metadata": {},
   "outputs": [
    {
     "data": {
      "text/plain": [
       "['data science', 'big data', 'AI']"
      ]
     },
     "execution_count": 25,
     "metadata": {},
     "output_type": "execute_result"
    }
   ],
   "source": [
    "data1[\"subject\"]"
   ]
  },
  {
   "cell_type": "code",
   "execution_count": 26,
   "id": "2f640d53-9888-49dc-9bcf-1afd8ca718e8",
   "metadata": {},
   "outputs": [
    {
     "data": {
      "text/plain": [
       "'big data'"
      ]
     },
     "execution_count": 26,
     "metadata": {},
     "output_type": "execute_result"
    }
   ],
   "source": [
    "data1[\"subject\"][1]"
   ]
  },
  {
   "cell_type": "code",
   "execution_count": 27,
   "id": "9025fb27-0f19-4baf-a8ef-cad57b1125b8",
   "metadata": {},
   "outputs": [],
   "source": [
    "data=[[\"name\",\"email_id\",\"number\"],\n",
    "      [\"sudh\",\"sudh@gmail.com\",916542],\n",
    "      [\"krish\",\"krish@gmail.com\",789543]\n",
    "     ]"
   ]
  },
  {
   "cell_type": "code",
   "execution_count": 28,
   "id": "589f0545-8d6f-4ea6-8daf-f945281a2c29",
   "metadata": {},
   "outputs": [],
   "source": [
    "import csv"
   ]
  },
  {
   "cell_type": "code",
   "execution_count": 29,
   "id": "7f4d5023-69e4-4077-9b62-57569550e849",
   "metadata": {},
   "outputs": [],
   "source": [
    "with open(\"test3.csv\",\"w\") as f:\n",
    "    w=csv.writer(f)\n",
    "    for i in data:\n",
    "        w.writerow(i)"
   ]
  },
  {
   "cell_type": "code",
   "execution_count": 30,
   "id": "e0f2eb88-33d1-4681-9211-073e581b17b6",
   "metadata": {},
   "outputs": [
    {
     "name": "stdout",
     "output_type": "stream",
     "text": [
      "['name', 'email_id', 'number']\n",
      "['sudh', 'sudh@gmail.com', '916542']\n",
      "['krish', 'krish@gmail.com', '789543']\n"
     ]
    }
   ],
   "source": [
    "with open(\"test3.csv\",\"r\") as f:\n",
    "    read=csv.reader(f)\n",
    "    for i in read:\n",
    "        print(i)"
   ]
  },
  {
   "cell_type": "code",
   "execution_count": 31,
   "id": "2f8f1108-8ddc-497c-8dbe-27cbb577af5e",
   "metadata": {},
   "outputs": [],
   "source": [
    "with open(\"test4.bin\",\"wb\") as f:\n",
    "    f.write(b\"\\x01\\x02\\x03\")"
   ]
  },
  {
   "cell_type": "code",
   "execution_count": 32,
   "id": "4155d7e5-c13d-43ac-a1c8-69846d2c4f19",
   "metadata": {},
   "outputs": [
    {
     "name": "stdout",
     "output_type": "stream",
     "text": [
      "b'\\x01\\x02\\x03'\n"
     ]
    }
   ],
   "source": [
    "with open(\"test4.bin\",\"rb\")as f:\n",
    "    print(f.read())"
   ]
  },
  {
   "cell_type": "code",
   "execution_count": 33,
   "id": "dad2d300-bcbb-4fb0-9f81-b7c19d6ac5eb",
   "metadata": {},
   "outputs": [],
   "source": [
    "import io"
   ]
  },
  {
   "cell_type": "code",
   "execution_count": 34,
   "id": "47711bbd-2292-4fd4-a20d-81a3705fcb7c",
   "metadata": {},
   "outputs": [],
   "source": [
    "with open(\"test.txt\",\"wb\") as f:\n",
    "    file=io.BufferedWriter(f)\n",
    "    file.write(b\"this is my buffer write\\n\")\n",
    "    file.write(b\"this is my second line that i am trying to write\")\n",
    "    file.flush()"
   ]
  },
  {
   "cell_type": "code",
   "execution_count": 35,
   "id": "bbec66bc-88fc-4e76-8b37-28c7c8374115",
   "metadata": {},
   "outputs": [],
   "source": [
    "with open(\"test.txt\",\"rb\") as f:\n",
    "    file=io.BufferedReader(f)\n",
    "    "
   ]
  },
  {
   "cell_type": "code",
   "execution_count": 36,
   "id": "41717fb1-d140-4f09-a433-13b152874c40",
   "metadata": {},
   "outputs": [],
   "source": [
    "import logging"
   ]
  },
  {
   "cell_type": "code",
   "execution_count": 37,
   "id": "048ac778-dae6-4e5d-82a7-8aa9307cdfd9",
   "metadata": {},
   "outputs": [],
   "source": [
    "logging.basicConfig(filename=\"test.log\",level=logging.INFO)"
   ]
  },
  {
   "cell_type": "code",
   "execution_count": 38,
   "id": "bba4f374-74c1-4f47-9bc7-11c3d73c9d31",
   "metadata": {},
   "outputs": [],
   "source": [
    "logging.info(\"this is my line of execution\")"
   ]
  },
  {
   "cell_type": "code",
   "execution_count": 39,
   "id": "045783fd-5584-4be4-8d23-a3a9ec6b0917",
   "metadata": {},
   "outputs": [],
   "source": [
    "logging.error(\"this is my error\")"
   ]
  },
  {
   "cell_type": "code",
   "execution_count": 40,
   "id": "7b30a5be-61e3-4497-bbc2-3a627444e97b",
   "metadata": {},
   "outputs": [],
   "source": [
    "logging.critical(\"this is my critical\")"
   ]
  },
  {
   "cell_type": "code",
   "execution_count": 41,
   "id": "ec62eb81-b681-4f46-8339-0e91298eb4fd",
   "metadata": {},
   "outputs": [],
   "source": [
    "logging.warning(\"this is my warning\")"
   ]
  },
  {
   "cell_type": "code",
   "execution_count": 42,
   "id": "eef46adc-1539-40d7-abef-eb6da1f50f3e",
   "metadata": {},
   "outputs": [],
   "source": [
    "logging.debug(\"this is my info realted to debug\")"
   ]
  },
  {
   "cell_type": "code",
   "execution_count": 43,
   "id": "e1f267a2-fa48-4352-baab-11dbfeaa3e32",
   "metadata": {},
   "outputs": [
    {
     "ename": "AttributeError",
     "evalue": "module 'logging' has no attribute 'noset'",
     "output_type": "error",
     "traceback": [
      "\u001b[0;31m---------------------------------------------------------------------------\u001b[0m",
      "\u001b[0;31mAttributeError\u001b[0m                            Traceback (most recent call last)",
      "Cell \u001b[0;32mIn[43], line 1\u001b[0m\n\u001b[0;32m----> 1\u001b[0m \u001b[43mlogging\u001b[49m\u001b[38;5;241;43m.\u001b[39;49m\u001b[43mnoset\u001b[49m(\u001b[38;5;124m\"\u001b[39m\u001b[38;5;124mthis is my noset related log\u001b[39m\u001b[38;5;124m\"\u001b[39m)\n",
      "\u001b[0;31mAttributeError\u001b[0m: module 'logging' has no attribute 'noset'"
     ]
    }
   ],
   "source": [
    "logging.noset(\"this is my noset related log\")"
   ]
  },
  {
   "cell_type": "markdown",
   "id": "4a1ae5e1-9e1b-442a-9083-9011a015e8d3",
   "metadata": {},
   "source": [
    "1. NOSET\n",
    "2. DEBUG\n",
    "3. INFO\n",
    "4. ERROR\n",
    "5. CRITICAL"
   ]
  },
  {
   "cell_type": "code",
   "execution_count": 44,
   "id": "dc465ffe-efb6-4a18-9f18-02729cb48765",
   "metadata": {},
   "outputs": [],
   "source": [
    "logging.basicConfig(filename=\"test1.log\",level=logging.DEBUG,format='%(asctime)s %(message)s')"
   ]
  },
  {
   "cell_type": "code",
   "execution_count": 45,
   "id": "7c0d3359-fc97-4977-940f-021430c413cc",
   "metadata": {},
   "outputs": [],
   "source": [
    "logging.info(\"this is my info log\")"
   ]
  },
  {
   "cell_type": "code",
   "execution_count": 46,
   "id": "426dc930-5959-4985-b150-71c96a642778",
   "metadata": {},
   "outputs": [],
   "source": [
    "logging.debug(\"this is my debug log\")"
   ]
  },
  {
   "cell_type": "code",
   "execution_count": 47,
   "id": "5d4cff84-438f-4478-8c79-5c1d8ef656f1",
   "metadata": {},
   "outputs": [],
   "source": [
    "logging.warning(\"this is my warning\")"
   ]
  },
  {
   "cell_type": "code",
   "execution_count": 48,
   "id": "6437d458-f730-450a-99e1-e486b207efc3",
   "metadata": {},
   "outputs": [],
   "source": [
    "logging.shutdown()"
   ]
  },
  {
   "cell_type": "code",
   "execution_count": 49,
   "id": "13b41c0d-ea71-4cdc-a187-68e1ce50ed7f",
   "metadata": {},
   "outputs": [],
   "source": [
    "logging.basicConfig(filename=\"test3.log\",level=logging.DEBUG,format=' %(asctime)s %(name)s %(levelname)s %(message)s')"
   ]
  },
  {
   "cell_type": "code",
   "execution_count": 50,
   "id": "4480aae1-994a-4a36-a1f0-efe7d566849c",
   "metadata": {},
   "outputs": [],
   "source": [
    "logging.info(\"this is my info log\")"
   ]
  },
  {
   "cell_type": "code",
   "execution_count": 51,
   "id": "8e10a620-276c-496a-9e14-31fe9526d2e2",
   "metadata": {},
   "outputs": [],
   "source": [
    "l=[1,2,3,4,[4,5,6],\"sudh\",\"kumar\"]"
   ]
  },
  {
   "cell_type": "code",
   "execution_count": 52,
   "id": "b98aa315-67ba-472f-aafb-9977cf6866e9",
   "metadata": {},
   "outputs": [],
   "source": [
    "l1_int=[]\n",
    "l2_str=[]\n",
    "for i in l:\n",
    "    logging.info(\"this is the start of my first for loop {}\".format(l))\n",
    "    logging.info(\"this is the value of i am logging {}\".format(i))\n",
    "    if(type(i))==list:\n",
    "        for j in i:\n",
    "            logging.info(\"loggin my j {j} and i is {i}\".format(i = i,j = j))\n",
    "            if type(j) == int :\n",
    "                l1_int.append(j)\n",
    "    elif type(i) == int:\n",
    "        l1_int.append(i)\n",
    "    else:\n",
    "        if type(i) == str:\n",
    "            l2_str.append(i)\n",
    "logging.info(\"this is my final result with all int {l1} , with all str {l2}\".format(l1=l1_int,l2=l2_str))"
   ]
  },
  {
   "cell_type": "code",
   "execution_count": 53,
   "id": "cd32d65c-b392-4813-a88b-eb227e764dfb",
   "metadata": {},
   "outputs": [
    {
     "data": {
      "text/plain": [
       "[1, 2, 3, 4, 4, 5, 6]"
      ]
     },
     "execution_count": 53,
     "metadata": {},
     "output_type": "execute_result"
    }
   ],
   "source": [
    "l1_int"
   ]
  },
  {
   "cell_type": "code",
   "execution_count": 54,
   "id": "dbe854a9-198d-46db-ae1b-0cc2d0342412",
   "metadata": {},
   "outputs": [
    {
     "data": {
      "text/plain": [
       "['sudh', 'kumar']"
      ]
     },
     "execution_count": 54,
     "metadata": {},
     "output_type": "execute_result"
    }
   ],
   "source": [
    "l2_str"
   ]
  },
  {
   "cell_type": "code",
   "execution_count": null,
   "id": "f25c6182-5409-45d5-9e2f-07bc12f7f197",
   "metadata": {},
   "outputs": [],
   "source": []
  }
 ],
 "metadata": {
  "kernelspec": {
   "display_name": "Python 3 (ipykernel)",
   "language": "python",
   "name": "python3"
  },
  "language_info": {
   "codemirror_mode": {
    "name": "ipython",
    "version": 3
   },
   "file_extension": ".py",
   "mimetype": "text/x-python",
   "name": "python",
   "nbconvert_exporter": "python",
   "pygments_lexer": "ipython3",
   "version": "3.10.8"
  }
 },
 "nbformat": 4,
 "nbformat_minor": 5
}
