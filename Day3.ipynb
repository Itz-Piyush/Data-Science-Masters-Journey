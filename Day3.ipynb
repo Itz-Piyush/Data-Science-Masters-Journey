{
 "cells": [
  {
   "cell_type": "markdown",
   "id": "effe270d-145f-4ec7-81c1-4a301bc8b4d8",
   "metadata": {},
   "source": [
    "## Logical Operators\n",
    "1. And\n",
    "2. or\n",
    "3. Not"
   ]
  },
  {
   "cell_type": "code",
   "execution_count": 2,
   "id": "af082d4c-e424-4566-85cf-ce51afa921bc",
   "metadata": {},
   "outputs": [],
   "source": [
    "## A  B  AND  OR \n",
    "## 0  0   0   0\n",
    "## 0  1   0   1\n",
    "## 1  0   0   1\n",
    "## 1  1   1   1"
   ]
  },
  {
   "cell_type": "code",
   "execution_count": 3,
   "id": "095dbdd5-77ed-4064-9e1d-d62190049f52",
   "metadata": {},
   "outputs": [],
   "source": [
    "## NOT\n",
    "##  0->1\n",
    "##  1->0"
   ]
  },
  {
   "cell_type": "code",
   "execution_count": 4,
   "id": "c93b9389-eff8-484d-8b03-ed295ef82cd0",
   "metadata": {},
   "outputs": [
    {
     "data": {
      "text/plain": [
       "True"
      ]
     },
     "execution_count": 4,
     "metadata": {},
     "output_type": "execute_result"
    }
   ],
   "source": [
    "True and True"
   ]
  },
  {
   "cell_type": "code",
   "execution_count": 5,
   "id": "2aef188e-d367-4e30-bebb-ef026a89b30a",
   "metadata": {},
   "outputs": [
    {
     "data": {
      "text/plain": [
       "False"
      ]
     },
     "execution_count": 5,
     "metadata": {},
     "output_type": "execute_result"
    }
   ],
   "source": [
    "True and False"
   ]
  },
  {
   "cell_type": "code",
   "execution_count": 6,
   "id": "abbcd4d5-b8f2-4e89-b324-cc83094aa9da",
   "metadata": {},
   "outputs": [
    {
     "data": {
      "text/plain": [
       "True"
      ]
     },
     "execution_count": 6,
     "metadata": {},
     "output_type": "execute_result"
    }
   ],
   "source": [
    "True or False\n"
   ]
  },
  {
   "cell_type": "code",
   "execution_count": 7,
   "id": "40178f8b-a8b5-4c3f-a127-a3b804bad875",
   "metadata": {},
   "outputs": [
    {
     "data": {
      "text/plain": [
       "False"
      ]
     },
     "execution_count": 7,
     "metadata": {},
     "output_type": "execute_result"
    }
   ],
   "source": [
    "not True"
   ]
  },
  {
   "cell_type": "code",
   "execution_count": 8,
   "id": "2f0340f9-c143-41e7-b694-51548789f07b",
   "metadata": {},
   "outputs": [
    {
     "data": {
      "text/plain": [
       "True"
      ]
     },
     "execution_count": 8,
     "metadata": {},
     "output_type": "execute_result"
    }
   ],
   "source": [
    "not False"
   ]
  },
  {
   "cell_type": "code",
   "execution_count": 9,
   "id": "db886745-169f-4fcb-aeb0-d87e0b1bb2dd",
   "metadata": {},
   "outputs": [
    {
     "data": {
      "text/plain": [
       "False"
      ]
     },
     "execution_count": 9,
     "metadata": {},
     "output_type": "execute_result"
    }
   ],
   "source": [
    "bool(0)\n"
   ]
  },
  {
   "cell_type": "code",
   "execution_count": 10,
   "id": "66248ad2-ddb1-4cf0-bd37-cd94b5d760c3",
   "metadata": {},
   "outputs": [
    {
     "data": {
      "text/plain": [
       "True"
      ]
     },
     "execution_count": 10,
     "metadata": {},
     "output_type": "execute_result"
    }
   ],
   "source": [
    "not bool(0)"
   ]
  },
  {
   "cell_type": "code",
   "execution_count": 11,
   "id": "f730e42c-e0a6-46b2-aa41-c9746d13a6b8",
   "metadata": {},
   "outputs": [
    {
     "data": {
      "text/plain": [
       "False"
      ]
     },
     "execution_count": 11,
     "metadata": {},
     "output_type": "execute_result"
    }
   ],
   "source": [
    "not -1"
   ]
  },
  {
   "cell_type": "code",
   "execution_count": 12,
   "id": "b63d53e7-743f-423a-9594-5873e312d174",
   "metadata": {},
   "outputs": [
    {
     "data": {
      "text/plain": [
       "False"
      ]
     },
     "execution_count": 12,
     "metadata": {},
     "output_type": "execute_result"
    }
   ],
   "source": [
    "not -2"
   ]
  },
  {
   "cell_type": "code",
   "execution_count": 13,
   "id": "1aa21ec6-814b-4785-92b5-ffedfe928681",
   "metadata": {},
   "outputs": [
    {
     "data": {
      "text/plain": [
       "True"
      ]
     },
     "execution_count": 13,
     "metadata": {},
     "output_type": "execute_result"
    }
   ],
   "source": [
    "not 0"
   ]
  },
  {
   "cell_type": "code",
   "execution_count": 14,
   "id": "cc39b960-fd7e-46c3-af57-2cf5d9279c9c",
   "metadata": {},
   "outputs": [
    {
     "data": {
      "text/plain": [
       "False"
      ]
     },
     "execution_count": 14,
     "metadata": {},
     "output_type": "execute_result"
    }
   ],
   "source": [
    "not 1000"
   ]
  },
  {
   "cell_type": "code",
   "execution_count": 15,
   "id": "24f7e4e5-b244-4edb-aa57-afd1a7a379b6",
   "metadata": {},
   "outputs": [
    {
     "data": {
      "text/plain": [
       "True"
      ]
     },
     "execution_count": 15,
     "metadata": {},
     "output_type": "execute_result"
    }
   ],
   "source": [
    "bool(-5)"
   ]
  },
  {
   "cell_type": "markdown",
   "id": "89b0351c-8b81-4595-81a8-b2e547cf8115",
   "metadata": {},
   "source": [
    "## Logical And"
   ]
  },
  {
   "cell_type": "code",
   "execution_count": 17,
   "id": "31690522-d7ac-411b-b2b5-53c2bbaf56de",
   "metadata": {},
   "outputs": [
    {
     "name": "stdout",
     "output_type": "stream",
     "text": [
      "True\n",
      "False\n",
      "False\n"
     ]
    }
   ],
   "source": [
    "a=True\n",
    "b=False\n",
    "c=a and b\n",
    "print(a)\n",
    "print(b)\n",
    "print(c)"
   ]
  },
  {
   "cell_type": "code",
   "execution_count": 18,
   "id": "1cfb62ae-99d6-4617-b0be-1cb3ce5c935b",
   "metadata": {},
   "outputs": [
    {
     "data": {
      "text/plain": [
       "0"
      ]
     },
     "execution_count": 18,
     "metadata": {},
     "output_type": "execute_result"
    }
   ],
   "source": [
    "False * True"
   ]
  },
  {
   "cell_type": "code",
   "execution_count": 19,
   "id": "9e3c04b9-3fdd-4a8a-a06d-1acc0aa8d445",
   "metadata": {},
   "outputs": [
    {
     "data": {
      "text/plain": [
       "True"
      ]
     },
     "execution_count": 19,
     "metadata": {},
     "output_type": "execute_result"
    }
   ],
   "source": [
    "not(False) * True"
   ]
  },
  {
   "cell_type": "code",
   "execution_count": 20,
   "id": "cacb0455-15d5-4900-8463-9a9aaaade427",
   "metadata": {},
   "outputs": [
    {
     "data": {
      "text/plain": [
       "0"
      ]
     },
     "execution_count": 20,
     "metadata": {},
     "output_type": "execute_result"
    }
   ],
   "source": [
    "False * (not(False))"
   ]
  },
  {
   "cell_type": "code",
   "execution_count": 21,
   "id": "c2abdc15-621f-4556-821d-4a8c7b3465f0",
   "metadata": {},
   "outputs": [
    {
     "data": {
      "text/plain": [
       "True"
      ]
     },
     "execution_count": 21,
     "metadata": {},
     "output_type": "execute_result"
    }
   ],
   "source": [
    "not(False) * False"
   ]
  },
  {
   "cell_type": "code",
   "execution_count": 25,
   "id": "13dec4a7-d623-4358-826c-58e9b9f82813",
   "metadata": {},
   "outputs": [
    {
     "name": "stdin",
     "output_type": "stream",
     "text": [
      "enter the equation: 7 * 2%5 - 9\n"
     ]
    },
    {
     "name": "stdout",
     "output_type": "stream",
     "text": [
      "-5\n"
     ]
    }
   ],
   "source": [
    "## one line calculator\n",
    "value=print(eval(input(\"enter the equation:\")))"
   ]
  },
  {
   "cell_type": "markdown",
   "id": "0c04a6c9-87f1-4fe0-9270-7feccbed1d98",
   "metadata": {},
   "source": [
    "### 4.1.2 Equality Operators\n",
    "\n",
    "Following operations are present in python for equlity check operation-\n",
    "\n",
    "|Operators|Meaning|\n",
    "|-|-|\n",
    "|**is**|***a is b*** returns true if variable/identifiers a and b *points* to the *same object*|\n",
    "|**is not**|***a is not b*** returns true if variable/identifiers a and b *points* to the *different object*|\n",
    "|**==**|***a == b*** returns true if variable/identifiers a and b has same value|\n",
    "|**!=**|***a != b*** returns true if variable/identifiers a and b has different value|\n"
   ]
  },
  {
   "cell_type": "code",
   "execution_count": 26,
   "id": "8e85fa5f-6974-45c0-b40b-31ab55bda0f6",
   "metadata": {},
   "outputs": [],
   "source": [
    "list_1 =[1,2,3,4]\n",
    "list_2 =[1,2,3,4]"
   ]
  },
  {
   "cell_type": "code",
   "execution_count": 27,
   "id": "cd93ef31-b625-4bda-82ca-ad0944d5cb1c",
   "metadata": {},
   "outputs": [
    {
     "name": "stdout",
     "output_type": "stream",
     "text": [
      "139929837482368\n",
      "139929889708032\n"
     ]
    }
   ],
   "source": [
    "print(id(list_1))\n",
    "print(id(list_2))"
   ]
  },
  {
   "cell_type": "code",
   "execution_count": 28,
   "id": "2c3ee62f-d170-4cf3-8927-a3c6aad008aa",
   "metadata": {},
   "outputs": [
    {
     "name": "stdout",
     "output_type": "stream",
     "text": [
      "139929837579648\n",
      "139929837579648\n"
     ]
    }
   ],
   "source": [
    "list_a=[4,6,7,9]\n",
    "list_b=list_a\n",
    "print(id(list_a))\n",
    "print(id(list_b))"
   ]
  },
  {
   "cell_type": "code",
   "execution_count": 29,
   "id": "0590ea63-eb4a-46a0-9c1b-5e3a7a6b4f3e",
   "metadata": {},
   "outputs": [
    {
     "data": {
      "text/plain": [
       "True"
      ]
     },
     "execution_count": 29,
     "metadata": {},
     "output_type": "execute_result"
    }
   ],
   "source": [
    "list_a is list_b"
   ]
  },
  {
   "cell_type": "code",
   "execution_count": 30,
   "id": "9200a6c1-62f3-4abe-9c79-0cc14476f0eb",
   "metadata": {},
   "outputs": [
    {
     "data": {
      "text/plain": [
       "False"
      ]
     },
     "execution_count": 30,
     "metadata": {},
     "output_type": "execute_result"
    }
   ],
   "source": [
    "list_a is not list_b"
   ]
  },
  {
   "cell_type": "code",
   "execution_count": 31,
   "id": "519cb653-9cc1-4860-a6d5-19d4e655e03e",
   "metadata": {},
   "outputs": [
    {
     "data": {
      "text/plain": [
       "True"
      ]
     },
     "execution_count": 31,
     "metadata": {},
     "output_type": "execute_result"
    }
   ],
   "source": [
    "list_a==list_b"
   ]
  },
  {
   "cell_type": "code",
   "execution_count": 32,
   "id": "c28588c7-012d-4d1f-b689-15f164e0c1ca",
   "metadata": {},
   "outputs": [
    {
     "data": {
      "text/plain": [
       "False"
      ]
     },
     "execution_count": 32,
     "metadata": {},
     "output_type": "execute_result"
    }
   ],
   "source": [
    "list_a!=list_b"
   ]
  },
  {
   "cell_type": "code",
   "execution_count": 33,
   "id": "0102db94-86d6-46da-8224-ef11c55df8ca",
   "metadata": {},
   "outputs": [
    {
     "name": "stdout",
     "output_type": "stream",
     "text": [
      "139929938362800\n",
      "139929938362800\n"
     ]
    }
   ],
   "source": [
    "a=7\n",
    "b=7\n",
    "print(id(a))\n",
    "print(id(b))"
   ]
  },
  {
   "cell_type": "code",
   "execution_count": 34,
   "id": "a9cf7ca4-70d6-473e-a47e-3a6cc8132c07",
   "metadata": {},
   "outputs": [
    {
     "name": "stdout",
     "output_type": "stream",
     "text": [
      "139929837611696\n",
      "139929837611696\n"
     ]
    }
   ],
   "source": [
    "str_1=\"piyush\"\n",
    "str_2=\"piyush\"\n",
    "print(id(str_1))\n",
    "print(id(str_2))"
   ]
  },
  {
   "cell_type": "code",
   "execution_count": 35,
   "id": "b5abf0c6-9f5c-42e9-983e-7ad6d06930ab",
   "metadata": {},
   "outputs": [
    {
     "data": {
      "text/plain": [
       "[1, 2, 3, 4]"
      ]
     },
     "execution_count": 35,
     "metadata": {},
     "output_type": "execute_result"
    }
   ],
   "source": [
    "list_1"
   ]
  },
  {
   "cell_type": "code",
   "execution_count": 36,
   "id": "3b53f71d-c42e-4c91-82dd-b7e74a74e1c1",
   "metadata": {},
   "outputs": [
    {
     "data": {
      "text/plain": [
       "4"
      ]
     },
     "execution_count": 36,
     "metadata": {},
     "output_type": "execute_result"
    }
   ],
   "source": [
    "list_1[3]"
   ]
  },
  {
   "cell_type": "code",
   "execution_count": 43,
   "id": "77e622b5-48ab-49b0-b9f9-d1fa2609f936",
   "metadata": {},
   "outputs": [],
   "source": [
    "#mutable\n",
    "list_1[3]=10"
   ]
  },
  {
   "cell_type": "code",
   "execution_count": 38,
   "id": "2db35d0b-f94d-49f6-acb7-0984232390d4",
   "metadata": {},
   "outputs": [
    {
     "data": {
      "text/plain": [
       "[1, 2, 3, 10]"
      ]
     },
     "execution_count": 38,
     "metadata": {},
     "output_type": "execute_result"
    }
   ],
   "source": [
    "list_1"
   ]
  },
  {
   "cell_type": "code",
   "execution_count": 39,
   "id": "d8a40a6f-2d7d-43dd-a7ad-bcf82f5fd68b",
   "metadata": {},
   "outputs": [
    {
     "data": {
      "text/plain": [
       "'piyush'"
      ]
     },
     "execution_count": 39,
     "metadata": {},
     "output_type": "execute_result"
    }
   ],
   "source": [
    "str_1"
   ]
  },
  {
   "cell_type": "code",
   "execution_count": 40,
   "id": "2495df32-158d-4548-8b7b-3d5d31fbc33a",
   "metadata": {},
   "outputs": [
    {
     "data": {
      "text/plain": [
       "'y'"
      ]
     },
     "execution_count": 40,
     "metadata": {},
     "output_type": "execute_result"
    }
   ],
   "source": [
    "str_1[2]\n"
   ]
  },
  {
   "cell_type": "code",
   "execution_count": 45,
   "id": "0eaf06e8-6abb-4048-8fad-f3aa4abf40c6",
   "metadata": {},
   "outputs": [
    {
     "ename": "TypeError",
     "evalue": "'str' object does not support item assignment",
     "output_type": "error",
     "traceback": [
      "\u001b[0;31m---------------------------------------------------------------------------\u001b[0m",
      "\u001b[0;31mTypeError\u001b[0m                                 Traceback (most recent call last)",
      "Cell \u001b[0;32mIn[45], line 2\u001b[0m\n\u001b[1;32m      1\u001b[0m \u001b[38;5;66;03m# non_mutable or immutable\u001b[39;00m\n\u001b[0;32m----> 2\u001b[0m \u001b[43mstr_1\u001b[49m\u001b[43m[\u001b[49m\u001b[38;5;241;43m2\u001b[39;49m\u001b[43m]\u001b[49m\u001b[38;5;241m=\u001b[39m\u001b[38;5;124m\"\u001b[39m\u001b[38;5;124mh\u001b[39m\u001b[38;5;124m\"\u001b[39m\n",
      "\u001b[0;31mTypeError\u001b[0m: 'str' object does not support item assignment"
     ]
    }
   ],
   "source": [
    "# non_mutable or immutable\n",
    "str_1[2]=\"h\""
   ]
  },
  {
   "cell_type": "markdown",
   "id": "74447e7d-db6b-46bd-b441-97a0b0511954",
   "metadata": {},
   "source": [
    "## Comparison operators\n"
   ]
  },
  {
   "cell_type": "markdown",
   "id": "14e42281-bef4-4ac1-82ed-57fe3774c37e",
   "metadata": {},
   "source": [
    "|Operation|Meaning|\n",
    "|:-:|:-:|\n",
    "| **<** |less than|\n",
    "| **<=** |less than or equal to|\n",
    "| **>** |greater than|\n",
    "| **>=** |greater than or equal to|\n",
    "\n"
   ]
  },
  {
   "cell_type": "code",
   "execution_count": 46,
   "id": "aabba200-7132-4c61-9042-430720da5377",
   "metadata": {},
   "outputs": [
    {
     "name": "stdout",
     "output_type": "stream",
     "text": [
      "True\n",
      "False\n",
      "True\n",
      "False\n"
     ]
    }
   ],
   "source": [
    "a=10\n",
    "b=20\n",
    "print(a<b)\n",
    "print(a>b)\n",
    "print(a<=b)\n",
    "print(a>=b)"
   ]
  },
  {
   "cell_type": "markdown",
   "id": "140990d6-7d39-4b3a-8eb2-985c7ea68e2a",
   "metadata": {},
   "source": [
    "## Arithmetic operations\n",
    "|operation|Meaning|\n",
    "|:-:|:-:|\n",
    "| **+** |addition|\n",
    "| **-** |subtraction|\n",
    "| **\\*** |multiplication|\n",
    "| **/** |division|\n",
    "| **//** |floor division|\n",
    "| **%** |the modulo operation|"
   ]
  },
  {
   "cell_type": "code",
   "execution_count": 48,
   "id": "81ee2589-9593-4348-b721-07de403bce06",
   "metadata": {},
   "outputs": [
    {
     "name": "stdin",
     "output_type": "stream",
     "text": [
      "enter value first:- 45\n",
      "enter second value:- 68\n"
     ]
    },
    {
     "name": "stdout",
     "output_type": "stream",
     "text": [
      "113\n",
      "-23\n",
      "3060\n",
      "0.6617647058823529\n",
      "0\n",
      "45\n"
     ]
    }
   ],
   "source": [
    "a=int(input(\"enter value first:-\"))\n",
    "b=int(input(\"enter second value:-\"))\n",
    "print(a+b)\n",
    "print(a-b)\n",
    "print(a*b)\n",
    "print(a/b)\n",
    "print(a//b)\n",
    "print(a%b) # display the remainder\n",
    "      "
   ]
  },
  {
   "cell_type": "markdown",
   "id": "b6585a87-0b14-481d-9bd8-7473f396b315",
   "metadata": {},
   "source": [
    "### Bitwise Operators\n",
    "|Operation|Meaning|\n",
    "|:-:|:-:|\n",
    "| **∼** |bitwise complement (prefix unary operator)|\n",
    "| **&** |bitwise and|\n",
    "| **\\|** |bitwise or|\n",
    "| **^** |bitwise exclusive-or|\n",
    "| **<<** |shift bits left, filling in with zeros|\n",
    "| **>>** |shift bits right, filling in with sign bit|\n"
   ]
  },
  {
   "cell_type": "code",
   "execution_count": 49,
   "id": "a97f51cb-1422-4ea2-bbaf-15c28c725192",
   "metadata": {},
   "outputs": [
    {
     "data": {
      "text/plain": [
       "'0b101'"
      ]
     },
     "execution_count": 49,
     "metadata": {},
     "output_type": "execute_result"
    }
   ],
   "source": [
    "var=5\n",
    "bin(var)"
   ]
  },
  {
   "cell_type": "code",
   "execution_count": 51,
   "id": "07c2b664-6b59-48df-8ecb-6738fe5c148e",
   "metadata": {},
   "outputs": [
    {
     "data": {
      "text/plain": [
       "-6"
      ]
     },
     "execution_count": 51,
     "metadata": {},
     "output_type": "execute_result"
    }
   ],
   "source": [
    "~var ## It is unary and has the effect of 'flipping' bits.\n",
    "## (~a ) = -61 (means 1100 0011 in 2's complement form due to a signed binary number."
   ]
  },
  {
   "cell_type": "code",
   "execution_count": 52,
   "id": "a6e8ec12-ceb5-48d1-bf63-2da72336ee44",
   "metadata": {},
   "outputs": [
    {
     "data": {
      "text/plain": [
       "True"
      ]
     },
     "execution_count": 52,
     "metadata": {},
     "output_type": "execute_result"
    }
   ],
   "source": [
    "True | False"
   ]
  },
  {
   "cell_type": "code",
   "execution_count": 53,
   "id": "4e1d5bea-9403-47ac-84ef-f8647515b33b",
   "metadata": {},
   "outputs": [
    {
     "data": {
      "text/plain": [
       "False"
      ]
     },
     "execution_count": 53,
     "metadata": {},
     "output_type": "execute_result"
    }
   ],
   "source": [
    "True & False"
   ]
  },
  {
   "cell_type": "code",
   "execution_count": 56,
   "id": "4a20d8b1-3741-48fb-9791-1471e2f806f9",
   "metadata": {},
   "outputs": [
    {
     "data": {
      "text/plain": [
       "3"
      ]
     },
     "execution_count": 56,
     "metadata": {},
     "output_type": "execute_result"
    }
   ],
   "source": [
    "a=5\n",
    "b=6\n",
    "a^b"
   ]
  },
  {
   "cell_type": "code",
   "execution_count": 57,
   "id": "e3629eb6-ac2e-40f0-8be7-5d2f991f4a63",
   "metadata": {},
   "outputs": [
    {
     "data": {
      "text/plain": [
       "1"
      ]
     },
     "execution_count": 57,
     "metadata": {},
     "output_type": "execute_result"
    }
   ],
   "source": [
    "a=3\n",
    "a>>1 ## a = \"011\" in binary if a >> 1 so a = \"01\""
   ]
  },
  {
   "cell_type": "code",
   "execution_count": 58,
   "id": "5f678d23-8ddf-424f-afc2-7c7b99e57b39",
   "metadata": {},
   "outputs": [
    {
     "data": {
      "text/plain": [
       "6"
      ]
     },
     "execution_count": 58,
     "metadata": {},
     "output_type": "execute_result"
    }
   ],
   "source": [
    "a<<1 # a = \"11\" in binary if we do left shift a << 1 so a = \"110\""
   ]
  },
  {
   "cell_type": "markdown",
   "id": "944c0aad-c1e4-47e6-936b-d11d22b02696",
   "metadata": {},
   "source": [
    "## Strings"
   ]
  },
  {
   "cell_type": "code",
   "execution_count": 60,
   "id": "4d4ae75c-9f55-4bab-a4c0-0550d444b1aa",
   "metadata": {},
   "outputs": [
    {
     "data": {
      "text/plain": [
       "'welcome to Data Science Masters'"
      ]
     },
     "execution_count": 60,
     "metadata": {},
     "output_type": "execute_result"
    }
   ],
   "source": [
    "\n",
    "\"welcome to Data Science Masters\""
   ]
  },
  {
   "cell_type": "code",
   "execution_count": 61,
   "id": "d95ab357-8ce7-436d-9eee-bfab2c58fcc3",
   "metadata": {},
   "outputs": [],
   "source": [
    "str1=\"welcome to data science masters\""
   ]
  },
  {
   "cell_type": "code",
   "execution_count": 62,
   "id": "694d816f-87e9-4c4f-bf22-c20086573d82",
   "metadata": {},
   "outputs": [],
   "source": [
    "str1=\"piyush\""
   ]
  },
  {
   "cell_type": "code",
   "execution_count": 64,
   "id": "4f39b716-2ea4-4ef6-8885-be339bc06270",
   "metadata": {},
   "outputs": [
    {
     "data": {
      "text/plain": [
       "'piyush'"
      ]
     },
     "execution_count": 64,
     "metadata": {},
     "output_type": "execute_result"
    }
   ],
   "source": [
    "str1"
   ]
  },
  {
   "cell_type": "code",
   "execution_count": 67,
   "id": "a84d24ab-dbe9-41df-bbfc-f5d9ca22db18",
   "metadata": {},
   "outputs": [
    {
     "data": {
      "text/plain": [
       "['__add__',\n",
       " '__class__',\n",
       " '__contains__',\n",
       " '__delattr__',\n",
       " '__dir__',\n",
       " '__doc__',\n",
       " '__eq__',\n",
       " '__format__',\n",
       " '__ge__',\n",
       " '__getattribute__',\n",
       " '__getitem__',\n",
       " '__getnewargs__',\n",
       " '__gt__',\n",
       " '__hash__',\n",
       " '__init__',\n",
       " '__init_subclass__',\n",
       " '__iter__',\n",
       " '__le__',\n",
       " '__len__',\n",
       " '__lt__',\n",
       " '__mod__',\n",
       " '__mul__',\n",
       " '__ne__',\n",
       " '__new__',\n",
       " '__reduce__',\n",
       " '__reduce_ex__',\n",
       " '__repr__',\n",
       " '__rmod__',\n",
       " '__rmul__',\n",
       " '__setattr__',\n",
       " '__sizeof__',\n",
       " '__str__',\n",
       " '__subclasshook__',\n",
       " 'capitalize',\n",
       " 'casefold',\n",
       " 'center',\n",
       " 'count',\n",
       " 'encode',\n",
       " 'endswith',\n",
       " 'expandtabs',\n",
       " 'find',\n",
       " 'format',\n",
       " 'format_map',\n",
       " 'index',\n",
       " 'isalnum',\n",
       " 'isalpha',\n",
       " 'isascii',\n",
       " 'isdecimal',\n",
       " 'isdigit',\n",
       " 'isidentifier',\n",
       " 'islower',\n",
       " 'isnumeric',\n",
       " 'isprintable',\n",
       " 'isspace',\n",
       " 'istitle',\n",
       " 'isupper',\n",
       " 'join',\n",
       " 'ljust',\n",
       " 'lower',\n",
       " 'lstrip',\n",
       " 'maketrans',\n",
       " 'partition',\n",
       " 'removeprefix',\n",
       " 'removesuffix',\n",
       " 'replace',\n",
       " 'rfind',\n",
       " 'rindex',\n",
       " 'rjust',\n",
       " 'rpartition',\n",
       " 'rsplit',\n",
       " 'rstrip',\n",
       " 'split',\n",
       " 'splitlines',\n",
       " 'startswith',\n",
       " 'strip',\n",
       " 'swapcase',\n",
       " 'title',\n",
       " 'translate',\n",
       " 'upper',\n",
       " 'zfill']"
      ]
     },
     "execution_count": 67,
     "metadata": {},
     "output_type": "execute_result"
    }
   ],
   "source": [
    "welcome=\"Hello World\"\n",
    "dir(welcome)## in-built functions"
   ]
  },
  {
   "cell_type": "code",
   "execution_count": 2,
   "id": "d98cd276-a82b-467d-949b-07d1bed056a4",
   "metadata": {},
   "outputs": [],
   "source": [
    "str1=\"Computer Science Engineer\""
   ]
  },
  {
   "cell_type": "code",
   "execution_count": 3,
   "id": "f7f67779-08de-4051-a751-c37ced24433a",
   "metadata": {},
   "outputs": [
    {
     "data": {
      "text/plain": [
       "'t'"
      ]
     },
     "execution_count": 3,
     "metadata": {},
     "output_type": "execute_result"
    }
   ],
   "source": [
    "str1[5]"
   ]
  },
  {
   "cell_type": "code",
   "execution_count": 4,
   "id": "9267ae35-2dba-47e4-b487-9d27c368d5ea",
   "metadata": {},
   "outputs": [
    {
     "data": {
      "text/plain": [
       "'ter Science Engineer'"
      ]
     },
     "execution_count": 4,
     "metadata": {},
     "output_type": "execute_result"
    }
   ],
   "source": [
    "#slice operation\n",
    "str1[5:]"
   ]
  },
  {
   "cell_type": "code",
   "execution_count": 5,
   "id": "8b1053c9-c8c8-4116-9b2c-bcd6717fbb73",
   "metadata": {},
   "outputs": [
    {
     "data": {
      "text/plain": [
       "'ter Scien'"
      ]
     },
     "execution_count": 5,
     "metadata": {},
     "output_type": "execute_result"
    }
   ],
   "source": [
    "str1[5:14]"
   ]
  },
  {
   "cell_type": "code",
   "execution_count": 6,
   "id": "442519ce-b207-40bb-aa2c-ca39a20934ce",
   "metadata": {},
   "outputs": [
    {
     "data": {
      "text/plain": [
       "'r'"
      ]
     },
     "execution_count": 6,
     "metadata": {},
     "output_type": "execute_result"
    }
   ],
   "source": [
    "str1[-1:]"
   ]
  },
  {
   "cell_type": "code",
   "execution_count": 7,
   "id": "2eabdacd-0e43-4184-a2e2-535d9d1da828",
   "metadata": {},
   "outputs": [
    {
     "data": {
      "text/plain": [
       "''"
      ]
     },
     "execution_count": 7,
     "metadata": {},
     "output_type": "execute_result"
    }
   ],
   "source": [
    "str1[-1:-9]"
   ]
  },
  {
   "cell_type": "code",
   "execution_count": 9,
   "id": "c0cd8801-5e3d-4cb6-8ca9-0f6e59b462b3",
   "metadata": {},
   "outputs": [
    {
     "data": {
      "text/plain": [
       "'gin'"
      ]
     },
     "execution_count": 9,
     "metadata": {},
     "output_type": "execute_result"
    }
   ],
   "source": [
    "str1[-6:-3]"
   ]
  },
  {
   "cell_type": "code",
   "execution_count": 10,
   "id": "e2221a5a-4678-4d5f-86ab-10980e5dc9f6",
   "metadata": {},
   "outputs": [
    {
     "data": {
      "text/plain": [
       "'Computer Science Enginee'"
      ]
     },
     "execution_count": 10,
     "metadata": {},
     "output_type": "execute_result"
    }
   ],
   "source": [
    "str1[:-1]"
   ]
  },
  {
   "cell_type": "code",
   "execution_count": 11,
   "id": "3253ac49-1852-4e52-8f0b-5c767a7256d8",
   "metadata": {},
   "outputs": [
    {
     "data": {
      "text/plain": [
       "'reenignE ecneicS retupmoC'"
      ]
     },
     "execution_count": 11,
     "metadata": {},
     "output_type": "execute_result"
    }
   ],
   "source": [
    "str1[::-1]"
   ]
  },
  {
   "cell_type": "code",
   "execution_count": 12,
   "id": "fff95f18-2bd3-49a5-9978-bc60f6234bfa",
   "metadata": {},
   "outputs": [
    {
     "data": {
      "text/plain": [
       "'rein cec eumC'"
      ]
     },
     "execution_count": 12,
     "metadata": {},
     "output_type": "execute_result"
    }
   ],
   "source": [
    "str1[::-2]"
   ]
  },
  {
   "cell_type": "code",
   "execution_count": 14,
   "id": "2d2ddede-2e3d-4448-b9d7-45870f550de0",
   "metadata": {},
   "outputs": [
    {
     "data": {
      "text/plain": [
       "'Cmue cec nier'"
      ]
     },
     "execution_count": 14,
     "metadata": {},
     "output_type": "execute_result"
    }
   ],
   "source": [
    "str1[::2]"
   ]
  },
  {
   "cell_type": "code",
   "execution_count": 15,
   "id": "0664a7e7-ab6e-4af9-b2a3-dfcc47ca7d0a",
   "metadata": {},
   "outputs": [
    {
     "data": {
      "text/plain": [
       "'Computer Science Engineer'"
      ]
     },
     "execution_count": 15,
     "metadata": {},
     "output_type": "execute_result"
    }
   ],
   "source": [
    "str1[::1]\n"
   ]
  },
  {
   "cell_type": "code",
   "execution_count": 23,
   "id": "7432a6ec-78f2-4654-8161-5d125dc3c33c",
   "metadata": {},
   "outputs": [
    {
     "data": {
      "text/plain": [
       "'pt'"
      ]
     },
     "execution_count": 23,
     "metadata": {},
     "output_type": "execute_result"
    }
   ],
   "source": [
    "str1[3:6:2]"
   ]
  },
  {
   "cell_type": "code",
   "execution_count": 24,
   "id": "e2fc5f05-1588-4f83-acb6-0de1fbc913cf",
   "metadata": {},
   "outputs": [],
   "source": [
    "course_name=\"Data Science Masters\""
   ]
  },
  {
   "cell_type": "code",
   "execution_count": 37,
   "id": "a0673e9f-0845-4249-b54f-50245caffac0",
   "metadata": {},
   "outputs": [
    {
     "data": {
      "text/plain": [
       "'Data Science Masterscourse'"
      ]
     },
     "execution_count": 37,
     "metadata": {},
     "output_type": "execute_result"
    }
   ],
   "source": [
    "## concatenation\n",
    "course_name + \"course\""
   ]
  },
  {
   "cell_type": "code",
   "execution_count": 38,
   "id": "794633f8-e118-4c1c-b4c4-d712b238f724",
   "metadata": {},
   "outputs": [
    {
     "data": {
      "text/plain": [
       "'Data Science MastersData Science MastersData Science MastersData Science MastersData Science Masters'"
      ]
     },
     "execution_count": 38,
     "metadata": {},
     "output_type": "execute_result"
    }
   ],
   "source": [
    "course_name*5"
   ]
  },
  {
   "cell_type": "code",
   "execution_count": 39,
   "id": "100f7d0a-92aa-4ab8-9502-b24a998276c7",
   "metadata": {},
   "outputs": [
    {
     "data": {
      "text/plain": [
       "20"
      ]
     },
     "execution_count": 39,
     "metadata": {},
     "output_type": "execute_result"
    }
   ],
   "source": [
    "len(course_name)"
   ]
  },
  {
   "cell_type": "code",
   "execution_count": 40,
   "id": "2172e9d8-2047-4ad4-becd-93d4013ad0ea",
   "metadata": {},
   "outputs": [
    {
     "data": {
      "text/plain": [
       "9"
      ]
     },
     "execution_count": 40,
     "metadata": {},
     "output_type": "execute_result"
    }
   ],
   "source": [
    "## find function\n",
    "course_name.find(\"n\")"
   ]
  },
  {
   "cell_type": "code",
   "execution_count": 41,
   "id": "85b83997-b058-4063-ab49-7561a47c787d",
   "metadata": {},
   "outputs": [
    {
     "data": {
      "text/plain": [
       "3"
      ]
     },
     "execution_count": 41,
     "metadata": {},
     "output_type": "execute_result"
    }
   ],
   "source": [
    "## count()\n",
    "course_name.count('a')"
   ]
  },
  {
   "cell_type": "code",
   "execution_count": 43,
   "id": "c0c8cc23-f504-4f87-aec1-7b8b17fb6d4a",
   "metadata": {},
   "outputs": [
    {
     "data": {
      "text/plain": [
       "2"
      ]
     },
     "execution_count": 43,
     "metadata": {},
     "output_type": "execute_result"
    }
   ],
   "source": [
    "course_name.count(' ')"
   ]
  },
  {
   "cell_type": "code",
   "execution_count": 57,
   "id": "e0a3c065-ad14-402b-9037-3ffc4de5472e",
   "metadata": {},
   "outputs": [
    {
     "data": {
      "text/plain": [
       "21"
      ]
     },
     "execution_count": 57,
     "metadata": {},
     "output_type": "execute_result"
    }
   ],
   "source": [
    "course_name.count('')"
   ]
  },
  {
   "cell_type": "code",
   "execution_count": 45,
   "id": "5ced2039-5554-4f08-86e0-c1595d77890d",
   "metadata": {},
   "outputs": [
    {
     "data": {
      "text/plain": [
       "['Data', 'Science', 'Masters']"
      ]
     },
     "execution_count": 45,
     "metadata": {},
     "output_type": "execute_result"
    }
   ],
   "source": [
    "# split function\n",
    "course_name.split(' ')"
   ]
  },
  {
   "cell_type": "code",
   "execution_count": 46,
   "id": "0ee55f8e-a682-4a53-b042-0ae2bb48bf68",
   "metadata": {},
   "outputs": [
    {
     "data": {
      "text/plain": [
       "['Data ', 'cience Masters']"
      ]
     },
     "execution_count": 46,
     "metadata": {},
     "output_type": "execute_result"
    }
   ],
   "source": [
    "course_name.split('S')"
   ]
  },
  {
   "cell_type": "code",
   "execution_count": 47,
   "id": "c23e49ab-77e5-4515-8809-1311d5ee1bc6",
   "metadata": {},
   "outputs": [
    {
     "data": {
      "text/plain": [
       "('Data ', 'S', 'cience Masters')"
      ]
     },
     "execution_count": 47,
     "metadata": {},
     "output_type": "execute_result"
    }
   ],
   "source": [
    "course_name.partition('S')"
   ]
  },
  {
   "cell_type": "code",
   "execution_count": 48,
   "id": "6f59130d-0883-4107-b74a-c382eace380e",
   "metadata": {},
   "outputs": [
    {
     "data": {
      "text/plain": [
       "'DATA SCIENCE MASTERS'"
      ]
     },
     "execution_count": 48,
     "metadata": {},
     "output_type": "execute_result"
    }
   ],
   "source": [
    "## upper and lower case\n",
    "course_name.upper()"
   ]
  },
  {
   "cell_type": "code",
   "execution_count": 49,
   "id": "9793312d-b1b1-4ece-8295-b6c250dd5138",
   "metadata": {},
   "outputs": [
    {
     "data": {
      "text/plain": [
       "'data science masters'"
      ]
     },
     "execution_count": 49,
     "metadata": {},
     "output_type": "execute_result"
    }
   ],
   "source": [
    "course_name.lower()"
   ]
  },
  {
   "cell_type": "code",
   "execution_count": 50,
   "id": "7edc56a4-0cd3-447d-9354-b081436e9557",
   "metadata": {},
   "outputs": [
    {
     "data": {
      "text/plain": [
       "'dATA sCIENCE mASTERS'"
      ]
     },
     "execution_count": 50,
     "metadata": {},
     "output_type": "execute_result"
    }
   ],
   "source": [
    "course_name.swapcase()"
   ]
  },
  {
   "cell_type": "code",
   "execution_count": 51,
   "id": "b1def96f-ca9e-4788-9bb1-1b70da6eee0f",
   "metadata": {},
   "outputs": [
    {
     "data": {
      "text/plain": [
       "'Data Science Masters'"
      ]
     },
     "execution_count": 51,
     "metadata": {},
     "output_type": "execute_result"
    }
   ],
   "source": [
    "course_name.title()"
   ]
  },
  {
   "cell_type": "code",
   "execution_count": 52,
   "id": "23363aee-5dbf-463c-95d1-09297111a0ab",
   "metadata": {},
   "outputs": [
    {
     "data": {
      "text/plain": [
       "'-0b10'"
      ]
     },
     "execution_count": 52,
     "metadata": {},
     "output_type": "execute_result"
    }
   ],
   "source": [
    "bin(-2)"
   ]
  },
  {
   "cell_type": "code",
   "execution_count": 58,
   "id": "cc84af57-9b84-46b6-98d3-44b8eb16a5a3",
   "metadata": {},
   "outputs": [
    {
     "name": "stdin",
     "output_type": "stream",
     "text": [
      "Enter the triangle Length: 9\n"
     ]
    },
    {
     "name": "stdout",
     "output_type": "stream",
     "text": [
      "         *\n",
      "        **\n",
      "       ****\n",
      "      ******\n",
      "     ********\n",
      "    **********\n",
      "   ************\n",
      "  **************\n",
      " ****************\n"
     ]
    }
   ],
   "source": [
    "## Assignments\n",
    "size = int(input(\"Enter the triangle Length:\"))\n",
    "for i in range(size):\n",
    "    for j in range(size-i):\n",
    "        print(\"\",end=\" \")\n",
    "    for k in range(i+1) :\n",
    "        print(\"*\",end=\"\")\n",
    "    for m in range(k-1):\n",
    "        print(\"*\", end=\"\")\n",
    "    print()"
   ]
  },
  {
   "cell_type": "markdown",
   "id": "6547b5c7-5861-4ea3-9082-42d344726c06",
   "metadata": {},
   "source": [
    "## 4.4 Operator Precedence\n",
    "\n",
    "Following table represents operators from highest to the lowest precedence -"
   ]
  },
  {
   "cell_type": "markdown",
   "id": "45e381d5-c769-474e-a7b9-10ad018ea3a3",
   "metadata": {},
   "source": [
    "| Operator Precedence |\n",
    "|: - :|\n",
    "\n",
    "|Precedence| Type | Symbols |\n",
    "|:-:|:-:|:-:|\n",
    "|1| member access | expr.member |\n",
    "|2| function/method calls | expr(...) |\n",
    "|3| container subscripts/slices | expr[...] | \n",
    "|4| exponentiation | ** |\n",
    "|5| unary operators | +expr, −expr, ~expr |\n",
    "|6| multiplication, division | *, /, //, % |\n",
    "|7| addition, subtraction | +, − |\n",
    "|8| bitwise shifting | <<, >> |\n",
    "|9| bitwise-and | & |\n",
    "|10| bitwise-xor | ˆ |\n",
    "|11| bitwise-or |\\| | \n",
    "|12| comparisons | is, is not, ==, !=, <, <=, >, >= |\n",
    "|13| containment | in, not in |\n",
    "|14| logical-not | not expr |\n",
    "|15| logical-and | and |\n",
    "|16| logical-or | or |\n",
    "|17| conditional | val1 if condition else val2 |\n",
    "|18| assignments | =, +=, −=, =, etc. |"
   ]
  },
  {
   "cell_type": "code",
   "execution_count": null,
   "id": "db0bbef5-b0ab-4910-a0d4-3fccbb9b50cc",
   "metadata": {},
   "outputs": [],
   "source": []
  }
 ],
 "metadata": {
  "kernelspec": {
   "display_name": "Python 3 (ipykernel)",
   "language": "python",
   "name": "python3"
  },
  "language_info": {
   "codemirror_mode": {
    "name": "ipython",
    "version": 3
   },
   "file_extension": ".py",
   "mimetype": "text/x-python",
   "name": "python",
   "nbconvert_exporter": "python",
   "pygments_lexer": "ipython3",
   "version": "3.10.8"
  }
 },
 "nbformat": 4,
 "nbformat_minor": 5
}
