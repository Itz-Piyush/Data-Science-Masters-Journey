{
 "cells": [
  {
   "cell_type": "code",
   "execution_count": 2,
   "id": "8a5c0678-35e2-46f1-94db-d0889afa717c",
   "metadata": {},
   "outputs": [
    {
     "name": "stdout",
     "output_type": "stream",
     "text": [
      "piyush\n"
     ]
    }
   ],
   "source": [
    "print(\"piyush\")"
   ]
  },
  {
   "cell_type": "code",
   "execution_count": 3,
   "id": "2457ca8a-d3c0-468f-859b-c2af5f9f38c2",
   "metadata": {},
   "outputs": [
    {
     "name": "stdout",
     "output_type": "stream",
     "text": [
      "489\n"
     ]
    }
   ],
   "source": [
    "print(489)"
   ]
  },
  {
   "cell_type": "code",
   "execution_count": 4,
   "id": "33d57627-9981-4db0-9b16-3f37317feabb",
   "metadata": {},
   "outputs": [
    {
     "name": "stdout",
     "output_type": "stream",
     "text": [
      "my age is:  19\n"
     ]
    }
   ],
   "source": [
    "age=19\n",
    "print(\"my age is: \",age)"
   ]
  },
  {
   "cell_type": "code",
   "execution_count": 5,
   "id": "d6c45136-8dcf-4b47-ac02-aac8460c98ae",
   "metadata": {},
   "outputs": [
    {
     "name": "stdout",
     "output_type": "stream",
     "text": [
      "my age is:{age}\n"
     ]
    }
   ],
   "source": [
    "print(\"my age is:{age}\")"
   ]
  },
  {
   "cell_type": "code",
   "execution_count": 8,
   "id": "4fdf9e91-4b80-46d0-99dc-f31ae452c8cf",
   "metadata": {},
   "outputs": [
    {
     "name": "stdout",
     "output_type": "stream",
     "text": [
      "my age is:19\n"
     ]
    }
   ],
   "source": [
    "\n",
    "#f string\n",
    "print(f\"my age is:{age}\")"
   ]
  },
  {
   "cell_type": "code",
   "execution_count": 10,
   "id": "fe5d358e-7b8c-41bc-9770-ccc0a4a97ed2",
   "metadata": {
    "tags": []
   },
   "outputs": [
    {
     "name": "stdout",
     "output_type": "stream",
     "text": [
      "my name is piyush and age is 19\n"
     ]
    }
   ],
   "source": [
    "# formatting\n",
    "name=\"piyush\"\n",
    "age=\"19\"\n",
    "print(\"my name is {} and age is {}\".format(name,age))"
   ]
  },
  {
   "cell_type": "code",
   "execution_count": 12,
   "id": "85477603-b2ea-493a-a695-196f1e93a451",
   "metadata": {},
   "outputs": [
    {
     "name": "stdout",
     "output_type": "stream",
     "text": [
      "My age is 19 and i have completed my degree of B.TECH with the name of piyush\n"
     ]
    }
   ],
   "source": [
    "name=\"piyush\"\n",
    "age=\"19\"\n",
    "degree=\"B.TECH\"\n",
    "print(\"My age is {} and i have completed my degree of {} with the name of {}\".format(age,degree,name))"
   ]
  },
  {
   "cell_type": "markdown",
   "id": "cc9f5a70-6a77-4ad8-83d4-5d50879663ed",
   "metadata": {},
   "source": [
    "# control flow"
   ]
  },
  {
   "cell_type": "raw",
   "id": "2c1f23b7-f1a2-4591-b6db-064b4e03c4c7",
   "metadata": {},
   "source": [
    "Here, we are going to review and learn the most fundamentals of Python control flow: Decision making statement and loops."
   ]
  },
  {
   "cell_type": "markdown",
   "id": "7188cbde-8497-42b9-a207-f051f5c6cf4e",
   "metadata": {},
   "source": [
    "# Decision making statements"
   ]
  },
  {
   "cell_type": "raw",
   "id": "173acff2-0572-42cd-a843-07a8b3112cbd",
   "metadata": {},
   "source": [
    "*It is kind of making decision during occurred situation of program execution and action can be taken according to specified conditions.\n",
    "\n",
    "*Structure of decision making evaluate several expressions that provide True or False as a result.\n",
    "\n",
    "*It is up to you to decide which type of action want to take and execute the statements based upon True and False.\n",
    "These are several topics of decision making which going to be discussed below:\n",
    "\n",
    "1.if\n",
    "2.if else\n",
    "3.if elif else\n",
    "4.Nested if\n",
    "5.Single Statement Suites"
   ]
  },
  {
   "cell_type": "code",
   "execution_count": 23,
   "id": "d4d9a31f-3aa3-4479-b5e2-66f38ea44e6e",
   "metadata": {},
   "outputs": [
    {
     "name": "stdin",
     "output_type": "stream",
     "text": [
      "enter the age value 12\n"
     ]
    },
    {
     "name": "stdout",
     "output_type": "stream",
     "text": [
      "the person is not eligible to vote\n"
     ]
    }
   ],
   "source": [
    "## if statements\n",
    "## input default taken value is string\n",
    "age=int(input(\"enter the age value\"))\n",
    "if(age<18):\n",
    "    print(\"the person is not eligible to vote\")\n",
    "if(age>=18):\n",
    "    print(\"the person is eligible to vote\") \n",
    "\n"
   ]
  },
  {
   "cell_type": "code",
   "execution_count": 20,
   "id": "c2b45b39-c4e2-4112-b217-1d0c2153c81b",
   "metadata": {},
   "outputs": [
    {
     "name": "stdin",
     "output_type": "stream",
     "text": [
      "enter the age value 22\n"
     ]
    },
    {
     "name": "stdout",
     "output_type": "stream",
     "text": [
      "The person is of Young Blood\n"
     ]
    }
   ],
   "source": [
    "##task\n",
    "##take input of age\n",
    "## check whether age >=18 and age <=45\n",
    "## display you are young blood\n",
    "age=int(input(\"enter the age value\"))\n",
    "if(age >=18 and age <=45):\n",
    "    print(\"The person is of Young Blood\")"
   ]
  },
  {
   "cell_type": "code",
   "execution_count": 21,
   "id": "4d44cf68-3000-4b2a-adf8-86fb7c2778ef",
   "metadata": {},
   "outputs": [
    {
     "data": {
      "text/plain": [
       "True"
      ]
     },
     "execution_count": 21,
     "metadata": {},
     "output_type": "execute_result"
    }
   ],
   "source": [
    "22<=45"
   ]
  },
  {
   "cell_type": "code",
   "execution_count": 22,
   "id": "edddd7c5-3861-4baa-9558-605075390c48",
   "metadata": {},
   "outputs": [
    {
     "data": {
      "text/plain": [
       "True"
      ]
     },
     "execution_count": 22,
     "metadata": {},
     "output_type": "execute_result"
    }
   ],
   "source": [
    "22>=18 and 22<=45"
   ]
  },
  {
   "cell_type": "code",
   "execution_count": 3,
   "id": "a07b2cfe-7c2a-4da2-a993-fdc68234323e",
   "metadata": {},
   "outputs": [
    {
     "name": "stdin",
     "output_type": "stream",
     "text": [
      "enter the age value 22\n"
     ]
    },
    {
     "name": "stdout",
     "output_type": "stream",
     "text": [
      "the person is eligible to vote\n"
     ]
    }
   ],
   "source": [
    "##if else statements\n",
    "age=int(input(\"enter the age value\"))\n",
    "if(age<18):\n",
    "    print(\"the person is not eligible to vote\")\n",
    "else:\n",
    "    print(\"the person is eligible to vote\")"
   ]
  },
  {
   "cell_type": "code",
   "execution_count": 5,
   "id": "0e4b6a31-af0e-475c-b90b-1cdf6b4f7f23",
   "metadata": {},
   "outputs": [
    {
     "name": "stdin",
     "output_type": "stream",
     "text": [
      "Enter the price of Product in Rs: 800\n"
     ]
    },
    {
     "name": "stdout",
     "output_type": "stream",
     "text": [
      "You got 10% off on that and the final price of product is Rs 720.0\n"
     ]
    }
   ],
   "source": [
    "## mall- input the product price\n",
    "## product > 1000 rs 20% off\n",
    "## print the product price after discount\n",
    "## product <=1000 rs 10% off\n",
    "##print the product price after discount\n",
    "product=int(input(\"Enter the price of Product in Rs:\"))\n",
    "if(product>1000):\n",
    "    print(\"You got 20% off on that and the final price of product is Rs {}\".format(product-(product*0.2)))\n",
    "else:\n",
    "    print(\"You got 10% off on that and the final price of product is Rs {}\".format(product-(product*0.1)))"
   ]
  },
  {
   "cell_type": "code",
   "execution_count": 1,
   "id": "2da78ab8-6209-4da4-97b5-89350dfd82bc",
   "metadata": {},
   "outputs": [],
   "source": [
    "## mall - input the product price\n",
    "## product >3000 rs 20% off\n",
    "## price is ==4000 you get a trip to Goa\n",
    "## print the product price after removing the discount\n",
    "## product >=2000 rs and <=3000 30% off\n",
    "## print the product price after removing the discount\n",
    "## price ==2999  u will get adiitional gift\n",
    "## product 100 rs and <=2000 40% off\n",
    "## print the product price after removing the discount"
   ]
  },
  {
   "cell_type": "code",
   "execution_count": 2,
   "id": "06e31f99-4758-47bb-9f75-28faf0e12946",
   "metadata": {},
   "outputs": [
    {
     "name": "stdin",
     "output_type": "stream",
     "text": [
      "Enter the price 4000\n"
     ]
    },
    {
     "name": "stdout",
     "output_type": "stream",
     "text": [
      "Congratulations you get a Goa Trip\n",
      "The price of the product is 3200.0\n"
     ]
    }
   ],
   "source": [
    "product_price=int(input(\"Enter the price\"))\n",
    "if product_price>3000:\n",
    "    if product_price==4000:\n",
    "        print(\"Congratulations you get a Goa Trip\")\n",
    "    print(f\"The price of the product is {product_price*0.8}\")\n",
    "elif product_price>=2000 and product_price<=3000:\n",
    "    if product_price==2999:\n",
    "        print(\"Congratulations you get an additional gift\")\n",
    "    print(f\"The price of the product is {product_price*0.7}\")\n",
    "elif product_price>=100 and product_price<2000:\n",
    "    print(f\"The price of the product is {product_price*0.6}\")\n",
    "else:\n",
    "    print(\"Lets drink tea\")\n",
    "    print(\"I will also be there\")"
   ]
  },
  {
   "cell_type": "code",
   "execution_count": 3,
   "id": "8ec0de9a-b074-4ca6-a0a7-dcc9b7def41e",
   "metadata": {},
   "outputs": [
    {
     "data": {
      "text/plain": [
       "True"
      ]
     },
     "execution_count": 3,
     "metadata": {},
     "output_type": "execute_result"
    }
   ],
   "source": [
    "## comparison operator\n",
    "True==True"
   ]
  },
  {
   "cell_type": "code",
   "execution_count": 1,
   "id": "fc8425d9-a224-43d9-a939-fdbdb67f0101",
   "metadata": {},
   "outputs": [
    {
     "name": "stdin",
     "output_type": "stream",
     "text": [
      "enter the number 1000\n"
     ]
    },
    {
     "name": "stdout",
     "output_type": "stream",
     "text": [
      "go home\n"
     ]
    }
   ],
   "source": [
    "##Single statement suites\n",
    "val=int(input(\"enter the number\"))\n",
    "if(val<=999):print(\"value is less than equal to 999\")\n",
    "else:\n",
    "    print(\"go home\")\n"
   ]
  },
  {
   "cell_type": "markdown",
   "id": "ceb5b923-d0a0-4902-8c06-a752c99452ae",
   "metadata": {},
   "source": [
    "## Loop statements\n",
    "\n",
    "1.while loop\n",
    "\n",
    "2.for loop\n",
    "\n",
    "3.nested loop\n",
    "\n",
    "4.loop control(break,continue,pass)\n"
   ]
  },
  {
   "cell_type": "code",
   "execution_count": 5,
   "id": "bd38c3af-49e5-4fe0-bc00-d6c09881e976",
   "metadata": {},
   "outputs": [
    {
     "name": "stdin",
     "output_type": "stream",
     "text": [
      "enter the age value 12\n"
     ]
    },
    {
     "name": "stdout",
     "output_type": "stream",
     "text": [
      "13\n",
      "14\n",
      "15\n",
      "16\n",
      "its time to move to maturistic period\n"
     ]
    }
   ],
   "source": [
    "#while loop\n",
    "age=int(input(\"enter the age value\"))\n",
    "while(age<=15):\n",
    "    age=age+1\n",
    "    print(age)\n",
    "else:\n",
    "    print(\"its time to move to maturistic period\")\n"
   ]
  },
  {
   "cell_type": "code",
   "execution_count": 11,
   "id": "2dd2a858-c7ad-4b2c-a66f-2881c3d2623c",
   "metadata": {},
   "outputs": [
    {
     "name": "stdin",
     "output_type": "stream",
     "text": [
      "enter the amount: 0\n"
     ]
    },
    {
     "name": "stdout",
     "output_type": "stream",
     "text": [
      "main gareeb hu\n"
     ]
    }
   ],
   "source": [
    "#Atm machine withdrawl by person woith 100 rs\n",
    "Amount=int(input(\"enter the amount:\"))\n",
    "while(Amount!=0):\n",
    "    print(Amount)\n",
    "    Amount=Amount-100\n",
    "else:\n",
    "    print(\"main gareeb hu\")\n"
   ]
  },
  {
   "cell_type": "code",
   "execution_count": 4,
   "id": "da8b1d0e-2c84-462d-8876-6c15ce976d28",
   "metadata": {},
   "outputs": [
    {
     "name": "stdout",
     "output_type": "stream",
     "text": [
      "m\n",
      "a\n",
      "n\n",
      "g\n",
      "o\n"
     ]
    }
   ],
   "source": [
    "#for loop\n",
    "fruit=\"mango\"\n",
    "for x in fruit:\n",
    "    print(x)\n",
    "\n",
    "\n"
   ]
  },
  {
   "cell_type": "code",
   "execution_count": 5,
   "id": "66a776eb-c77c-4a58-8d4b-78e33a2a7c56",
   "metadata": {},
   "outputs": [
    {
     "data": {
      "text/plain": [
       "'n'"
      ]
     },
     "execution_count": 5,
     "metadata": {},
     "output_type": "execute_result"
    }
   ],
   "source": [
    "fruit[2]"
   ]
  },
  {
   "cell_type": "code",
   "execution_count": null,
   "id": "24632c7f-5019-4eb0-93e7-41f55d715c9d",
   "metadata": {},
   "outputs": [],
   "source": [
    "###nested loops\n",
    "n=10"
   ]
  },
  {
   "cell_type": "code",
   "execution_count": 6,
   "id": "3d63e14e-4fa2-420d-a23d-5a6f0ef2d662",
   "metadata": {},
   "outputs": [
    {
     "name": "stdout",
     "output_type": "stream",
     "text": [
      "1\n",
      "2\n",
      "3\n",
      "4\n",
      "5\n",
      "6\n",
      "7\n",
      "8\n"
     ]
    }
   ],
   "source": [
    "#range\n",
    "for i in range(1,9):\n",
    "    print(i)"
   ]
  },
  {
   "cell_type": "code",
   "execution_count": 7,
   "id": "63603fd5-e839-4641-9b4f-4bf091432a62",
   "metadata": {},
   "outputs": [
    {
     "name": "stdout",
     "output_type": "stream",
     "text": [
      "1\n",
      "3\n",
      "5\n",
      "7\n",
      "9\n"
     ]
    }
   ],
   "source": [
    "for i in range(1,10,2):\n",
    "    print(i)"
   ]
  },
  {
   "cell_type": "code",
   "execution_count": 1,
   "id": "b6533809-9ba6-4b0b-b777-7199bba9efa5",
   "metadata": {},
   "outputs": [
    {
     "name": "stdout",
     "output_type": "stream",
     "text": [
      "*\n",
      "**\n",
      "***\n",
      "****\n",
      "*****\n",
      "******\n",
      "*******\n",
      "********\n",
      "*********\n",
      "**********\n"
     ]
    }
   ],
   "source": [
    "##nested loops\n",
    "n=10\n",
    "\n",
    "for i in range(0,n):\n",
    "    for j in range(0,i+1):\n",
    "        print(\"*\",end='')\n",
    "    print(\"\\r\")"
   ]
  },
  {
   "cell_type": "code",
   "execution_count": 18,
   "id": "b5000658-59cc-4c8e-90bf-0618d26d71dc",
   "metadata": {},
   "outputs": [
    {
     "name": "stdin",
     "output_type": "stream",
     "text": [
      "enter the value 5\n"
     ]
    },
    {
     "name": "stdout",
     "output_type": "stream",
     "text": [
      "    *\n",
      "   ***\n",
      "  *****\n",
      " *******\n",
      "*********\n"
     ]
    }
   ],
   "source": [
    "n=int(input(\"enter the value\"))\n",
    "k=0\n",
    "for i in range(1,n+1):\n",
    "    for j in range(1,(n-i)+1):\n",
    "        print(end=\" \")\n",
    "    while k!=(2*i-1):\n",
    "        print(\"*\",end='')\n",
    "        k+=1\n",
    "    k=0\n",
    "    print(\"\\r\")\n",
    "        \n",
    "   \n",
    " "
   ]
  },
  {
   "cell_type": "code",
   "execution_count": 19,
   "id": "6fbf8cc3-d3e4-4056-b846-79147d1e1816",
   "metadata": {},
   "outputs": [
    {
     "name": "stdout",
     "output_type": "stream",
     "text": [
      "mango\n",
      "the fruit is apple\n"
     ]
    }
   ],
   "source": [
    "##loop controls\n",
    "##break and continue\n",
    "fruits_list=[\"mango\",\"apple\",\"banana\",\"papaya\",\"guava\"]\n",
    "for i in fruits_list:\n",
    "    if i==\"apple\":\n",
    "        print(\"the fruit is apple\")\n",
    "        break\n",
    "    print(i)\n",
    "        \n",
    "    \n"
   ]
  },
  {
   "cell_type": "code",
   "execution_count": 21,
   "id": "7c05054a-d9b2-45af-a1e7-ebc05d006e27",
   "metadata": {},
   "outputs": [
    {
     "name": "stdout",
     "output_type": "stream",
     "text": [
      "mango\n",
      "the fruit is apple\n",
      "apple\n",
      "banana\n",
      "papaya\n",
      "guava\n"
     ]
    }
   ],
   "source": [
    "#pass\n",
    "fruits_list=[\"mango\",\"apple\",\"banana\",\"papaya\",\"guava\"]\n",
    "for i in fruits_list:\n",
    "    if i==\"apple\":\n",
    "        print(\"the fruit is apple\")\n",
    "        pass\n",
    "    print(i)"
   ]
  },
  {
   "cell_type": "code",
   "execution_count": 22,
   "id": "c67b2bea-a319-4261-b054-a7e9a5224e28",
   "metadata": {},
   "outputs": [
    {
     "name": "stdout",
     "output_type": "stream",
     "text": [
      "mango\n",
      "the fruit is apple\n",
      "banana\n",
      "papaya\n",
      "guava\n"
     ]
    }
   ],
   "source": [
    "#continue will skip the loop\n",
    "fruits_list=[\"mango\",\"apple\",\"banana\",\"papaya\",\"guava\"]\n",
    "for i in fruits_list:\n",
    "    if i==\"apple\":\n",
    "        print(\"the fruit is apple\")\n",
    "        continue\n",
    "    print(i)"
   ]
  },
  {
   "cell_type": "code",
   "execution_count": null,
   "id": "0029b68a-b4fd-4529-b274-bec89fb7279a",
   "metadata": {},
   "outputs": [],
   "source": []
  }
 ],
 "metadata": {
  "kernelspec": {
   "display_name": "Python 3 (ipykernel)",
   "language": "python",
   "name": "python3"
  },
  "language_info": {
   "codemirror_mode": {
    "name": "ipython",
    "version": 3
   },
   "file_extension": ".py",
   "mimetype": "text/x-python",
   "name": "python",
   "nbconvert_exporter": "python",
   "pygments_lexer": "ipython3",
   "version": "3.10.8"
  }
 },
 "nbformat": 4,
 "nbformat_minor": 5
}
