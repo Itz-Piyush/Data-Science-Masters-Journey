{
 "cells": [
  {
   "cell_type": "markdown",
   "id": "ccd52ca6-60dc-4687-a55a-0202ff4e57f6",
   "metadata": {},
   "source": [
    "## OOPS - Object- Oriented Programming System"
   ]
  },
  {
   "cell_type": "code",
   "execution_count": 1,
   "id": "b0d7ab2d-c770-4997-b6ef-47ed751e7283",
   "metadata": {},
   "outputs": [],
   "source": [
    "a=1"
   ]
  },
  {
   "cell_type": "code",
   "execution_count": 2,
   "id": "2bdd75fa-4d97-4012-8124-139447c57866",
   "metadata": {},
   "outputs": [
    {
     "name": "stdout",
     "output_type": "stream",
     "text": [
      "<class 'int'>\n"
     ]
    }
   ],
   "source": [
    "print(type(a))"
   ]
  },
  {
   "cell_type": "code",
   "execution_count": 3,
   "id": "fd7f9556-ff23-42dc-8ffb-8de6da955c7a",
   "metadata": {},
   "outputs": [
    {
     "name": "stdout",
     "output_type": "stream",
     "text": [
      "<class 'str'>\n"
     ]
    }
   ],
   "source": [
    "print(type(\"piyush\"))"
   ]
  },
  {
   "cell_type": "code",
   "execution_count": 4,
   "id": "6813e04f-2e69-4cb5-a211-dad61c8042e6",
   "metadata": {},
   "outputs": [
    {
     "ename": "SyntaxError",
     "evalue": "incomplete input (3527747674.py, line 1)",
     "output_type": "error",
     "traceback": [
      "\u001b[0;36m  Cell \u001b[0;32mIn[4], line 1\u001b[0;36m\u001b[0m\n\u001b[0;31m    class test:\u001b[0m\n\u001b[0m               ^\u001b[0m\n\u001b[0;31mSyntaxError\u001b[0m\u001b[0;31m:\u001b[0m incomplete input\n"
     ]
    }
   ],
   "source": [
    "class test:"
   ]
  },
  {
   "cell_type": "code",
   "execution_count": 5,
   "id": "1584ce81-e109-4daf-8b0a-c2ee3f80799f",
   "metadata": {},
   "outputs": [],
   "source": [
    "class test:\n",
    "    pass"
   ]
  },
  {
   "cell_type": "code",
   "execution_count": 6,
   "id": "35d9e9e3-4057-4c7e-b3e6-fece56b392fe",
   "metadata": {},
   "outputs": [],
   "source": [
    "b = test()"
   ]
  },
  {
   "cell_type": "code",
   "execution_count": 8,
   "id": "24864f16-e54a-4362-b3d0-f7d249273e65",
   "metadata": {},
   "outputs": [
    {
     "name": "stdout",
     "output_type": "stream",
     "text": [
      "<class '__main__.test'>\n"
     ]
    }
   ],
   "source": [
    "print(type(b))"
   ]
  },
  {
   "cell_type": "code",
   "execution_count": 13,
   "id": "31608388-160f-4d9d-a9c0-d6f598075ab0",
   "metadata": {},
   "outputs": [],
   "source": [
    "class test1:\n",
    "    \n",
    "     def hello(self):\n",
    "            print(\"hello everyone\")"
   ]
  },
  {
   "cell_type": "code",
   "execution_count": 14,
   "id": "096335cb-f7b5-406d-8fdb-07e1a3f4b8a8",
   "metadata": {},
   "outputs": [],
   "source": [
    "piyush = test1()"
   ]
  },
  {
   "cell_type": "code",
   "execution_count": 15,
   "id": "b962e89f-ebab-4f39-aa68-c6d6b0d82703",
   "metadata": {},
   "outputs": [
    {
     "name": "stdout",
     "output_type": "stream",
     "text": [
      "hello everyone\n"
     ]
    }
   ],
   "source": [
    "piyush.hello()"
   ]
  },
  {
   "cell_type": "code",
   "execution_count": 26,
   "id": "6fabd2fb-9bd2-459e-91c8-87c03ba383f9",
   "metadata": {},
   "outputs": [],
   "source": [
    "class test2:\n",
    "    def __init__(self,phone_number,email_id,student_id):\n",
    "        \n",
    "        self.phone_number=phone_number\n",
    "        self.email_id=email_id\n",
    "        self.student_id=student_id\n",
    "        \n",
    "    def return_student_details(self):\n",
    "        return self.phone_number,self.email_id,self.student_id"
   ]
  },
  {
   "cell_type": "code",
   "execution_count": 27,
   "id": "25756cc2-0cf0-49ae-8ac6-e2bef8eaeafe",
   "metadata": {},
   "outputs": [],
   "source": [
    "piyush = test2(789654 , \"piyush@mail.com\",115)"
   ]
  },
  {
   "cell_type": "code",
   "execution_count": 28,
   "id": "70854417-d465-4f18-8680-692237218c64",
   "metadata": {},
   "outputs": [
    {
     "data": {
      "text/plain": [
       "789654"
      ]
     },
     "execution_count": 28,
     "metadata": {},
     "output_type": "execute_result"
    }
   ],
   "source": [
    "piyush.phone_number"
   ]
  },
  {
   "cell_type": "code",
   "execution_count": 29,
   "id": "ffb1ea21-bb87-41cf-bba3-d788d9e91ad9",
   "metadata": {},
   "outputs": [
    {
     "data": {
      "text/plain": [
       "'piyush@mail.com'"
      ]
     },
     "execution_count": 29,
     "metadata": {},
     "output_type": "execute_result"
    }
   ],
   "source": [
    "piyush.email_id"
   ]
  },
  {
   "cell_type": "code",
   "execution_count": 30,
   "id": "66c7e7ac-8638-42ae-bcfc-04fd03c72ba2",
   "metadata": {},
   "outputs": [
    {
     "data": {
      "text/plain": [
       "115"
      ]
     },
     "execution_count": 30,
     "metadata": {},
     "output_type": "execute_result"
    }
   ],
   "source": [
    "piyush.student_id\n"
   ]
  },
  {
   "cell_type": "code",
   "execution_count": 31,
   "id": "0ad13f4d-915d-4aca-8875-184cb7ada599",
   "metadata": {},
   "outputs": [
    {
     "data": {
      "text/plain": [
       "(789654, 'piyush@mail.com', 115)"
      ]
     },
     "execution_count": 31,
     "metadata": {},
     "output_type": "execute_result"
    }
   ],
   "source": [
    "piyush.return_student_details()\n"
   ]
  },
  {
   "cell_type": "code",
   "execution_count": 32,
   "id": "3d3ab900-a025-4506-8bc4-0f81b2d4c1eb",
   "metadata": {},
   "outputs": [],
   "source": [
    "class test3:\n",
    "    def __init__(piyush,phone_number,email_id,student_id):\n",
    "        \n",
    "        piyush.phone_number=phone_number\n",
    "        piyush.email_id=email_id\n",
    "        piyush.student_id=student_id\n",
    "        \n",
    "    def return_student_details(piyush):\n",
    "        return piyush.phone_number,piyush.email_id,piyush.student_id    # self is nothing but it's just a convention."
   ]
  },
  {
   "cell_type": "code",
   "execution_count": 33,
   "id": "e6c55f2c-d4e0-4fb9-896b-551432c3d826",
   "metadata": {},
   "outputs": [],
   "source": [
    "nikhil = test3(5657890,\"nikhil@gmail.com\",908)"
   ]
  },
  {
   "cell_type": "code",
   "execution_count": 34,
   "id": "10701bf9-6b35-420c-9a73-d078612153fd",
   "metadata": {},
   "outputs": [
    {
     "data": {
      "text/plain": [
       "'nikhil@gmail.com'"
      ]
     },
     "execution_count": 34,
     "metadata": {},
     "output_type": "execute_result"
    }
   ],
   "source": [
    "nikhil.email_id"
   ]
  },
  {
   "cell_type": "code",
   "execution_count": 35,
   "id": "5254082f-7de5-4ac2-8b0e-aca63681e0af",
   "metadata": {},
   "outputs": [
    {
     "data": {
      "text/plain": [
       "5657890"
      ]
     },
     "execution_count": 35,
     "metadata": {},
     "output_type": "execute_result"
    }
   ],
   "source": [
    "nikhil.phone_number"
   ]
  },
  {
   "cell_type": "code",
   "execution_count": 36,
   "id": "93bb0856-e1e6-42f1-b599-fa8c58639147",
   "metadata": {},
   "outputs": [
    {
     "data": {
      "text/plain": [
       "908"
      ]
     },
     "execution_count": 36,
     "metadata": {},
     "output_type": "execute_result"
    }
   ],
   "source": [
    "nikhil.student_id"
   ]
  },
  {
   "cell_type": "code",
   "execution_count": 37,
   "id": "7a841743-e803-43ee-99a2-22d97aad4f80",
   "metadata": {},
   "outputs": [
    {
     "data": {
      "text/plain": [
       "(5657890, 'nikhil@gmail.com', 908)"
      ]
     },
     "execution_count": 37,
     "metadata": {},
     "output_type": "execute_result"
    }
   ],
   "source": [
    "nikhil.return_student_details()"
   ]
  },
  {
   "cell_type": "code",
   "execution_count": null,
   "id": "02106a08-af1e-44ca-bbfe-1a24f7fe7502",
   "metadata": {},
   "outputs": [],
   "source": []
  }
 ],
 "metadata": {
  "kernelspec": {
   "display_name": "Python 3 (ipykernel)",
   "language": "python",
   "name": "python3"
  },
  "language_info": {
   "codemirror_mode": {
    "name": "ipython",
    "version": 3
   },
   "file_extension": ".py",
   "mimetype": "text/x-python",
   "name": "python",
   "nbconvert_exporter": "python",
   "pygments_lexer": "ipython3",
   "version": "3.10.8"
  }
 },
 "nbformat": 4,
 "nbformat_minor": 5
}
