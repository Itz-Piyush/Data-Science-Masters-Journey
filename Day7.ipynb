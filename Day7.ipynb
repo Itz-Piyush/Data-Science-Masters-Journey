{
 "cells": [
  {
   "cell_type": "markdown",
   "id": "04518485-2e79-4dea-b401-3e893c3dbaf0",
   "metadata": {},
   "source": [
    "## LAMBDA FUNCTION"
   ]
  },
  {
   "cell_type": "code",
   "execution_count": 1,
   "id": "381223f1-74e6-4038-9c74-a1a46dedd7f0",
   "metadata": {},
   "outputs": [],
   "source": [
    "n=4\n",
    "p=2"
   ]
  },
  {
   "cell_type": "code",
   "execution_count": 3,
   "id": "0a04a8ae-a68f-43c1-b740-c2b329e7b6af",
   "metadata": {},
   "outputs": [],
   "source": [
    "def test(n,p):\n",
    "    return n**p"
   ]
  },
  {
   "cell_type": "code",
   "execution_count": 4,
   "id": "9feb5484-a78b-4dec-b2b3-2b2aaaf4f613",
   "metadata": {},
   "outputs": [
    {
     "data": {
      "text/plain": [
       "16"
      ]
     },
     "execution_count": 4,
     "metadata": {},
     "output_type": "execute_result"
    }
   ],
   "source": [
    "test(4,2)"
   ]
  },
  {
   "cell_type": "code",
   "execution_count": 5,
   "id": "3c40c9ef-a2c3-49c7-bbbf-5ce04e86528d",
   "metadata": {},
   "outputs": [
    {
     "data": {
      "text/plain": [
       "<function __main__.<lambda>(n, p)>"
      ]
     },
     "execution_count": 5,
     "metadata": {},
     "output_type": "execute_result"
    }
   ],
   "source": [
    "lambda n,p : n**p"
   ]
  },
  {
   "cell_type": "code",
   "execution_count": 6,
   "id": "7a186d58-a2ff-4a96-b776-51dcf645c82e",
   "metadata": {},
   "outputs": [],
   "source": [
    "a=lambda n,p : n**p"
   ]
  },
  {
   "cell_type": "code",
   "execution_count": 7,
   "id": "e017a9c9-ac1a-4202-94a7-94925dab582e",
   "metadata": {},
   "outputs": [
    {
     "data": {
      "text/plain": [
       "9"
      ]
     },
     "execution_count": 7,
     "metadata": {},
     "output_type": "execute_result"
    }
   ],
   "source": [
    "a(3,2)"
   ]
  },
  {
   "cell_type": "code",
   "execution_count": 8,
   "id": "abd54e02-f7a3-418f-a14b-3ebf4343ef5f",
   "metadata": {},
   "outputs": [],
   "source": [
    "add = lambda x,y : x+y"
   ]
  },
  {
   "cell_type": "code",
   "execution_count": 9,
   "id": "4f3c2bde-67c3-47c9-91c5-9732afdf3c7c",
   "metadata": {},
   "outputs": [
    {
     "data": {
      "text/plain": [
       "121"
      ]
     },
     "execution_count": 9,
     "metadata": {},
     "output_type": "execute_result"
    }
   ],
   "source": [
    "add(45,76)"
   ]
  },
  {
   "cell_type": "code",
   "execution_count": 10,
   "id": "903ccf0f-dff3-4c8a-aea2-36817ab5e3f5",
   "metadata": {},
   "outputs": [
    {
     "data": {
      "text/plain": [
       "132.8"
      ]
     },
     "execution_count": 10,
     "metadata": {},
     "output_type": "execute_result"
    }
   ],
   "source": [
    "# celsius to fahranheit\n",
    "f=lambda c : (9/5)*c+32\n",
    "f(56)"
   ]
  },
  {
   "cell_type": "code",
   "execution_count": 12,
   "id": "a7389612-bb28-4f87-8c63-80f5066ed6b8",
   "metadata": {},
   "outputs": [
    {
     "data": {
      "text/plain": [
       "6"
      ]
     },
     "execution_count": 12,
     "metadata": {},
     "output_type": "execute_result"
    }
   ],
   "source": [
    "v=\"piyush\"\n",
    "len_p = lambda v : len(v)\n",
    "len_p(v)"
   ]
  },
  {
   "cell_type": "markdown",
   "id": "dc3693e5-890c-46fe-8bd1-8784d406cc4b",
   "metadata": {},
   "source": [
    "## MAP , REDUCE AND FILTER"
   ]
  },
  {
   "cell_type": "code",
   "execution_count": 13,
   "id": "885e92f2-e82b-4c23-85cf-176f817ca57e",
   "metadata": {},
   "outputs": [],
   "source": [
    "l = [1,2,3,4,45,5]"
   ]
  },
  {
   "cell_type": "code",
   "execution_count": 14,
   "id": "e6803cdd-43e4-44d1-ad1c-d18302dcef90",
   "metadata": {},
   "outputs": [],
   "source": [
    "def test(l):\n",
    "    l1 = []\n",
    "    for i in l:\n",
    "        l1.append(i**2)\n",
    "    return l1"
   ]
  },
  {
   "cell_type": "code",
   "execution_count": 15,
   "id": "a20f77ff-8ab7-4678-a5bf-25785c6d84c2",
   "metadata": {},
   "outputs": [
    {
     "data": {
      "text/plain": [
       "[1, 4, 9, 16, 2025, 25]"
      ]
     },
     "execution_count": 15,
     "metadata": {},
     "output_type": "execute_result"
    }
   ],
   "source": [
    "test(l)"
   ]
  },
  {
   "cell_type": "code",
   "execution_count": 16,
   "id": "ff1a4446-7fc9-4200-a426-df4d8902f32f",
   "metadata": {},
   "outputs": [],
   "source": [
    "def square(x):\n",
    "    return x**2"
   ]
  },
  {
   "cell_type": "code",
   "execution_count": 18,
   "id": "c2deeaa0-2fe5-4bd5-bd93-24f990df26b6",
   "metadata": {},
   "outputs": [
    {
     "data": {
      "text/plain": [
       "[1, 4, 9, 16, 2025, 25]"
      ]
     },
     "execution_count": 18,
     "metadata": {},
     "output_type": "execute_result"
    }
   ],
   "source": [
    "list(map(square,l))"
   ]
  },
  {
   "cell_type": "code",
   "execution_count": 19,
   "id": "d072bec7-1ae7-483f-ad9d-b35a3a779b66",
   "metadata": {},
   "outputs": [
    {
     "data": {
      "text/plain": [
       "[1, 4, 9, 16, 2025, 25]"
      ]
     },
     "execution_count": 19,
     "metadata": {},
     "output_type": "execute_result"
    }
   ],
   "source": [
    "list(map(lambda x : x**2,l))"
   ]
  },
  {
   "cell_type": "code",
   "execution_count": 20,
   "id": "5a32ce13-d7de-4c80-87f5-4dab4e685bca",
   "metadata": {},
   "outputs": [
    {
     "data": {
      "text/plain": [
       "(11, 12, 13, 14, 55, 15)"
      ]
     },
     "execution_count": 20,
     "metadata": {},
     "output_type": "execute_result"
    }
   ],
   "source": [
    "tuple(map(lambda x : x+10,l))"
   ]
  },
  {
   "cell_type": "code",
   "execution_count": 21,
   "id": "cdec2b08-c898-4df9-af2f-f3b4d8bfa770",
   "metadata": {},
   "outputs": [
    {
     "data": {
      "text/plain": [
       "{-1, 0, 1, 2, 3, 43}"
      ]
     },
     "execution_count": 21,
     "metadata": {},
     "output_type": "execute_result"
    }
   ],
   "source": [
    "set(map(lambda x: x-2,l))"
   ]
  },
  {
   "cell_type": "code",
   "execution_count": 23,
   "id": "d2c52a81-bfad-414d-9e63-f09d1fc0947f",
   "metadata": {},
   "outputs": [],
   "source": [
    "l1=[1,2,3,4,5]\n",
    "l2=[6,7,8,9,10]\n"
   ]
  },
  {
   "cell_type": "code",
   "execution_count": 24,
   "id": "d19d78e0-2d52-463d-8b01-e3a54e649076",
   "metadata": {},
   "outputs": [
    {
     "data": {
      "text/plain": [
       "[7, 9, 11, 13, 15]"
      ]
     },
     "execution_count": 24,
     "metadata": {},
     "output_type": "execute_result"
    }
   ],
   "source": [
    "list(map(lambda x,y : x+y , l1,l2))"
   ]
  },
  {
   "cell_type": "code",
   "execution_count": 25,
   "id": "2c79e089-44ed-4865-9307-f5a88976470b",
   "metadata": {},
   "outputs": [],
   "source": [
    "s = \"piyush\""
   ]
  },
  {
   "cell_type": "code",
   "execution_count": 28,
   "id": "d9eb5505-3821-4c60-8522-af4df83ebda9",
   "metadata": {},
   "outputs": [
    {
     "data": {
      "text/plain": [
       "['P', 'I', 'Y', 'U', 'S', 'H']"
      ]
     },
     "execution_count": 28,
     "metadata": {},
     "output_type": "execute_result"
    }
   ],
   "source": [
    "list(map(lambda x : x.upper() , s))"
   ]
  },
  {
   "cell_type": "code",
   "execution_count": 29,
   "id": "2b19950e-3cd1-4ac0-9d4a-e29c81e67ddd",
   "metadata": {},
   "outputs": [],
   "source": [
    "from functools import reduce"
   ]
  },
  {
   "cell_type": "code",
   "execution_count": 30,
   "id": "d6f3c7d8-afad-4b9a-8a91-ab1ee3cc0808",
   "metadata": {},
   "outputs": [],
   "source": [
    "l=[1,2,3,4,5,3,2,7,8,9]"
   ]
  },
  {
   "cell_type": "code",
   "execution_count": 31,
   "id": "4851548a-e69c-4f73-be21-312db63a9932",
   "metadata": {},
   "outputs": [
    {
     "data": {
      "text/plain": [
       "44"
      ]
     },
     "execution_count": 31,
     "metadata": {},
     "output_type": "execute_result"
    }
   ],
   "source": [
    "reduce(lambda x,y : x+y,l)"
   ]
  },
  {
   "cell_type": "code",
   "execution_count": 32,
   "id": "1d6c0813-0663-4d6e-8be1-14f5e00b8eb4",
   "metadata": {},
   "outputs": [],
   "source": [
    "def add(x,y):\n",
    "    return x+y"
   ]
  },
  {
   "cell_type": "code",
   "execution_count": 33,
   "id": "69500ebc-92a0-4664-8d76-ba79923fc680",
   "metadata": {},
   "outputs": [
    {
     "data": {
      "text/plain": [
       "44"
      ]
     },
     "execution_count": 33,
     "metadata": {},
     "output_type": "execute_result"
    }
   ],
   "source": [
    "reduce(add,l)"
   ]
  },
  {
   "cell_type": "code",
   "execution_count": 34,
   "id": "049df47e-0fda-4826-87f0-085fec6d98f0",
   "metadata": {},
   "outputs": [
    {
     "ename": "TypeError",
     "evalue": "reduce() of empty iterable with no initial value",
     "output_type": "error",
     "traceback": [
      "\u001b[0;31m---------------------------------------------------------------------------\u001b[0m",
      "\u001b[0;31mTypeError\u001b[0m                                 Traceback (most recent call last)",
      "Cell \u001b[0;32mIn[34], line 1\u001b[0m\n\u001b[0;32m----> 1\u001b[0m \u001b[43mreduce\u001b[49m\u001b[43m(\u001b[49m\u001b[38;5;28;43;01mlambda\u001b[39;49;00m\u001b[43m \u001b[49m\u001b[43mx\u001b[49m\u001b[43m,\u001b[49m\u001b[43my\u001b[49m\u001b[43m:\u001b[49m\u001b[43mx\u001b[49m\u001b[38;5;241;43m+\u001b[39;49m\u001b[43my\u001b[49m\u001b[43m,\u001b[49m\u001b[43m[\u001b[49m\u001b[43m]\u001b[49m\u001b[43m)\u001b[49m\n",
      "\u001b[0;31mTypeError\u001b[0m: reduce() of empty iterable with no initial value"
     ]
    }
   ],
   "source": [
    "reduce(lambda x,y:x+y,[])"
   ]
  },
  {
   "cell_type": "code",
   "execution_count": 35,
   "id": "5a16b757-8f3c-481c-8083-8f712ce8a9f6",
   "metadata": {},
   "outputs": [
    {
     "data": {
      "text/plain": [
       "[1, 2, 3, 4, 5, 3, 2, 7, 8, 9]"
      ]
     },
     "execution_count": 35,
     "metadata": {},
     "output_type": "execute_result"
    }
   ],
   "source": [
    "l"
   ]
  },
  {
   "cell_type": "code",
   "execution_count": 36,
   "id": "b372f60e-9425-4020-a625-9d92775024f6",
   "metadata": {},
   "outputs": [
    {
     "data": {
      "text/plain": [
       "9"
      ]
     },
     "execution_count": 36,
     "metadata": {},
     "output_type": "execute_result"
    }
   ],
   "source": [
    "reduce(lambda x,y:x if x>y else y,l)"
   ]
  },
  {
   "cell_type": "code",
   "execution_count": 37,
   "id": "2db091a3-f32e-4e45-9de4-f81f8dd7c71f",
   "metadata": {},
   "outputs": [
    {
     "data": {
      "text/plain": [
       "[1, 2, 3, 4, 5, 3, 2, 7, 8, 9]"
      ]
     },
     "execution_count": 37,
     "metadata": {},
     "output_type": "execute_result"
    }
   ],
   "source": [
    "l"
   ]
  },
  {
   "cell_type": "code",
   "execution_count": 38,
   "id": "8c44e8e4-d613-4f44-8aff-4bd2a047e56d",
   "metadata": {},
   "outputs": [
    {
     "data": {
      "text/plain": [
       "[2, 4, 2, 8]"
      ]
     },
     "execution_count": 38,
     "metadata": {},
     "output_type": "execute_result"
    }
   ],
   "source": [
    "list(filter(lambda x: x%2 ==0,l))"
   ]
  },
  {
   "cell_type": "code",
   "execution_count": 40,
   "id": "667495eb-e3f9-48e4-822e-fa3aecf81581",
   "metadata": {},
   "outputs": [
    {
     "data": {
      "text/plain": [
       "(1, 3, 5, 3, 7, 9)"
      ]
     },
     "execution_count": 40,
     "metadata": {},
     "output_type": "execute_result"
    }
   ],
   "source": [
    "tuple(filter(lambda x: x%2!=0 ,l))"
   ]
  },
  {
   "cell_type": "code",
   "execution_count": 41,
   "id": "e718f650-20bf-4658-ab74-7c4195e80cd2",
   "metadata": {},
   "outputs": [],
   "source": [
    "l1=[-2,-4,6,7,-5]"
   ]
  },
  {
   "cell_type": "code",
   "execution_count": 42,
   "id": "68eb110d-3f20-41c5-98c8-66cd42371cd1",
   "metadata": {},
   "outputs": [
    {
     "data": {
      "text/plain": [
       "[-2, -4, -5]"
      ]
     },
     "execution_count": 42,
     "metadata": {},
     "output_type": "execute_result"
    }
   ],
   "source": [
    "list(filter(lambda x : x<0 ,l1))"
   ]
  },
  {
   "cell_type": "code",
   "execution_count": 43,
   "id": "8c596b83-cf78-41e2-9c6b-c1bcc360a476",
   "metadata": {},
   "outputs": [],
   "source": [
    "l2 = [\"piyush\",\"Raj\",\"Nikhil\",\"Kumar\"]"
   ]
  },
  {
   "cell_type": "code",
   "execution_count": 46,
   "id": "b2f042c5-a1a2-4675-a037-707beccc712e",
   "metadata": {},
   "outputs": [
    {
     "data": {
      "text/plain": [
       "['Raj', 'Kumar']"
      ]
     },
     "execution_count": 46,
     "metadata": {},
     "output_type": "execute_result"
    }
   ],
   "source": [
    "list(filter(lambda x :  len(x)<6 ,l2))"
   ]
  },
  {
   "cell_type": "code",
   "execution_count": null,
   "id": "c643cbd6-152f-4981-91aa-0664a29f12d8",
   "metadata": {},
   "outputs": [],
   "source": []
  }
 ],
 "metadata": {
  "kernelspec": {
   "display_name": "Python 3 (ipykernel)",
   "language": "python",
   "name": "python3"
  },
  "language_info": {
   "codemirror_mode": {
    "name": "ipython",
    "version": 3
   },
   "file_extension": ".py",
   "mimetype": "text/x-python",
   "name": "python",
   "nbconvert_exporter": "python",
   "pygments_lexer": "ipython3",
   "version": "3.10.8"
  }
 },
 "nbformat": 4,
 "nbformat_minor": 5
}
