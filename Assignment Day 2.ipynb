{
  "nbformat": 4,
  "nbformat_minor": 0,
  "metadata": {
    "colab": {
      "provenance": []
    },
    "kernelspec": {
      "name": "python3",
      "display_name": "Python 3"
    },
    "language_info": {
      "name": "python"
    }
  },
  "cells": [
    {
      "cell_type": "markdown",
      "source": [
        "1.Write a program to accept percentage from the user and display the grade according to the following criteria:-"
      ],
      "metadata": {
        "id": "ghHqqQ7D7Fh3"
      }
    },
    {
      "cell_type": "code",
      "source": [],
      "metadata": {
        "id": "-1KXw0f88MOY"
      },
      "execution_count": null,
      "outputs": []
    },
    {
      "cell_type": "code",
      "source": [
        "n=int(input(\"Enter the marks:-\"))\n",
        "if(n>90):\n",
        "  print(\"The grade obtained by student is :- A\")\n",
        "elif(n>80 and n<=90):\n",
        "  print(\"The grade obtained by student is :- B\")\n",
        "elif(n>=60 and n<=80):\n",
        "  print(\"The grade obtained by student is :- C\")\n",
        "else:\n",
        "  print(\"The grade obtained by student is :- D\")"
      ],
      "metadata": {
        "colab": {
          "base_uri": "https://localhost:8080/"
        },
        "id": "6CZql_kR7Scm",
        "outputId": "a1d48c52-bf2b-49e1-e748-d380790a486c"
      },
      "execution_count": 3,
      "outputs": [
        {
          "output_type": "stream",
          "name": "stdout",
          "text": [
            "Enter the marks:-73\n",
            "The grade obtained by student is :- C\n"
          ]
        }
      ]
    },
    {
      "cell_type": "markdown",
      "source": [
        "2.Write a program to accept the cost price of a bike and display the road tax to be paid according to the following criteria."
      ],
      "metadata": {
        "id": "hMISY6Tz8k3o"
      }
    },
    {
      "cell_type": "code",
      "source": [
        "n=int(input(\"Enter the cost price of bike in Rs:-\"))\n",
        "if(n>100000):\n",
        "  print(\"The tax for the bike is 15% and the amount of tax to be paid is {}\".format(n*0.15))\n",
        "elif(n>50000 and n<=100000):\n",
        "  print(\"The tax for the bike is 10% and the amount of tax to be paid is {}\".format(n*0.1))\n",
        "else:\n",
        "  print(\"The tax for the bike is 5% and the amount to be paid is {}\".format(n*0.05))\n"
      ],
      "metadata": {
        "colab": {
          "base_uri": "https://localhost:8080/"
        },
        "id": "lsk7zuPc8xe3",
        "outputId": "489ffd91-1406-4743-a2e3-86eed2dc6cc3"
      },
      "execution_count": 5,
      "outputs": [
        {
          "output_type": "stream",
          "name": "stdout",
          "text": [
            "Enter the cost price of bike in Rs:-120000\n",
            "The tax for the bike is 15% and the amount of tax to be paid is 18000.0\n"
          ]
        }
      ]
    },
    {
      "cell_type": "markdown",
      "source": [
        "3.Accept any city from the user and display the monuments of that city."
      ],
      "metadata": {
        "id": "ndU9L5IO-_QM"
      }
    },
    {
      "cell_type": "code",
      "source": [
        "city=input(\"Enter the city:-\")\n",
        "if(city==\"Delhi\"):\n",
        "  print(\"Monument is:-\",\"Red Fort\")\n",
        "elif(city==\"Agra\"):\n",
        "  print(\"Monument is:-\",\"Taj Mahal\")\n",
        "elif(city==\"Jaipur\"):\n",
        "  print(\"Monument is:-\",\"Jal Mahal\")"
      ],
      "metadata": {
        "colab": {
          "base_uri": "https://localhost:8080/"
        },
        "id": "W_J36K1z_Gqe",
        "outputId": "6ac0093d-877f-4181-d644-02ddde600a4e"
      },
      "execution_count": 39,
      "outputs": [
        {
          "output_type": "stream",
          "name": "stdout",
          "text": [
            "Enter the city:-Jaipur\n",
            "Monument is:- Jal Mahal\n"
          ]
        }
      ]
    },
    {
      "cell_type": "markdown",
      "source": [
        "4.check how many times a given no can be divided by 3 before it is less than or equal to 10."
      ],
      "metadata": {
        "id": "u1C_rdD0Bxqw"
      }
    },
    {
      "cell_type": "code",
      "source": [
        "count=0\n",
        "number=int(input(\"Enter the value:-\"))\n",
        "while number >10:\n",
        "  number = number / 3\n",
        "  count=count+1\n",
        "print(\"total iteration required:-\",count)"
      ],
      "metadata": {
        "colab": {
          "base_uri": "https://localhost:8080/"
        },
        "id": "EB-sNJ8EDCL6",
        "outputId": "5e04f01c-7280-4833-816c-4e0bf016b654"
      },
      "execution_count": 20,
      "outputs": [
        {
          "output_type": "stream",
          "name": "stdout",
          "text": [
            "Enter the value:-180\n",
            "total iteration required:- 3\n"
          ]
        }
      ]
    },
    {
      "cell_type": "markdown",
      "source": [
        "6.Use nested while loop to print 3 different Pattern."
      ],
      "metadata": {
        "id": "zTEAz67gFC1O"
      }
    },
    {
      "cell_type": "code",
      "source": [
        "i=1\n",
        "while i<=5:\n",
        "  j=1\n",
        "  while j<=i:\n",
        "    print(j,end=\" \")\n",
        "    j=j+1\n",
        "  print(\"\")\n",
        "  i=i+1\n",
        "  "
      ],
      "metadata": {
        "colab": {
          "base_uri": "https://localhost:8080/"
        },
        "id": "m5_Zt8eRFKLu",
        "outputId": "93e2970d-b0c5-44fb-9fa2-25edd6720dc0"
      },
      "execution_count": 21,
      "outputs": [
        {
          "output_type": "stream",
          "name": "stdout",
          "text": [
            "1 \n",
            "1 2 \n",
            "1 2 3 \n",
            "1 2 3 4 \n",
            "1 2 3 4 5 \n"
          ]
        }
      ]
    },
    {
      "cell_type": "code",
      "source": [
        "n=int(input(\"enter the number of rows:-\"))\n",
        "i=1\n",
        "while i<= n:\n",
        "  j=n\n",
        "  while j >= i:\n",
        "    print(\"*\",end=\" \")\n",
        "    j=j-1\n",
        "  print()\n",
        "  i=i+1 "
      ],
      "metadata": {
        "colab": {
          "base_uri": "https://localhost:8080/"
        },
        "id": "MuReftNRIDwS",
        "outputId": "612399c1-3bfe-4819-c7dd-9d6401128229"
      },
      "execution_count": 26,
      "outputs": [
        {
          "output_type": "stream",
          "name": "stdout",
          "text": [
            "enter the number of rows:-5\n",
            "* * * * * \n",
            "* * * * \n",
            "* * * \n",
            "* * \n",
            "* \n"
          ]
        }
      ]
    },
    {
      "cell_type": "code",
      "source": [
        "n=int(input(\"enter number of rows:-\"))\n",
        "i=1\n",
        "while i<=n:\n",
        "  print(\" \"*(n-i) + \"*\" * i)\n",
        "  i=i+1"
      ],
      "metadata": {
        "colab": {
          "base_uri": "https://localhost:8080/"
        },
        "id": "lyyYTl-ZIiR0",
        "outputId": "d2d84898-6727-4fbe-8469-b2180e32dbaf"
      },
      "execution_count": 27,
      "outputs": [
        {
          "output_type": "stream",
          "name": "stdout",
          "text": [
            "enter number of rows:-7\n",
            "      *\n",
            "     **\n",
            "    ***\n",
            "   ****\n",
            "  *****\n",
            " ******\n",
            "*******\n"
          ]
        }
      ]
    },
    {
      "cell_type": "markdown",
      "source": [
        "7.Reverse a while loop to display numbers from 10 to 1"
      ],
      "metadata": {
        "id": "sbRhZ2trJEHZ"
      }
    },
    {
      "cell_type": "code",
      "source": [
        "n=10\n",
        "print(\"The reversed numbers are :\",end=\"\")\n",
        "for num in range(n,0,-1):\n",
        "  print(num,end=\" \")"
      ],
      "metadata": {
        "colab": {
          "base_uri": "https://localhost:8080/"
        },
        "id": "6qDOmfmZJWmV",
        "outputId": "7ba93707-27bb-4c77-d68d-e2d3b235076a"
      },
      "execution_count": 35,
      "outputs": [
        {
          "output_type": "stream",
          "name": "stdout",
          "text": [
            "The reversed numbers are :10 9 8 7 6 5 4 3 2 1 "
          ]
        }
      ]
    },
    {
      "cell_type": "code",
      "source": [
        "n=10\n",
        "print(\"The reversed numbers are:\",end=\"\")\n",
        "while(n>=1):\n",
        "          print(n,end=\" \")\n",
        "          n-=1"
      ],
      "metadata": {
        "colab": {
          "base_uri": "https://localhost:8080/"
        },
        "id": "HwhjmFGjKSnP",
        "outputId": "ad4d70a5-1694-49f5-f36a-8a080b8b716f"
      },
      "execution_count": 41,
      "outputs": [
        {
          "output_type": "stream",
          "name": "stdout",
          "text": [
            "The reversed numbers are:10 9 8 7 6 5 4 3 2 1 "
          ]
        }
      ]
    },
    {
      "cell_type": "code",
      "source": [],
      "metadata": {
        "id": "5MmUzsODLBN5"
      },
      "execution_count": null,
      "outputs": []
    }
  ]
}