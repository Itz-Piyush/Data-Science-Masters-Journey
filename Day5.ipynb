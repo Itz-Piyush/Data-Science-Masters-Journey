{
 "cells": [
  {
   "cell_type": "code",
   "execution_count": 215,
   "id": "c5d42782-d621-41f2-8027-74d4e9749642",
   "metadata": {},
   "outputs": [
    {
     "data": {
      "text/plain": [
       "['__add__',\n",
       " '__class__',\n",
       " '__class_getitem__',\n",
       " '__contains__',\n",
       " '__delattr__',\n",
       " '__dir__',\n",
       " '__doc__',\n",
       " '__eq__',\n",
       " '__format__',\n",
       " '__ge__',\n",
       " '__getattribute__',\n",
       " '__getitem__',\n",
       " '__getnewargs__',\n",
       " '__gt__',\n",
       " '__hash__',\n",
       " '__init__',\n",
       " '__init_subclass__',\n",
       " '__iter__',\n",
       " '__le__',\n",
       " '__len__',\n",
       " '__lt__',\n",
       " '__mul__',\n",
       " '__ne__',\n",
       " '__new__',\n",
       " '__reduce__',\n",
       " '__reduce_ex__',\n",
       " '__repr__',\n",
       " '__rmul__',\n",
       " '__setattr__',\n",
       " '__sizeof__',\n",
       " '__str__',\n",
       " '__subclasshook__',\n",
       " 'count',\n",
       " 'index']"
      ]
     },
     "execution_count": 215,
     "metadata": {},
     "output_type": "execute_result"
    }
   ],
   "source": [
    "dir(tuple)"
   ]
  },
  {
   "cell_type": "code",
   "execution_count": 1,
   "id": "2776479e-89ce-4e4f-84c9-8b8a9655a621",
   "metadata": {},
   "outputs": [],
   "source": [
    "t=()"
   ]
  },
  {
   "cell_type": "code",
   "execution_count": 2,
   "id": "63467af3-49ec-46ab-a563-85239d66ce75",
   "metadata": {},
   "outputs": [
    {
     "data": {
      "text/plain": [
       "tuple"
      ]
     },
     "execution_count": 2,
     "metadata": {},
     "output_type": "execute_result"
    }
   ],
   "source": [
    "type(t)"
   ]
  },
  {
   "cell_type": "code",
   "execution_count": 3,
   "id": "a185072f-399b-4614-a352-3dca2fdbb0e4",
   "metadata": {},
   "outputs": [],
   "source": [
    "t1=(1,2,3,4,5.6,True,\"piyush\")"
   ]
  },
  {
   "cell_type": "code",
   "execution_count": 16,
   "id": "1625a2b8-2a2b-49d2-a31b-ee3302d5d7b4",
   "metadata": {},
   "outputs": [
    {
     "data": {
      "text/plain": [
       "(1, 2, 3, 4, 5.6, True, 'piyush')"
      ]
     },
     "execution_count": 16,
     "metadata": {},
     "output_type": "execute_result"
    }
   ],
   "source": [
    "t1"
   ]
  },
  {
   "cell_type": "code",
   "execution_count": 17,
   "id": "240b138b-3368-477a-ae14-70fcc98e0f80",
   "metadata": {},
   "outputs": [],
   "source": [
    "l=[1,2,5,6]"
   ]
  },
  {
   "cell_type": "code",
   "execution_count": 18,
   "id": "25920d3e-7db6-41cd-81c0-498d046854a8",
   "metadata": {},
   "outputs": [
    {
     "data": {
      "text/plain": [
       "list"
      ]
     },
     "execution_count": 18,
     "metadata": {},
     "output_type": "execute_result"
    }
   ],
   "source": [
    "type(l)"
   ]
  },
  {
   "cell_type": "code",
   "execution_count": 19,
   "id": "eade0652-383b-43cc-82bd-46a9a2b1b842",
   "metadata": {},
   "outputs": [
    {
     "data": {
      "text/plain": [
       "tuple"
      ]
     },
     "execution_count": 19,
     "metadata": {},
     "output_type": "execute_result"
    }
   ],
   "source": [
    "type(t1)"
   ]
  },
  {
   "cell_type": "code",
   "execution_count": 20,
   "id": "6f2df958-3548-4e6d-ac6c-de25c3f2d692",
   "metadata": {},
   "outputs": [
    {
     "data": {
      "text/plain": [
       "1"
      ]
     },
     "execution_count": 20,
     "metadata": {},
     "output_type": "execute_result"
    }
   ],
   "source": [
    "t1[0]"
   ]
  },
  {
   "cell_type": "code",
   "execution_count": 21,
   "id": "2e7d8da0-6c12-42a3-9959-d3b6bbc2c304",
   "metadata": {},
   "outputs": [
    {
     "data": {
      "text/plain": [
       "'piyush'"
      ]
     },
     "execution_count": 21,
     "metadata": {},
     "output_type": "execute_result"
    }
   ],
   "source": [
    "t1[6]"
   ]
  },
  {
   "cell_type": "code",
   "execution_count": 22,
   "id": "5ee31d3f-9a19-422a-b21c-6f780af27c39",
   "metadata": {},
   "outputs": [
    {
     "data": {
      "text/plain": [
       "('piyush', True, 5.6, 4, 3, 2, 1)"
      ]
     },
     "execution_count": 22,
     "metadata": {},
     "output_type": "execute_result"
    }
   ],
   "source": [
    "t1[::-1] #slicing operation"
   ]
  },
  {
   "cell_type": "code",
   "execution_count": 23,
   "id": "f71cd1ed-5c83-455f-8ebf-7160d9b36d9e",
   "metadata": {},
   "outputs": [],
   "source": [
    "t1=t1[::-1] # item reassignment"
   ]
  },
  {
   "cell_type": "code",
   "execution_count": 24,
   "id": "12708572-b848-4114-9e0e-cc45e4511f03",
   "metadata": {},
   "outputs": [
    {
     "data": {
      "text/plain": [
       "('piyush', True, 5.6, 4, 3, 2, 1)"
      ]
     },
     "execution_count": 24,
     "metadata": {},
     "output_type": "execute_result"
    }
   ],
   "source": [
    "t1"
   ]
  },
  {
   "cell_type": "code",
   "execution_count": 26,
   "id": "d56f4c14-8c1b-4cdf-a853-1cc945b8fde0",
   "metadata": {},
   "outputs": [
    {
     "data": {
      "text/plain": [
       "('piyush', True, 5.6)"
      ]
     },
     "execution_count": 26,
     "metadata": {},
     "output_type": "execute_result"
    }
   ],
   "source": [
    "t1[0:3]"
   ]
  },
  {
   "cell_type": "code",
   "execution_count": 27,
   "id": "7edcc899-5674-4799-819a-b291135bfbcf",
   "metadata": {},
   "outputs": [
    {
     "data": {
      "text/plain": [
       "1"
      ]
     },
     "execution_count": 27,
     "metadata": {},
     "output_type": "execute_result"
    }
   ],
   "source": [
    "t1.count(4)"
   ]
  },
  {
   "cell_type": "code",
   "execution_count": 28,
   "id": "dabb8a35-bde9-4858-9b3e-44ffc1d3d5c6",
   "metadata": {},
   "outputs": [
    {
     "data": {
      "text/plain": [
       "0"
      ]
     },
     "execution_count": 28,
     "metadata": {},
     "output_type": "execute_result"
    }
   ],
   "source": [
    "t1.count(\"tyu\")"
   ]
  },
  {
   "cell_type": "code",
   "execution_count": 29,
   "id": "517f199a-4486-4bc7-94c3-32a262d63007",
   "metadata": {},
   "outputs": [
    {
     "data": {
      "text/plain": [
       "1"
      ]
     },
     "execution_count": 29,
     "metadata": {},
     "output_type": "execute_result"
    }
   ],
   "source": [
    "t1.index(1)"
   ]
  },
  {
   "cell_type": "code",
   "execution_count": 30,
   "id": "2f99958a-19c7-45f5-b4df-ee40523d3142",
   "metadata": {},
   "outputs": [
    {
     "data": {
      "text/plain": [
       "2"
      ]
     },
     "execution_count": 30,
     "metadata": {},
     "output_type": "execute_result"
    }
   ],
   "source": [
    "t1.index(5.6)"
   ]
  },
  {
   "cell_type": "code",
   "execution_count": 32,
   "id": "09d7010d-d5c9-4682-a269-ccd7f2e9a135",
   "metadata": {},
   "outputs": [
    {
     "data": {
      "text/plain": [
       "2"
      ]
     },
     "execution_count": 32,
     "metadata": {},
     "output_type": "execute_result"
    }
   ],
   "source": [
    "t1.count(True) # system store boolean value of True as 1 and 1 as it is that's why it shows 2."
   ]
  },
  {
   "cell_type": "code",
   "execution_count": 33,
   "id": "cdd46c64-573f-46bf-b3cd-ab5645820d2e",
   "metadata": {},
   "outputs": [
    {
     "data": {
      "text/plain": [
       "2"
      ]
     },
     "execution_count": 33,
     "metadata": {},
     "output_type": "execute_result"
    }
   ],
   "source": [
    "t1.count(1)"
   ]
  },
  {
   "cell_type": "code",
   "execution_count": 34,
   "id": "151d76ba-892a-406f-b735-01cf1828605a",
   "metadata": {},
   "outputs": [
    {
     "data": {
      "text/plain": [
       "('piyush', True, 5.6, 4, 3, 2, 1)"
      ]
     },
     "execution_count": 34,
     "metadata": {},
     "output_type": "execute_result"
    }
   ],
   "source": [
    "t1"
   ]
  },
  {
   "cell_type": "code",
   "execution_count": 35,
   "id": "2b423fe0-585c-4265-b04c-f240f90a63c9",
   "metadata": {},
   "outputs": [
    {
     "data": {
      "text/plain": [
       "[1, 2, 5, 6]"
      ]
     },
     "execution_count": 35,
     "metadata": {},
     "output_type": "execute_result"
    }
   ],
   "source": [
    "l"
   ]
  },
  {
   "cell_type": "code",
   "execution_count": 52,
   "id": "77f5bee4-4e73-47b3-a557-feff06e2fe85",
   "metadata": {},
   "outputs": [
    {
     "ename": "TypeError",
     "evalue": "'tuple' object does not support item assignment",
     "output_type": "error",
     "traceback": [
      "\u001b[0;31m---------------------------------------------------------------------------\u001b[0m",
      "\u001b[0;31mTypeError\u001b[0m                                 Traceback (most recent call last)",
      "Cell \u001b[0;32mIn[52], line 1\u001b[0m\n\u001b[0;32m----> 1\u001b[0m \u001b[43mt1\u001b[49m\u001b[43m[\u001b[49m\u001b[38;5;241;43m0\u001b[39;49m\u001b[43m]\u001b[49m\u001b[38;5;241m=\u001b[39m\u001b[38;5;124m\"\u001b[39m\u001b[38;5;124mnikhil\u001b[39m\u001b[38;5;124m\"\u001b[39m \u001b[38;5;66;03m# tuples basically follows concept of immutability where it is not going to allow to change   any element at particular index\u001b[39;00m\n",
      "\u001b[0;31mTypeError\u001b[0m: 'tuple' object does not support item assignment"
     ]
    }
   ],
   "source": [
    "t1[0]=\"nikhil\" # tuples basically follows concept of immutability where it is not going to allow to change   any element at particular index"
   ]
  },
  {
   "cell_type": "code",
   "execution_count": 37,
   "id": "7e7ae162-b24f-48bb-ad8e-5152a595ef4c",
   "metadata": {},
   "outputs": [],
   "source": [
    "l[0]=7"
   ]
  },
  {
   "cell_type": "code",
   "execution_count": 39,
   "id": "7af3b555-bbc8-4d03-a9af-9836de8f8cbe",
   "metadata": {},
   "outputs": [
    {
     "data": {
      "text/plain": [
       "[7, 2, 5, 6]"
      ]
     },
     "execution_count": 39,
     "metadata": {},
     "output_type": "execute_result"
    }
   ],
   "source": [
    "l # list support item assignment"
   ]
  },
  {
   "cell_type": "code",
   "execution_count": 46,
   "id": "04e9bb92-780f-491c-b689-b9b59fedeb27",
   "metadata": {},
   "outputs": [
    {
     "name": "stdout",
     "output_type": "stream",
     "text": [
      "piyush <class 'str'>\n",
      "True <class 'bool'>\n",
      "5.6 <class 'float'>\n",
      "4 <class 'int'>\n",
      "3 <class 'int'>\n",
      "2 <class 'int'>\n",
      "1 <class 'int'>\n"
     ]
    }
   ],
   "source": [
    "for i in t1:\n",
    "    print(i,type(i))"
   ]
  },
  {
   "cell_type": "code",
   "execution_count": 49,
   "id": "561c1a5f-0909-49af-9c95-72cfa04c3ff8",
   "metadata": {},
   "outputs": [],
   "source": [
    "t2=(3,8,9,56,78.2,75,89,0,4,)"
   ]
  },
  {
   "cell_type": "code",
   "execution_count": 50,
   "id": "07680307-2918-4009-be9e-c0bc3abccf2b",
   "metadata": {},
   "outputs": [
    {
     "data": {
      "text/plain": [
       "89"
      ]
     },
     "execution_count": 50,
     "metadata": {},
     "output_type": "execute_result"
    }
   ],
   "source": [
    "max(t2)"
   ]
  },
  {
   "cell_type": "code",
   "execution_count": 51,
   "id": "291e7895-fc86-439e-8fa3-45035f876085",
   "metadata": {},
   "outputs": [
    {
     "data": {
      "text/plain": [
       "0"
      ]
     },
     "execution_count": 51,
     "metadata": {},
     "output_type": "execute_result"
    }
   ],
   "source": [
    "min(t2)"
   ]
  },
  {
   "cell_type": "code",
   "execution_count": 53,
   "id": "55519fa7-01ed-46b5-842e-39cdf2a78f23",
   "metadata": {},
   "outputs": [],
   "source": [
    "t3=(5,6,7,8)\n",
    "t4=(\"a\",\"b\",\"c\",\"d\")\n",
    "t5=(t3,t4)"
   ]
  },
  {
   "cell_type": "code",
   "execution_count": 54,
   "id": "76819b70-ff2a-45f7-932d-b838ffc9ac55",
   "metadata": {},
   "outputs": [
    {
     "data": {
      "text/plain": [
       "((5, 6, 7, 8), ('a', 'b', 'c', 'd'))"
      ]
     },
     "execution_count": 54,
     "metadata": {},
     "output_type": "execute_result"
    }
   ],
   "source": [
    "t5"
   ]
  },
  {
   "cell_type": "code",
   "execution_count": 62,
   "id": "9086b291-60e1-470a-9004-743d50b6fcc7",
   "metadata": {},
   "outputs": [],
   "source": [
    "t6=((1,6,7,8),[4,9,0,2])"
   ]
  },
  {
   "cell_type": "code",
   "execution_count": 63,
   "id": "ac4482dd-2391-408a-8657-4085f041ab49",
   "metadata": {},
   "outputs": [
    {
     "data": {
      "text/plain": [
       "((1, 6, 7, 8), [4, 9, 0, 2])"
      ]
     },
     "execution_count": 63,
     "metadata": {},
     "output_type": "execute_result"
    }
   ],
   "source": [
    "t6"
   ]
  },
  {
   "cell_type": "code",
   "execution_count": 64,
   "id": "b6262431-acce-41e3-a67c-49399218f0de",
   "metadata": {},
   "outputs": [],
   "source": [
    "del t6"
   ]
  },
  {
   "cell_type": "code",
   "execution_count": 65,
   "id": "a7ce8792-2b11-4c70-b8cf-ba84764bca23",
   "metadata": {},
   "outputs": [
    {
     "ename": "NameError",
     "evalue": "name 't6' is not defined",
     "output_type": "error",
     "traceback": [
      "\u001b[0;31m---------------------------------------------------------------------------\u001b[0m",
      "\u001b[0;31mNameError\u001b[0m                                 Traceback (most recent call last)",
      "Cell \u001b[0;32mIn[65], line 1\u001b[0m\n\u001b[0;32m----> 1\u001b[0m \u001b[43mt6\u001b[49m\n",
      "\u001b[0;31mNameError\u001b[0m: name 't6' is not defined"
     ]
    }
   ],
   "source": [
    "t6"
   ]
  },
  {
   "cell_type": "code",
   "execution_count": 66,
   "id": "906be49f-d6b4-48a7-9333-7eb75b0ac8ea",
   "metadata": {},
   "outputs": [
    {
     "data": {
      "text/plain": [
       "4"
      ]
     },
     "execution_count": 66,
     "metadata": {},
     "output_type": "execute_result"
    }
   ],
   "source": [
    "len(t4)"
   ]
  },
  {
   "cell_type": "code",
   "execution_count": 67,
   "id": "dcee2e00-3e23-4cda-a522-d54423b15b22",
   "metadata": {},
   "outputs": [
    {
     "data": {
      "text/plain": [
       "True"
      ]
     },
     "execution_count": 67,
     "metadata": {},
     "output_type": "execute_result"
    }
   ],
   "source": [
    "\"piyush\" in t1"
   ]
  },
  {
   "cell_type": "code",
   "execution_count": null,
   "id": "644bc908-e86d-4f6b-b862-e45752b4cfb1",
   "metadata": {},
   "outputs": [],
   "source": []
  },
  {
   "cell_type": "code",
   "execution_count": 68,
   "id": "6d575578-6326-4b6f-bc64-7f2661f73862",
   "metadata": {},
   "outputs": [],
   "source": [
    "s={}"
   ]
  },
  {
   "cell_type": "code",
   "execution_count": 69,
   "id": "4bba4461-4e78-4944-b1b0-af013c91cd60",
   "metadata": {},
   "outputs": [
    {
     "data": {
      "text/plain": [
       "dict"
      ]
     },
     "execution_count": 69,
     "metadata": {},
     "output_type": "execute_result"
    }
   ],
   "source": [
    "type(s)"
   ]
  },
  {
   "cell_type": "code",
   "execution_count": 70,
   "id": "2084905f-84e4-4a1d-8683-5d5a716912ef",
   "metadata": {},
   "outputs": [],
   "source": [
    "s1={1,6,7,8}"
   ]
  },
  {
   "cell_type": "code",
   "execution_count": 71,
   "id": "293bdd27-5e73-4760-bc73-fa9cc2128757",
   "metadata": {},
   "outputs": [
    {
     "data": {
      "text/plain": [
       "set"
      ]
     },
     "execution_count": 71,
     "metadata": {},
     "output_type": "execute_result"
    }
   ],
   "source": [
    "type(s1)"
   ]
  },
  {
   "cell_type": "code",
   "execution_count": 72,
   "id": "cee80ce2-f27d-49a7-8e0a-a872e754afe1",
   "metadata": {},
   "outputs": [],
   "source": [
    "s2={1,1,12,7,7,9,9.3,5,0,11,67,78}"
   ]
  },
  {
   "cell_type": "code",
   "execution_count": 74,
   "id": "3f4b8312-e551-4ed8-9fe7-c941a67118af",
   "metadata": {},
   "outputs": [
    {
     "data": {
      "text/plain": [
       "{0, 1, 5, 7, 9, 9.3, 11, 12, 67, 78}"
      ]
     },
     "execution_count": 74,
     "metadata": {},
     "output_type": "execute_result"
    }
   ],
   "source": [
    "s2 #remove duplicates that's the beauty of sets"
   ]
  },
  {
   "cell_type": "code",
   "execution_count": 75,
   "id": "6e36ebe6-d537-4130-929f-c50991955af5",
   "metadata": {},
   "outputs": [
    {
     "data": {
      "text/plain": [
       "[0, 1, 67, 5, 7, 9.3, 9, 11, 12, 78]"
      ]
     },
     "execution_count": 75,
     "metadata": {},
     "output_type": "execute_result"
    }
   ],
   "source": [
    "list(s2)"
   ]
  },
  {
   "cell_type": "code",
   "execution_count": 76,
   "id": "4a48af41-1198-4a19-91e8-99fae6c692de",
   "metadata": {},
   "outputs": [
    {
     "data": {
      "text/plain": [
       "(0, 1, 67, 5, 7, 9.3, 9, 11, 12, 78)"
      ]
     },
     "execution_count": 76,
     "metadata": {},
     "output_type": "execute_result"
    }
   ],
   "source": [
    "tuple(s2)"
   ]
  },
  {
   "cell_type": "code",
   "execution_count": 77,
   "id": "194d805f-689f-4e3f-8e8c-7ece0eb60cff",
   "metadata": {},
   "outputs": [],
   "source": [
    "l=list(s2)"
   ]
  },
  {
   "cell_type": "code",
   "execution_count": 78,
   "id": "31fc9023-9751-49b7-a3bd-857329da299c",
   "metadata": {},
   "outputs": [
    {
     "data": {
      "text/plain": [
       "{0, 1, 5, 7, 9, 9.3, 11, 12, 67, 78}"
      ]
     },
     "execution_count": 78,
     "metadata": {},
     "output_type": "execute_result"
    }
   ],
   "source": [
    "set(l)"
   ]
  },
  {
   "cell_type": "code",
   "execution_count": 80,
   "id": "715dbe0f-bff6-4d17-a8a0-4934ec0cf424",
   "metadata": {},
   "outputs": [
    {
     "ename": "TypeError",
     "evalue": "unhashable type: 'list'",
     "output_type": "error",
     "traceback": [
      "\u001b[0;31m---------------------------------------------------------------------------\u001b[0m",
      "\u001b[0;31mTypeError\u001b[0m                                 Traceback (most recent call last)",
      "Cell \u001b[0;32mIn[80], line 1\u001b[0m\n\u001b[0;32m----> 1\u001b[0m s3\u001b[38;5;241m=\u001b[39m{\u001b[38;5;241m1\u001b[39m,\u001b[38;5;241m2\u001b[39m,\u001b[38;5;241m3\u001b[39m,\u001b[38;5;241m4\u001b[39m,[\u001b[38;5;241m5\u001b[39m,\u001b[38;5;241m7\u001b[39m,\u001b[38;5;241m8\u001b[39m,\u001b[38;5;241m9\u001b[39m]} \u001b[38;5;66;03m# list has a type unhashable so it is not possible to store list into set.\u001b[39;00m\n",
      "\u001b[0;31mTypeError\u001b[0m: unhashable type: 'list'"
     ]
    }
   ],
   "source": [
    "s3={1,2,3,4,[5,7,8,9]} # list has a type unhashable so it is not possible to store list into set."
   ]
  },
  {
   "cell_type": "code",
   "execution_count": 81,
   "id": "a8a0fc1e-487c-4371-90cc-0ccb125bfc6e",
   "metadata": {},
   "outputs": [],
   "source": [
    "s5={1,2,3,4,(5,6,7,8)}"
   ]
  },
  {
   "cell_type": "code",
   "execution_count": 82,
   "id": "42cfe89c-3849-4368-a342-69919b403ec7",
   "metadata": {},
   "outputs": [
    {
     "data": {
      "text/plain": [
       "{(5, 6, 7, 8), 1, 2, 3, 4}"
      ]
     },
     "execution_count": 82,
     "metadata": {},
     "output_type": "execute_result"
    }
   ],
   "source": [
    "s5"
   ]
  },
  {
   "cell_type": "code",
   "execution_count": 83,
   "id": "8fb86837-ca3e-4d85-8f62-c4ac9e62a6c0",
   "metadata": {},
   "outputs": [
    {
     "ename": "TypeError",
     "evalue": "'set' object is not subscriptable",
     "output_type": "error",
     "traceback": [
      "\u001b[0;31m---------------------------------------------------------------------------\u001b[0m",
      "\u001b[0;31mTypeError\u001b[0m                                 Traceback (most recent call last)",
      "Cell \u001b[0;32mIn[83], line 1\u001b[0m\n\u001b[0;32m----> 1\u001b[0m \u001b[43ms5\u001b[49m\u001b[43m[\u001b[49m\u001b[38;5;241;43m0\u001b[39;49m\u001b[43m]\u001b[49m\n",
      "\u001b[0;31mTypeError\u001b[0m: 'set' object is not subscriptable"
     ]
    }
   ],
   "source": [
    "s5[0]"
   ]
  },
  {
   "cell_type": "code",
   "execution_count": 84,
   "id": "57c80106-bb04-478f-83ea-2c49dcea6dde",
   "metadata": {},
   "outputs": [
    {
     "name": "stdout",
     "output_type": "stream",
     "text": [
      "1\n",
      "2\n",
      "3\n",
      "4\n",
      "(5, 6, 7, 8)\n"
     ]
    }
   ],
   "source": [
    "for i in s5:\n",
    "    print(i)"
   ]
  },
  {
   "cell_type": "code",
   "execution_count": 86,
   "id": "3bb3b339-384b-4755-8554-8c2b4e03bc22",
   "metadata": {},
   "outputs": [
    {
     "data": {
      "text/plain": [
       "['__and__',\n",
       " '__class__',\n",
       " '__class_getitem__',\n",
       " '__contains__',\n",
       " '__delattr__',\n",
       " '__dir__',\n",
       " '__doc__',\n",
       " '__eq__',\n",
       " '__format__',\n",
       " '__ge__',\n",
       " '__getattribute__',\n",
       " '__gt__',\n",
       " '__hash__',\n",
       " '__iand__',\n",
       " '__init__',\n",
       " '__init_subclass__',\n",
       " '__ior__',\n",
       " '__isub__',\n",
       " '__iter__',\n",
       " '__ixor__',\n",
       " '__le__',\n",
       " '__len__',\n",
       " '__lt__',\n",
       " '__ne__',\n",
       " '__new__',\n",
       " '__or__',\n",
       " '__rand__',\n",
       " '__reduce__',\n",
       " '__reduce_ex__',\n",
       " '__repr__',\n",
       " '__ror__',\n",
       " '__rsub__',\n",
       " '__rxor__',\n",
       " '__setattr__',\n",
       " '__sizeof__',\n",
       " '__str__',\n",
       " '__sub__',\n",
       " '__subclasshook__',\n",
       " '__xor__',\n",
       " 'add',\n",
       " 'clear',\n",
       " 'copy',\n",
       " 'difference',\n",
       " 'difference_update',\n",
       " 'discard',\n",
       " 'intersection',\n",
       " 'intersection_update',\n",
       " 'isdisjoint',\n",
       " 'issubset',\n",
       " 'issuperset',\n",
       " 'pop',\n",
       " 'remove',\n",
       " 'symmetric_difference',\n",
       " 'symmetric_difference_update',\n",
       " 'union',\n",
       " 'update']"
      ]
     },
     "execution_count": 86,
     "metadata": {},
     "output_type": "execute_result"
    }
   ],
   "source": [
    "dir(s5)"
   ]
  },
  {
   "cell_type": "code",
   "execution_count": 87,
   "id": "6357fd74-ebdf-4e81-938c-065190c72956",
   "metadata": {},
   "outputs": [],
   "source": [
    "s5.add(10)"
   ]
  },
  {
   "cell_type": "code",
   "execution_count": 88,
   "id": "553f2a94-89c2-4340-9843-b56ccbc53ba2",
   "metadata": {},
   "outputs": [
    {
     "data": {
      "text/plain": [
       "{(5, 6, 7, 8), 1, 10, 2, 3, 4}"
      ]
     },
     "execution_count": 88,
     "metadata": {},
     "output_type": "execute_result"
    }
   ],
   "source": [
    "s5"
   ]
  },
  {
   "cell_type": "code",
   "execution_count": 89,
   "id": "32416ba4-0e73-48f3-a1b9-9f2fd2c57230",
   "metadata": {},
   "outputs": [
    {
     "data": {
      "text/plain": [
       "6"
      ]
     },
     "execution_count": 89,
     "metadata": {},
     "output_type": "execute_result"
    }
   ],
   "source": [
    "len(s5)"
   ]
  },
  {
   "cell_type": "code",
   "execution_count": 90,
   "id": "7b793c29-4b31-4ed4-9e28-8e54aadc4229",
   "metadata": {},
   "outputs": [
    {
     "data": {
      "text/plain": [
       "1"
      ]
     },
     "execution_count": 90,
     "metadata": {},
     "output_type": "execute_result"
    }
   ],
   "source": [
    "s5.pop()"
   ]
  },
  {
   "cell_type": "code",
   "execution_count": 91,
   "id": "6a3eb106-df0c-42a9-9bb5-e47176b6e034",
   "metadata": {},
   "outputs": [
    {
     "data": {
      "text/plain": [
       "{(5, 6, 7, 8), 10, 2, 3, 4}"
      ]
     },
     "execution_count": 91,
     "metadata": {},
     "output_type": "execute_result"
    }
   ],
   "source": [
    "s5"
   ]
  },
  {
   "cell_type": "code",
   "execution_count": 92,
   "id": "7e00938d-8ca8-41c4-9470-ef692cd1fb2f",
   "metadata": {},
   "outputs": [
    {
     "data": {
      "text/plain": [
       "2"
      ]
     },
     "execution_count": 92,
     "metadata": {},
     "output_type": "execute_result"
    }
   ],
   "source": [
    "s5.pop()"
   ]
  },
  {
   "cell_type": "code",
   "execution_count": 93,
   "id": "64aeba75-98b1-4458-8ecd-ec3467690d1e",
   "metadata": {},
   "outputs": [
    {
     "data": {
      "text/plain": [
       "{(5, 6, 7, 8), 10, 3, 4}"
      ]
     },
     "execution_count": 93,
     "metadata": {},
     "output_type": "execute_result"
    }
   ],
   "source": [
    "s5"
   ]
  },
  {
   "cell_type": "code",
   "execution_count": 94,
   "id": "d33381b9-df44-4b6e-9f21-12240d1dee29",
   "metadata": {},
   "outputs": [],
   "source": [
    "s5.clear()"
   ]
  },
  {
   "cell_type": "code",
   "execution_count": 95,
   "id": "f3731f8c-f1e8-4a1d-9935-ee55d95cfd6e",
   "metadata": {},
   "outputs": [
    {
     "data": {
      "text/plain": [
       "set()"
      ]
     },
     "execution_count": 95,
     "metadata": {},
     "output_type": "execute_result"
    }
   ],
   "source": [
    "s5"
   ]
  },
  {
   "cell_type": "code",
   "execution_count": 96,
   "id": "0e4ffb3f-bf58-4f73-9c20-4f3b54d2f025",
   "metadata": {},
   "outputs": [],
   "source": [
    "s6={1,7,8,9}\n",
    "s7={0,3,8,9}"
   ]
  },
  {
   "cell_type": "code",
   "execution_count": 99,
   "id": "c1256e8d-9bff-42ac-b424-cc9837855f16",
   "metadata": {},
   "outputs": [
    {
     "data": {
      "text/plain": [
       "{1, 7}"
      ]
     },
     "execution_count": 99,
     "metadata": {},
     "output_type": "execute_result"
    }
   ],
   "source": [
    "s6.difference(s7) ##Return the difference of two or more sets as a new set"
   ]
  },
  {
   "cell_type": "code",
   "execution_count": 98,
   "id": "1bffa5c5-282d-4a4b-9209-0d4deb9d08cb",
   "metadata": {},
   "outputs": [
    {
     "data": {
      "text/plain": [
       "{0, 3}"
      ]
     },
     "execution_count": 98,
     "metadata": {},
     "output_type": "execute_result"
    }
   ],
   "source": [
    "s7.difference(s6)"
   ]
  },
  {
   "cell_type": "code",
   "execution_count": null,
   "id": "e0295c23-da12-4ab0-9f95-d01d74709911",
   "metadata": {},
   "outputs": [],
   "source": []
  },
  {
   "cell_type": "code",
   "execution_count": 100,
   "id": "8e0ca4e2-152b-4054-a0db-23f77b82141e",
   "metadata": {},
   "outputs": [],
   "source": [
    "d={}"
   ]
  },
  {
   "cell_type": "code",
   "execution_count": 101,
   "id": "5a4ffee6-f93c-45ab-adc5-ecff71cbb21f",
   "metadata": {},
   "outputs": [
    {
     "data": {
      "text/plain": [
       "dict"
      ]
     },
     "execution_count": 101,
     "metadata": {},
     "output_type": "execute_result"
    }
   ],
   "source": [
    "type(d)"
   ]
  },
  {
   "cell_type": "code",
   "execution_count": 102,
   "id": "126c15b1-b3ef-4bb2-82bd-4d14f2c7a070",
   "metadata": {},
   "outputs": [],
   "source": [
    "d1={\"name\":\"piyush\",\"email_id\":\"piyush@gmail.com\",\"number\":235678}"
   ]
  },
  {
   "cell_type": "code",
   "execution_count": 103,
   "id": "7ba15424-52f8-46a6-bdd9-098bce7a9624",
   "metadata": {},
   "outputs": [
    {
     "data": {
      "text/plain": [
       "{'name': 'piyush', 'email_id': 'piyush@gmail.com', 'number': 235678}"
      ]
     },
     "execution_count": 103,
     "metadata": {},
     "output_type": "execute_result"
    }
   ],
   "source": [
    "d1"
   ]
  },
  {
   "cell_type": "code",
   "execution_count": 104,
   "id": "427e2c44-338e-4a00-a173-4bf7718cf9a5",
   "metadata": {},
   "outputs": [],
   "source": [
    "d2={\"name\":\"piyush\",\"name\":\"nikhil\"}"
   ]
  },
  {
   "cell_type": "code",
   "execution_count": 106,
   "id": "990a0ffa-bf3e-4056-9f6f-9b7e24703338",
   "metadata": {},
   "outputs": [
    {
     "data": {
      "text/plain": [
       "{'name': 'nikhil'}"
      ]
     },
     "execution_count": 106,
     "metadata": {},
     "output_type": "execute_result"
    }
   ],
   "source": [
    "d2 # key should always be unique"
   ]
  },
  {
   "cell_type": "code",
   "execution_count": 107,
   "id": "88e0721f-38fe-4139-a578-bb1859b290ae",
   "metadata": {},
   "outputs": [
    {
     "data": {
      "text/plain": [
       "{2334: 'piyush'}"
      ]
     },
     "execution_count": 107,
     "metadata": {},
     "output_type": "execute_result"
    }
   ],
   "source": [
    "d3={2334:\"piyush\"}\n",
    "d3"
   ]
  },
  {
   "cell_type": "code",
   "execution_count": 108,
   "id": "85d01053-5345-48bf-95cc-e30191ab38e6",
   "metadata": {},
   "outputs": [
    {
     "data": {
      "text/plain": [
       "{23.67: 'nikhil'}"
      ]
     },
     "execution_count": 108,
     "metadata": {},
     "output_type": "execute_result"
    }
   ],
   "source": [
    "d4={23.67:\"nikhil\"}\n",
    "d4"
   ]
  },
  {
   "cell_type": "code",
   "execution_count": 110,
   "id": "774b4ce4-71f9-4ae1-9a32-cd752c648c94",
   "metadata": {},
   "outputs": [
    {
     "data": {
      "text/plain": [
       "{True: 'anc'}"
      ]
     },
     "execution_count": 110,
     "metadata": {},
     "output_type": "execute_result"
    }
   ],
   "source": [
    "d5={True:\"anc\"}\n",
    "d5"
   ]
  },
  {
   "cell_type": "code",
   "execution_count": 111,
   "id": "747c2a61-2faf-4e7b-b747-19a8a70b6345",
   "metadata": {},
   "outputs": [
    {
     "ename": "SyntaxError",
     "evalue": "incomplete input (2741267627.py, line 1)",
     "output_type": "error",
     "traceback": [
      "\u001b[0;36m  Cell \u001b[0;32mIn[111], line 1\u001b[0;36m\u001b[0m\n\u001b[0;31m    d6={#:\"abc\"}\u001b[0m\n\u001b[0m                ^\u001b[0m\n\u001b[0;31mSyntaxError\u001b[0m\u001b[0;31m:\u001b[0m incomplete input\n"
     ]
    }
   ],
   "source": [
    "d6={#:\"abc\"}"
   ]
  },
  {
   "cell_type": "code",
   "execution_count": 113,
   "id": "dde7ddb9-d11f-4095-98a9-5aa8ea3e0fe3",
   "metadata": {},
   "outputs": [
    {
     "ename": "SyntaxError",
     "evalue": "invalid syntax (2591303980.py, line 1)",
     "output_type": "error",
     "traceback": [
      "\u001b[0;36m  Cell \u001b[0;32mIn[113], line 1\u001b[0;36m\u001b[0m\n\u001b[0;31m    d7={@:\"abc\"}\u001b[0m\n\u001b[0m        ^\u001b[0m\n\u001b[0;31mSyntaxError\u001b[0m\u001b[0;31m:\u001b[0m invalid syntax\n"
     ]
    }
   ],
   "source": [
    "d7={@:\"abc\"}"
   ]
  },
  {
   "cell_type": "code",
   "execution_count": 114,
   "id": "36ade943-3ee1-4bf7-b401-5abc1440156b",
   "metadata": {},
   "outputs": [
    {
     "ename": "TypeError",
     "evalue": "unhashable type: 'list'",
     "output_type": "error",
     "traceback": [
      "\u001b[0;31m---------------------------------------------------------------------------\u001b[0m",
      "\u001b[0;31mTypeError\u001b[0m                                 Traceback (most recent call last)",
      "Cell \u001b[0;32mIn[114], line 1\u001b[0m\n\u001b[0;32m----> 1\u001b[0m d8\u001b[38;5;241m=\u001b[39m{[\u001b[38;5;241m1\u001b[39m,\u001b[38;5;241m5\u001b[39m,\u001b[38;5;241m6\u001b[39m]:\u001b[38;5;124m\"\u001b[39m\u001b[38;5;124mabc\u001b[39m\u001b[38;5;124m\"\u001b[39m}\n",
      "\u001b[0;31mTypeError\u001b[0m: unhashable type: 'list'"
     ]
    }
   ],
   "source": [
    "d8={[1,5,6]:\"abc\"}"
   ]
  },
  {
   "cell_type": "code",
   "execution_count": 115,
   "id": "df926ecb-975c-4f51-9757-411c1ab35e4d",
   "metadata": {},
   "outputs": [],
   "source": [
    "d9={(1,5,6):\"abc\"}"
   ]
  },
  {
   "cell_type": "code",
   "execution_count": 116,
   "id": "bdda0646-5a6c-4a14-8ed4-b4b666c7c6d4",
   "metadata": {},
   "outputs": [
    {
     "data": {
      "text/plain": [
       "{(1, 5, 6): 'abc'}"
      ]
     },
     "execution_count": 116,
     "metadata": {},
     "output_type": "execute_result"
    }
   ],
   "source": [
    "d9"
   ]
  },
  {
   "cell_type": "code",
   "execution_count": 117,
   "id": "02829110-7aa1-4bf4-b949-6e7248cf875c",
   "metadata": {},
   "outputs": [
    {
     "ename": "TypeError",
     "evalue": "unhashable type: 'set'",
     "output_type": "error",
     "traceback": [
      "\u001b[0;31m---------------------------------------------------------------------------\u001b[0m",
      "\u001b[0;31mTypeError\u001b[0m                                 Traceback (most recent call last)",
      "Cell \u001b[0;32mIn[117], line 1\u001b[0m\n\u001b[0;32m----> 1\u001b[0m d10\u001b[38;5;241m=\u001b[39m{{\u001b[38;5;241m1\u001b[39m,\u001b[38;5;241m6\u001b[39m,\u001b[38;5;241m8\u001b[39m}:\u001b[38;5;124m\"\u001b[39m\u001b[38;5;124mvds\u001b[39m\u001b[38;5;124m\"\u001b[39m}\n",
      "\u001b[0;31mTypeError\u001b[0m: unhashable type: 'set'"
     ]
    }
   ],
   "source": [
    "d10={{1,6,8}:\"vds\"}"
   ]
  },
  {
   "cell_type": "code",
   "execution_count": 118,
   "id": "9e624f73-9c1b-4f89-8bfd-42509eddaa27",
   "metadata": {},
   "outputs": [
    {
     "ename": "TypeError",
     "evalue": "unhashable type: 'dict'",
     "output_type": "error",
     "traceback": [
      "\u001b[0;31m---------------------------------------------------------------------------\u001b[0m",
      "\u001b[0;31mTypeError\u001b[0m                                 Traceback (most recent call last)",
      "Cell \u001b[0;32mIn[118], line 1\u001b[0m\n\u001b[0;32m----> 1\u001b[0m d11\u001b[38;5;241m=\u001b[39m{{\u001b[38;5;124m\"\u001b[39m\u001b[38;5;124mkey\u001b[39m\u001b[38;5;124m\"\u001b[39m:\u001b[38;5;241m234\u001b[39m}:\u001b[38;5;124m\"\u001b[39m\u001b[38;5;124mtyu\u001b[39m\u001b[38;5;124m\"\u001b[39m}\n",
      "\u001b[0;31mTypeError\u001b[0m: unhashable type: 'dict'"
     ]
    }
   ],
   "source": [
    "d11={{\"key\":234}:\"tyu\"}"
   ]
  },
  {
   "cell_type": "code",
   "execution_count": 120,
   "id": "d8b4d589-7b47-40cc-a2bf-26df93ba4500",
   "metadata": {},
   "outputs": [
    {
     "data": {
      "text/plain": [
       "{'course': ['data science', 'web dev', 'AI']}"
      ]
     },
     "execution_count": 120,
     "metadata": {},
     "output_type": "execute_result"
    }
   ],
   "source": [
    "d12={\"course\":[\"data science\",\"web dev\",\"AI\"]}\n",
    "d12 # value as a list"
   ]
  },
  {
   "cell_type": "code",
   "execution_count": 121,
   "id": "f42058b3-6046-44ae-b5e3-290b489aa4a7",
   "metadata": {},
   "outputs": [
    {
     "data": {
      "text/plain": [
       "{'key': (1, 5, 6)}"
      ]
     },
     "execution_count": 121,
     "metadata": {},
     "output_type": "execute_result"
    }
   ],
   "source": [
    "d13={\"key\":(1,5,6)}\n",
    "d13 # value as tuple"
   ]
  },
  {
   "cell_type": "code",
   "execution_count": 123,
   "id": "8632633a-8383-45d5-bd2b-5b8edec8703c",
   "metadata": {},
   "outputs": [
    {
     "data": {
      "text/plain": [
       "{'key': {1, 2, 43}}"
      ]
     },
     "execution_count": 123,
     "metadata": {},
     "output_type": "execute_result"
    }
   ],
   "source": [
    "d14={\"key\":{1,2,43}}\n",
    "d14 # value as set"
   ]
  },
  {
   "cell_type": "code",
   "execution_count": 152,
   "id": "6f220e9a-103c-43f6-b484-29dc0fe087d8",
   "metadata": {},
   "outputs": [
    {
     "data": {
      "text/plain": [
       "{'key': {'name': 'piyush', 'class': '2nd year'}}"
      ]
     },
     "execution_count": 152,
     "metadata": {},
     "output_type": "execute_result"
    }
   ],
   "source": [
    "d15={\"key\":{\"name\":\"piyush\",\"class\":\"2nd year\"}}\n",
    "d15 # value as dictionary"
   ]
  },
  {
   "cell_type": "code",
   "execution_count": 125,
   "id": "d44e5565-3ec9-488e-83ce-c1c317814d82",
   "metadata": {},
   "outputs": [],
   "source": [
    "d16 = {\"batch_name\":[\"data science master\",\"web dev\",\"AI\"],\"start_date\":(28,14,21),\"mentor_name\":{\"krish_sir\",\"sudhanshu_sir\",\"naveen_sir\"}}"
   ]
  },
  {
   "cell_type": "code",
   "execution_count": 126,
   "id": "0d740e90-2c37-4dbb-9429-136f5afc621e",
   "metadata": {},
   "outputs": [
    {
     "data": {
      "text/plain": [
       "{'batch_name': ['data science master', 'web dev', 'AI'],\n",
       " 'start_date': (28, 14, 21),\n",
       " 'mentor_name': {'krish_sir', 'naveen_sir', 'sudhanshu_sir'}}"
      ]
     },
     "execution_count": 126,
     "metadata": {},
     "output_type": "execute_result"
    }
   ],
   "source": [
    "d16"
   ]
  },
  {
   "cell_type": "code",
   "execution_count": 127,
   "id": "939f7d45-eb61-4a0a-95ad-14a17c6e194a",
   "metadata": {},
   "outputs": [
    {
     "data": {
      "text/plain": [
       "{'batch_name': ['data science master', 'web dev', 'AI'],\n",
       " 'start_date': (28, 14, 21),\n",
       " 'mentor_name': {'krish_sir', 'naveen_sir', 'sudhanshu_sir'},\n",
       " 'timing': (8, 9, 0)}"
      ]
     },
     "execution_count": 127,
     "metadata": {},
     "output_type": "execute_result"
    }
   ],
   "source": [
    "d16[\"timing\"] =(8,9,0)\n",
    "d16"
   ]
  },
  {
   "cell_type": "code",
   "execution_count": 128,
   "id": "6f92a5a0-4ac5-4b66-b818-369d2af25633",
   "metadata": {},
   "outputs": [
    {
     "data": {
      "text/plain": [
       "['__class__',\n",
       " '__class_getitem__',\n",
       " '__contains__',\n",
       " '__delattr__',\n",
       " '__delitem__',\n",
       " '__dir__',\n",
       " '__doc__',\n",
       " '__eq__',\n",
       " '__format__',\n",
       " '__ge__',\n",
       " '__getattribute__',\n",
       " '__getitem__',\n",
       " '__gt__',\n",
       " '__hash__',\n",
       " '__init__',\n",
       " '__init_subclass__',\n",
       " '__ior__',\n",
       " '__iter__',\n",
       " '__le__',\n",
       " '__len__',\n",
       " '__lt__',\n",
       " '__ne__',\n",
       " '__new__',\n",
       " '__or__',\n",
       " '__reduce__',\n",
       " '__reduce_ex__',\n",
       " '__repr__',\n",
       " '__reversed__',\n",
       " '__ror__',\n",
       " '__setattr__',\n",
       " '__setitem__',\n",
       " '__sizeof__',\n",
       " '__str__',\n",
       " '__subclasshook__',\n",
       " 'clear',\n",
       " 'copy',\n",
       " 'fromkeys',\n",
       " 'get',\n",
       " 'items',\n",
       " 'keys',\n",
       " 'pop',\n",
       " 'popitem',\n",
       " 'setdefault',\n",
       " 'update',\n",
       " 'values']"
      ]
     },
     "execution_count": 128,
     "metadata": {},
     "output_type": "execute_result"
    }
   ],
   "source": [
    "dir(dict)"
   ]
  },
  {
   "cell_type": "code",
   "execution_count": 129,
   "id": "2d295a0b-d36a-45e2-bc58-be890828a3e0",
   "metadata": {},
   "outputs": [
    {
     "data": {
      "text/plain": [
       "['data science master', 'web dev', 'AI']"
      ]
     },
     "execution_count": 129,
     "metadata": {},
     "output_type": "execute_result"
    }
   ],
   "source": [
    "d16[\"batch_name\"]"
   ]
  },
  {
   "cell_type": "code",
   "execution_count": 130,
   "id": "e7e00162-2e85-46d5-9d8f-f62aad9065d3",
   "metadata": {},
   "outputs": [
    {
     "data": {
      "text/plain": [
       "{'krish_sir', 'naveen_sir', 'sudhanshu_sir'}"
      ]
     },
     "execution_count": 130,
     "metadata": {},
     "output_type": "execute_result"
    }
   ],
   "source": [
    "d16[\"mentor_name\"]"
   ]
  },
  {
   "cell_type": "code",
   "execution_count": 131,
   "id": "fe40c20b-0363-4b9c-8029-f91cbaaddef4",
   "metadata": {},
   "outputs": [
    {
     "data": {
      "text/plain": [
       "set"
      ]
     },
     "execution_count": 131,
     "metadata": {},
     "output_type": "execute_result"
    }
   ],
   "source": [
    "type(d16[\"mentor_name\"])"
   ]
  },
  {
   "cell_type": "code",
   "execution_count": 132,
   "id": "3e165aa8-5950-4c15-ad3a-f51c65859cf2",
   "metadata": {},
   "outputs": [
    {
     "ename": "KeyError",
     "evalue": "'key'",
     "output_type": "error",
     "traceback": [
      "\u001b[0;31m---------------------------------------------------------------------------\u001b[0m",
      "\u001b[0;31mKeyError\u001b[0m                                  Traceback (most recent call last)",
      "Cell \u001b[0;32mIn[132], line 1\u001b[0m\n\u001b[0;32m----> 1\u001b[0m \u001b[43md16\u001b[49m\u001b[43m[\u001b[49m\u001b[38;5;124;43m\"\u001b[39;49m\u001b[38;5;124;43mkey\u001b[39;49m\u001b[38;5;124;43m\"\u001b[39;49m\u001b[43m]\u001b[49m\n",
      "\u001b[0;31mKeyError\u001b[0m: 'key'"
     ]
    }
   ],
   "source": [
    "d16[\"key\"]"
   ]
  },
  {
   "cell_type": "code",
   "execution_count": 133,
   "id": "0840acca-878a-493a-8744-6e0726e8142e",
   "metadata": {},
   "outputs": [],
   "source": [
    "d16[\"name\"] = \"nikhil\""
   ]
  },
  {
   "cell_type": "code",
   "execution_count": 134,
   "id": "d07ba668-b3df-4028-a3ed-73ca2cfc7343",
   "metadata": {},
   "outputs": [
    {
     "data": {
      "text/plain": [
       "{'batch_name': ['data science master', 'web dev', 'AI'],\n",
       " 'start_date': (28, 14, 21),\n",
       " 'mentor_name': {'krish_sir', 'naveen_sir', 'sudhanshu_sir'},\n",
       " 'timing': (8, 9, 0),\n",
       " 'name': 'nikhil'}"
      ]
     },
     "execution_count": 134,
     "metadata": {},
     "output_type": "execute_result"
    }
   ],
   "source": [
    "d16"
   ]
  },
  {
   "cell_type": "code",
   "execution_count": 136,
   "id": "9187a7ac-0858-48b3-b72a-90d862a09fd3",
   "metadata": {},
   "outputs": [
    {
     "data": {
      "text/plain": [
       "'NIKHIL'"
      ]
     },
     "execution_count": 136,
     "metadata": {},
     "output_type": "execute_result"
    }
   ],
   "source": [
    "d16[\"name\"].upper()"
   ]
  },
  {
   "cell_type": "code",
   "execution_count": 153,
   "id": "1f5db096-ebb7-4c87-98d6-38b9618c644e",
   "metadata": {},
   "outputs": [
    {
     "data": {
      "text/plain": [
       "{'key': {'name': 'piyush', 'class': '2nd year'}}"
      ]
     },
     "execution_count": 153,
     "metadata": {},
     "output_type": "execute_result"
    }
   ],
   "source": [
    "d15"
   ]
  },
  {
   "cell_type": "code",
   "execution_count": 154,
   "id": "b39e938b-a5f6-40fe-8675-9508ce5561bb",
   "metadata": {},
   "outputs": [
    {
     "data": {
      "text/plain": [
       "{'name': 'piyush', 'class': '2nd year'}"
      ]
     },
     "execution_count": 154,
     "metadata": {},
     "output_type": "execute_result"
    }
   ],
   "source": [
    "d15[\"key\"]"
   ]
  },
  {
   "cell_type": "code",
   "execution_count": 155,
   "id": "318d747e-cb54-49e9-a78d-534ec5871f29",
   "metadata": {},
   "outputs": [
    {
     "data": {
      "text/plain": [
       "dict"
      ]
     },
     "execution_count": 155,
     "metadata": {},
     "output_type": "execute_result"
    }
   ],
   "source": [
    "type(d15[\"key\"])"
   ]
  },
  {
   "cell_type": "code",
   "execution_count": 156,
   "id": "c922e264-598d-4a5c-82e1-11a8cc3fc4f4",
   "metadata": {},
   "outputs": [
    {
     "data": {
      "text/plain": [
       "'2nd year'"
      ]
     },
     "execution_count": 156,
     "metadata": {},
     "output_type": "execute_result"
    }
   ],
   "source": [
    "d15[\"key\"][\"class\"]"
   ]
  },
  {
   "cell_type": "code",
   "execution_count": 157,
   "id": "18214640-5f97-494e-b783-0ac4f3b314a4",
   "metadata": {},
   "outputs": [
    {
     "data": {
      "text/plain": [
       "{'key': {'name': 'piyush', 'class': '2nd year'}}"
      ]
     },
     "execution_count": 157,
     "metadata": {},
     "output_type": "execute_result"
    }
   ],
   "source": [
    "d15\n"
   ]
  },
  {
   "cell_type": "code",
   "execution_count": 158,
   "id": "7d569a50-28c2-46f2-ba46-508e6055a29e",
   "metadata": {},
   "outputs": [
    {
     "data": {
      "text/plain": [
       "{'key': {'name': 'piyush', 'class': '2nd year'}, 'key1': 'abc'}"
      ]
     },
     "execution_count": 158,
     "metadata": {},
     "output_type": "execute_result"
    }
   ],
   "source": [
    "d15[\"key1\"]=\"abc\"\n",
    "d15 # it will add a new key along with its value in dictionary"
   ]
  },
  {
   "cell_type": "code",
   "execution_count": 159,
   "id": "fa460f1e-9819-4550-a397-30caf0d1d173",
   "metadata": {},
   "outputs": [
    {
     "data": {
      "text/plain": [
       "{'key': {'name': 'piyush', 'class': '2nd year'}}"
      ]
     },
     "execution_count": 159,
     "metadata": {},
     "output_type": "execute_result"
    }
   ],
   "source": [
    "del d15[\"key1\"]\n",
    "d15 # it will delete that respective key and value which i declared"
   ]
  },
  {
   "cell_type": "code",
   "execution_count": 160,
   "id": "565a0b92-a179-4c8a-bba1-2bc0860cdc26",
   "metadata": {},
   "outputs": [
    {
     "data": {
      "text/plain": [
       "{}"
      ]
     },
     "execution_count": 160,
     "metadata": {},
     "output_type": "execute_result"
    }
   ],
   "source": [
    "d15.clear()\n",
    "d15 # it will clear all the keys and value from dictionary"
   ]
  },
  {
   "cell_type": "code",
   "execution_count": 161,
   "id": "25bfa73f-b942-4344-80ea-c89da8313b9c",
   "metadata": {},
   "outputs": [
    {
     "data": {
      "text/plain": [
       "5"
      ]
     },
     "execution_count": 161,
     "metadata": {},
     "output_type": "execute_result"
    }
   ],
   "source": [
    "len(d16) #count the total number of keys"
   ]
  },
  {
   "cell_type": "code",
   "execution_count": 162,
   "id": "a8b24cb7-8eb8-44d7-b7cb-c496c142b3bc",
   "metadata": {},
   "outputs": [
    {
     "data": {
      "text/plain": [
       "{'batch_name': ['data science master', 'web dev', 'AI'],\n",
       " 'start_date': (28, 14, 21),\n",
       " 'mentor_name': {'krish_sir', 'naveen_sir', 'sudhanshu_sir'},\n",
       " 'timing': (8, 9, 0),\n",
       " 'name': 'nikhil'}"
      ]
     },
     "execution_count": 162,
     "metadata": {},
     "output_type": "execute_result"
    }
   ],
   "source": [
    "d16"
   ]
  },
  {
   "cell_type": "code",
   "execution_count": 163,
   "id": "9f8e6e1e-e48d-439e-a869-2d525e6b5b86",
   "metadata": {},
   "outputs": [
    {
     "data": {
      "text/plain": [
       "dict_keys(['batch_name', 'start_date', 'mentor_name', 'timing', 'name'])"
      ]
     },
     "execution_count": 163,
     "metadata": {},
     "output_type": "execute_result"
    }
   ],
   "source": [
    "d16.keys()"
   ]
  },
  {
   "cell_type": "code",
   "execution_count": 164,
   "id": "7b9d879f-ea61-4f69-a298-c357c1198b39",
   "metadata": {},
   "outputs": [
    {
     "data": {
      "text/plain": [
       "dict_values([['data science master', 'web dev', 'AI'], (28, 14, 21), {'sudhanshu_sir', 'naveen_sir', 'krish_sir'}, (8, 9, 0), 'nikhil'])"
      ]
     },
     "execution_count": 164,
     "metadata": {},
     "output_type": "execute_result"
    }
   ],
   "source": [
    "d16.values()"
   ]
  },
  {
   "cell_type": "code",
   "execution_count": 165,
   "id": "4154834c-0532-4364-bd9c-59f977169362",
   "metadata": {},
   "outputs": [
    {
     "data": {
      "text/plain": [
       "[['data science master', 'web dev', 'AI'],\n",
       " (28, 14, 21),\n",
       " {'krish_sir', 'naveen_sir', 'sudhanshu_sir'},\n",
       " (8, 9, 0),\n",
       " 'nikhil']"
      ]
     },
     "execution_count": 165,
     "metadata": {},
     "output_type": "execute_result"
    }
   ],
   "source": [
    "list(d16.values())"
   ]
  },
  {
   "cell_type": "code",
   "execution_count": 166,
   "id": "1e35dff2-1292-407d-a818-95fa81ea0a05",
   "metadata": {},
   "outputs": [
    {
     "data": {
      "text/plain": [
       "(['data science master', 'web dev', 'AI'],\n",
       " (28, 14, 21),\n",
       " {'krish_sir', 'naveen_sir', 'sudhanshu_sir'},\n",
       " (8, 9, 0),\n",
       " 'nikhil')"
      ]
     },
     "execution_count": 166,
     "metadata": {},
     "output_type": "execute_result"
    }
   ],
   "source": [
    "tuple(d16.values())"
   ]
  },
  {
   "cell_type": "code",
   "execution_count": 167,
   "id": "53436d73-9ebd-4680-ab86-0b144e98b1c9",
   "metadata": {},
   "outputs": [
    {
     "data": {
      "text/plain": [
       "['batch_name', 'start_date', 'mentor_name', 'timing', 'name']"
      ]
     },
     "execution_count": 167,
     "metadata": {},
     "output_type": "execute_result"
    }
   ],
   "source": [
    "list(d16.keys())"
   ]
  },
  {
   "cell_type": "code",
   "execution_count": 168,
   "id": "14ca6990-ddac-4703-ba03-355c0ebccabc",
   "metadata": {},
   "outputs": [
    {
     "data": {
      "text/plain": [
       "('batch_name', 'start_date', 'mentor_name', 'timing', 'name')"
      ]
     },
     "execution_count": 168,
     "metadata": {},
     "output_type": "execute_result"
    }
   ],
   "source": [
    "tuple(d16.keys())"
   ]
  },
  {
   "cell_type": "code",
   "execution_count": 170,
   "id": "670aaca9-1f9b-4467-8e5e-48ff49d668d3",
   "metadata": {},
   "outputs": [
    {
     "data": {
      "text/plain": [
       "[('batch_name', ['data science master', 'web dev', 'AI']),\n",
       " ('start_date', (28, 14, 21)),\n",
       " ('mentor_name', {'krish_sir', 'naveen_sir', 'sudhanshu_sir'}),\n",
       " ('timing', (8, 9, 0)),\n",
       " ('name', 'nikhil')]"
      ]
     },
     "execution_count": 170,
     "metadata": {},
     "output_type": "execute_result"
    }
   ],
   "source": [
    "list(d16.items())"
   ]
  },
  {
   "cell_type": "code",
   "execution_count": 171,
   "id": "a85b71ec-be87-4b42-8973-03ed691b5b28",
   "metadata": {},
   "outputs": [
    {
     "data": {
      "text/plain": [
       "{'batch_name': ['data science master', 'web dev', 'AI'],\n",
       " 'start_date': (28, 14, 21),\n",
       " 'mentor_name': {'krish_sir', 'naveen_sir', 'sudhanshu_sir'},\n",
       " 'timing': (8, 9, 0),\n",
       " 'name': 'nikhil'}"
      ]
     },
     "execution_count": 171,
     "metadata": {},
     "output_type": "execute_result"
    }
   ],
   "source": [
    "d17=d16.copy()\n",
    "d17"
   ]
  },
  {
   "cell_type": "code",
   "execution_count": 180,
   "id": "0a042566-3ad9-4e44-85d3-fd0483113084",
   "metadata": {},
   "outputs": [
    {
     "data": {
      "text/plain": [
       "{'batch_name': ['data science master', 'web dev', 'AI'],\n",
       " 'start_date': (28, 14, 21),\n",
       " 'mentor_name': {'krish_sir', 'naveen_sir', 'sudhanshu_sir'},\n",
       " 'timing': (8, 9, 0)}"
      ]
     },
     "execution_count": 180,
     "metadata": {},
     "output_type": "execute_result"
    }
   ],
   "source": [
    "\n",
    "d16  # name excluded after performing del operation"
   ]
  },
  {
   "cell_type": "code",
   "execution_count": 181,
   "id": "e3f74fae-4023-482b-976a-29d56bb8d370",
   "metadata": {},
   "outputs": [
    {
     "data": {
      "text/plain": [
       "{'batch_name': ['data science master', 'web dev', 'AI'],\n",
       " 'start_date': (28, 14, 21),\n",
       " 'mentor_name': {'krish_sir', 'naveen_sir', 'sudhanshu_sir'},\n",
       " 'timing': (8, 9, 0),\n",
       " 'name': 'nikhil'}"
      ]
     },
     "execution_count": 181,
     "metadata": {},
     "output_type": "execute_result"
    }
   ],
   "source": [
    "d17 #name included"
   ]
  },
  {
   "cell_type": "code",
   "execution_count": 182,
   "id": "20667082-74f7-4469-954c-9d201e907773",
   "metadata": {},
   "outputs": [],
   "source": [
    "d18=d16"
   ]
  },
  {
   "cell_type": "code",
   "execution_count": 183,
   "id": "fbf40815-8d3a-47cc-bbd2-a082d54fd45c",
   "metadata": {},
   "outputs": [
    {
     "data": {
      "text/plain": [
       "{'batch_name': ['data science master', 'web dev', 'AI'],\n",
       " 'start_date': (28, 14, 21),\n",
       " 'mentor_name': {'krish_sir', 'naveen_sir', 'sudhanshu_sir'},\n",
       " 'timing': (8, 9, 0)}"
      ]
     },
     "execution_count": 183,
     "metadata": {},
     "output_type": "execute_result"
    }
   ],
   "source": [
    "d18"
   ]
  },
  {
   "cell_type": "code",
   "execution_count": 184,
   "id": "19d472b8-de04-4146-bb72-4c6d1e822362",
   "metadata": {},
   "outputs": [
    {
     "ename": "TypeError",
     "evalue": "pop expected at least 1 argument, got 0",
     "output_type": "error",
     "traceback": [
      "\u001b[0;31m---------------------------------------------------------------------------\u001b[0m",
      "\u001b[0;31mTypeError\u001b[0m                                 Traceback (most recent call last)",
      "Cell \u001b[0;32mIn[184], line 1\u001b[0m\n\u001b[0;32m----> 1\u001b[0m \u001b[43md16\u001b[49m\u001b[38;5;241;43m.\u001b[39;49m\u001b[43mpop\u001b[49m\u001b[43m(\u001b[49m\u001b[43m)\u001b[49m\n",
      "\u001b[0;31mTypeError\u001b[0m: pop expected at least 1 argument, got 0"
     ]
    }
   ],
   "source": [
    "d16.pop()"
   ]
  },
  {
   "cell_type": "code",
   "execution_count": 185,
   "id": "6c1e3865-eea2-49d8-add5-14d3cdebc984",
   "metadata": {},
   "outputs": [
    {
     "data": {
      "text/plain": [
       "(8, 9, 0)"
      ]
     },
     "execution_count": 185,
     "metadata": {},
     "output_type": "execute_result"
    }
   ],
   "source": [
    "d16.pop(\"timing\")"
   ]
  },
  {
   "cell_type": "code",
   "execution_count": 186,
   "id": "530b6338-6df4-4bdb-a8c9-caabc813570e",
   "metadata": {},
   "outputs": [
    {
     "data": {
      "text/plain": [
       "{'batch_name': ['data science master', 'web dev', 'AI'],\n",
       " 'start_date': (28, 14, 21),\n",
       " 'mentor_name': {'krish_sir', 'naveen_sir', 'sudhanshu_sir'}}"
      ]
     },
     "execution_count": 186,
     "metadata": {},
     "output_type": "execute_result"
    }
   ],
   "source": [
    "d16"
   ]
  },
  {
   "cell_type": "code",
   "execution_count": 187,
   "id": "e70675ba-7ddf-4a4d-84cb-f9a013779d7f",
   "metadata": {},
   "outputs": [
    {
     "data": {
      "text/plain": [
       "{1: ('a', 'b', 'c'), 2: ('a', 'b', 'c'), 3: ('a', 'b', 'c')}"
      ]
     },
     "execution_count": 187,
     "metadata": {},
     "output_type": "execute_result"
    }
   ],
   "source": [
    "d.fromkeys((1,2,3) , (\"a\",\"b\",\"c\"))"
   ]
  },
  {
   "cell_type": "code",
   "execution_count": 189,
   "id": "a11a8486-6027-41b8-b0c4-40b81f929068",
   "metadata": {},
   "outputs": [
    {
     "data": {
      "text/plain": [
       "({'key1': 'value1', 'key2': 'value2'}, {'key3': 'value3', 'key4': 'value4'})"
      ]
     },
     "execution_count": 189,
     "metadata": {},
     "output_type": "execute_result"
    }
   ],
   "source": [
    "d19={\"key1\":\"value1\",\"key2\":\"value2\"}\n",
    "d20={\"key3\":\"value3\",\"key4\":\"value4\"}\n",
    "(d19,d20)"
   ]
  },
  {
   "cell_type": "code",
   "execution_count": 193,
   "id": "f98e1082-ffa4-4976-99d4-b14975f707e9",
   "metadata": {},
   "outputs": [],
   "source": [
    "d19.update(d20) #If E is present and has a .keys() method, then does:  for k in E: D[k] = E[k]\n",
    "## If E is present and lacks a .keys() method, then does:  for k, v in E: D[k] = v\n",
    "### In either case, this is followed by: for k in F:  D[k] = F[k]"
   ]
  },
  {
   "cell_type": "code",
   "execution_count": 194,
   "id": "1ecaaf14-9f65-4035-9cac-9418f3599cc3",
   "metadata": {},
   "outputs": [
    {
     "data": {
      "text/plain": [
       "{'key1': 'value1', 'key2': 'value2', 'key3': 'value3', 'key4': 'value4'}"
      ]
     },
     "execution_count": 194,
     "metadata": {},
     "output_type": "execute_result"
    }
   ],
   "source": [
    "d19"
   ]
  },
  {
   "cell_type": "code",
   "execution_count": 195,
   "id": "08fe074c-c001-47b6-b437-960893049cfa",
   "metadata": {},
   "outputs": [
    {
     "data": {
      "text/plain": [
       "{'key3': 'value3', 'key4': 'value4'}"
      ]
     },
     "execution_count": 195,
     "metadata": {},
     "output_type": "execute_result"
    }
   ],
   "source": [
    "d20"
   ]
  },
  {
   "cell_type": "code",
   "execution_count": 196,
   "id": "ba1828d6-1897-4d8f-bfc3-5382e912b1ea",
   "metadata": {},
   "outputs": [
    {
     "data": {
      "text/plain": [
       "'value3'"
      ]
     },
     "execution_count": 196,
     "metadata": {},
     "output_type": "execute_result"
    }
   ],
   "source": [
    "d20.get(\"key3\")"
   ]
  },
  {
   "cell_type": "code",
   "execution_count": 197,
   "id": "84ce93f0-134e-4f7e-8e2c-bb066194ac6c",
   "metadata": {},
   "outputs": [
    {
     "data": {
      "text/plain": [
       "'value3'"
      ]
     },
     "execution_count": 197,
     "metadata": {},
     "output_type": "execute_result"
    }
   ],
   "source": [
    "d20[\"key3\"]"
   ]
  },
  {
   "cell_type": "code",
   "execution_count": 198,
   "id": "b55793b0-c678-4196-9f65-5613b26c93be",
   "metadata": {},
   "outputs": [
    {
     "ename": "KeyError",
     "evalue": "'piyush'",
     "output_type": "error",
     "traceback": [
      "\u001b[0;31m---------------------------------------------------------------------------\u001b[0m",
      "\u001b[0;31mKeyError\u001b[0m                                  Traceback (most recent call last)",
      "Cell \u001b[0;32mIn[198], line 1\u001b[0m\n\u001b[0;32m----> 1\u001b[0m \u001b[43md20\u001b[49m\u001b[43m[\u001b[49m\u001b[38;5;124;43m\"\u001b[39;49m\u001b[38;5;124;43mpiyush\u001b[39;49m\u001b[38;5;124;43m\"\u001b[39;49m\u001b[43m]\u001b[49m\n",
      "\u001b[0;31mKeyError\u001b[0m: 'piyush'"
     ]
    }
   ],
   "source": [
    "d20[\"piyush\"]"
   ]
  },
  {
   "cell_type": "markdown",
   "id": "399abe46-3c21-46f1-9b36-d0b278853e33",
   "metadata": {},
   "source": [
    "### Dictionary Comprehension"
   ]
  },
  {
   "cell_type": "code",
   "execution_count": 200,
   "id": "387e7c82-ccd3-4b4b-8b9b-dee588fcf710",
   "metadata": {},
   "outputs": [
    {
     "data": {
      "text/plain": [
       "{1: 1, 2: 4, 3: 9, 4: 16, 5: 25, 6: 36, 7: 49, 8: 64, 9: 81, 10: 100}"
      ]
     },
     "execution_count": 200,
     "metadata": {},
     "output_type": "execute_result"
    }
   ],
   "source": [
    "{i: i**2 for i in range(1,11)}"
   ]
  },
  {
   "cell_type": "code",
   "execution_count": 199,
   "id": "cd4da771-94e7-4a52-b4e2-de7c25a1f722",
   "metadata": {},
   "outputs": [
    {
     "data": {
      "text/plain": [
       "[1, 2, 3, 4, 5, 6, 7, 8, 9, 10]"
      ]
     },
     "execution_count": 199,
     "metadata": {},
     "output_type": "execute_result"
    }
   ],
   "source": [
    "list(range(1,11))"
   ]
  },
  {
   "cell_type": "code",
   "execution_count": 204,
   "id": "abf35ed8-1452-49d5-ad63-390312a06c23",
   "metadata": {},
   "outputs": [],
   "source": [
    "import math\n",
    "d21 = {i: math.log10(i) for i in range(1,11)}"
   ]
  },
  {
   "cell_type": "code",
   "execution_count": 202,
   "id": "39d342e4-06f7-4bf6-a700-18668a3d4a93",
   "metadata": {},
   "outputs": [
    {
     "data": {
      "text/plain": [
       "{'batch_name': ['data science master', 'web dev', 'AI'],\n",
       " 'start_date': (28, 14, 21),\n",
       " 'mentor_name': {'krish_sir', 'naveen_sir', 'sudhanshu_sir'}}"
      ]
     },
     "execution_count": 202,
     "metadata": {},
     "output_type": "execute_result"
    }
   ],
   "source": [
    "d16"
   ]
  },
  {
   "cell_type": "code",
   "execution_count": 203,
   "id": "9ae81898-3f2d-433e-9160-14e3536ee2e9",
   "metadata": {},
   "outputs": [
    {
     "data": {
      "text/plain": [
       "True"
      ]
     },
     "execution_count": 203,
     "metadata": {},
     "output_type": "execute_result"
    }
   ],
   "source": [
    "\"batch_name\" in d16"
   ]
  },
  {
   "cell_type": "code",
   "execution_count": 205,
   "id": "0ced77fb-ef95-42f7-be9d-63e75f6a437b",
   "metadata": {},
   "outputs": [
    {
     "data": {
      "text/plain": [
       "{1: 0.0,\n",
       " 2: 0.3010299956639812,\n",
       " 3: 0.47712125471966244,\n",
       " 4: 0.6020599913279624,\n",
       " 5: 0.6989700043360189,\n",
       " 6: 0.7781512503836436,\n",
       " 7: 0.8450980400142568,\n",
       " 8: 0.9030899869919435,\n",
       " 9: 0.9542425094393249,\n",
       " 10: 1.0}"
      ]
     },
     "execution_count": 205,
     "metadata": {},
     "output_type": "execute_result"
    }
   ],
   "source": [
    "d21"
   ]
  },
  {
   "cell_type": "code",
   "execution_count": 206,
   "id": "2d1af178-83ff-4b3b-b1fd-af2c8d1623a0",
   "metadata": {},
   "outputs": [
    {
     "data": {
      "text/plain": [
       "dict_keys([1, 2, 3, 4, 5, 6, 7, 8, 9, 10])"
      ]
     },
     "execution_count": 206,
     "metadata": {},
     "output_type": "execute_result"
    }
   ],
   "source": [
    "d21.keys()"
   ]
  },
  {
   "cell_type": "code",
   "execution_count": 213,
   "id": "b531492d-af5e-4eb2-9d5e-cd906328452c",
   "metadata": {},
   "outputs": [
    {
     "name": "stdout",
     "output_type": "stream",
     "text": [
      "0.3010299956639812\n",
      "0.6020599913279624\n",
      "0.7781512503836436\n",
      "0.9030899869919435\n",
      "1.0\n"
     ]
    }
   ],
   "source": [
    "for i in d21.keys():\n",
    "    if i%2==0:\n",
    "         print(d21.get(i))\n",
    "  \n",
    "    "
   ]
  }
 ],
 "metadata": {
  "kernelspec": {
   "display_name": "Python 3 (ipykernel)",
   "language": "python",
   "name": "python3"
  },
  "language_info": {
   "codemirror_mode": {
    "name": "ipython",
    "version": 3
   },
   "file_extension": ".py",
   "mimetype": "text/x-python",
   "name": "python",
   "nbconvert_exporter": "python",
   "pygments_lexer": "ipython3",
   "version": "3.10.8"
  }
 },
 "nbformat": 4,
 "nbformat_minor": 5
}
