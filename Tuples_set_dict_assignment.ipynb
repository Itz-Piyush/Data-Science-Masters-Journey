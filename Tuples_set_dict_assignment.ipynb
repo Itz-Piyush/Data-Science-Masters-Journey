{
 "cells": [
  {
   "cell_type": "markdown",
   "id": "66b9b345-5b45-47cd-9a23-53cb68718622",
   "metadata": {},
   "source": [
    "Q1.What are the characteristics of the tuples? Is tuple mutable?"
   ]
  },
  {
   "cell_type": "markdown",
   "id": "b4c05070-85c5-4ad1-9b03-5d1a854e7a7d",
   "metadata": {},
   "source": [
    ":-Tuples contains a sequence of elements.The number and elements of a tuple are fixed at compile time and they cannot be changed at runtime.Tuples have characteristic of both struct and arrays and it has a property of immutability."
   ]
  },
  {
   "cell_type": "markdown",
   "id": "2da389c7-35ea-454d-8ddf-dc64d7b70e97",
   "metadata": {},
   "source": [
    "Q2. What are the two tuple methods in python? Give an example of each method. Give a reason why \n",
    "tuples have only two in-built methods as compared to Lists."
   ]
  },
  {
   "cell_type": "markdown",
   "id": "39e4d295-b4be-4454-aff3-cd890240fa65",
   "metadata": {},
   "source": [
    ":- The two tuple methods in python are count() which means to Returns the number of times a specified value occurs in a tuple and Index() means to Search the tuple for a specified value and returns the position of where it was found.Tuples are immutable and lists are mutable as we cannot change the content of tuple at runtime whereas in list we are able to change their content."
   ]
  },
  {
   "cell_type": "code",
   "execution_count": 2,
   "id": "c51c1bb5-b0fe-4b62-9ff9-d2e9ed3dc528",
   "metadata": {},
   "outputs": [
    {
     "data": {
      "text/plain": [
       "2"
      ]
     },
     "execution_count": 2,
     "metadata": {},
     "output_type": "execute_result"
    }
   ],
   "source": [
    "t=(1,2,3,7,1,9,6,4,0,2,8,5,6)\n",
    "t.count(1)"
   ]
  },
  {
   "cell_type": "code",
   "execution_count": 6,
   "id": "7f74e9ec-4a81-40e5-9732-9ffbfa825d24",
   "metadata": {},
   "outputs": [
    {
     "data": {
      "text/plain": [
       "2"
      ]
     },
     "execution_count": 6,
     "metadata": {},
     "output_type": "execute_result"
    }
   ],
   "source": [
    "t.index(3)"
   ]
  },
  {
   "cell_type": "markdown",
   "id": "7ec48328-f184-4985-beb4-c585fe18d7db",
   "metadata": {},
   "source": [
    "Q3.  Which collection datatypes in python do not allow duplicate items? Write a code using a set to remove \n",
    "duplicates from the given list."
   ]
  },
  {
   "cell_type": "markdown",
   "id": "7125694a-b34b-44ab-ae35-6af7d34d7199",
   "metadata": {},
   "source": [
    ":- Set is a collection of datatypes in python that does not allow duplicate items."
   ]
  },
  {
   "cell_type": "code",
   "execution_count": 4,
   "id": "528ed5ff-8988-4c2d-93da-944b77289d97",
   "metadata": {},
   "outputs": [
    {
     "name": "stdout",
     "output_type": "stream",
     "text": [
      "[1, 2, 3, 4]\n"
     ]
    }
   ],
   "source": [
    "List = [1, 1, 1, 2, 1, 3, 1, 4, 2, 1, 2, 2, 2, 3, 2, 4, 3, 1, 3, 2, 3, 3, 3, 4, 4, 1, 4, 2, 4, 3, 4, 4]\n",
    "t=set(List)\n",
    "print(list(t))"
   ]
  },
  {
   "cell_type": "markdown",
   "id": "5e89ed8c-abfd-407e-8095-9906633741b0",
   "metadata": {},
   "source": [
    "Q4. Explain the difference between the union() and update() methods for a set. Give an example of \n",
    "each method."
   ]
  },
  {
   "cell_type": "markdown",
   "id": "c0a0961e-c0e1-4471-958c-c5b25b36c7d1",
   "metadata": {},
   "source": [
    ":- Union() method is used to return the union of a set and the set of elements from one or more iterable like string, list, set. This method takes arbitrary number of iterable objects as argument, which means one or more iterable can be passed. If iterable other than set is passed, it first converts the iterable object to set object and then perform the union operation. It returns a newly created set, which contains all the elements ( distinct ) present in all the iterables.\n",
    "whereas update() method is used to return the union of a set and the set of elements from one or more iterable like string, list, set. This method takes arbitrary number of iterable objects as argument, which means one or more iterable can be passed. If iterable other than set is passed, it first converts the iterable object to set object and then perform the union operation. It returns a newly created set, which contains all the elements ( distinct ) present in all the iterables."
   ]
  },
  {
   "cell_type": "code",
   "execution_count": 7,
   "id": "d54cbbb4-a57a-4b1e-9306-c6badf043767",
   "metadata": {},
   "outputs": [
    {
     "name": "stdout",
     "output_type": "stream",
     "text": [
      "{1, 2, 3, 4, 5, 6, 7, 8, 9}\n"
     ]
    }
   ],
   "source": [
    "A={1,2,3,4,5}\n",
    "B={4,5,6,7,8,9}\n",
    "S=A.union(B)\n",
    "print(S)"
   ]
  },
  {
   "cell_type": "code",
   "execution_count": 8,
   "id": "45198eec-2e7d-42c4-8efd-b27b3e894e86",
   "metadata": {},
   "outputs": [
    {
     "data": {
      "text/plain": [
       "{3, 7, 9, 12}"
      ]
     },
     "execution_count": 8,
     "metadata": {},
     "output_type": "execute_result"
    }
   ],
   "source": [
    "a={12,3,7}\n",
    "b={3,7,9}\n",
    "a.update(b)\n",
    "a"
   ]
  },
  {
   "cell_type": "markdown",
   "id": "b5fec317-fdef-4e9a-b401-7327c2669a9a",
   "metadata": {},
   "source": [
    "Q5. What is a dictionary? Give an example. Also, state whether a dictionary is ordered or unordered."
   ]
  },
  {
   "cell_type": "markdown",
   "id": "aa7e6237-3e28-4b6a-b094-eb799cd81550",
   "metadata": {},
   "source": [
    ":- The dictionary is an unordered collection that contains key:value pairs separated by commas inside curly brackets. Dictionaries are optimized to retrieve values when the key is known.\n"
   ]
  },
  {
   "cell_type": "code",
   "execution_count": 15,
   "id": "27db54cb-2223-4e64-be7f-e06bccf398ee",
   "metadata": {},
   "outputs": [
    {
     "name": "stdout",
     "output_type": "stream",
     "text": [
      "a 1\n",
      "b 2\n",
      "c 3\n",
      "d 4\n"
     ]
    }
   ],
   "source": [
    "d = {}\n",
    "d['a'] = 1\n",
    "d['b'] = 2\n",
    "d['c'] = 3\n",
    "d['d'] = 4\n",
    "for key, value in d.items():\n",
    "    print(key, value)\n",
    "##ordered dictionary"
   ]
  },
  {
   "cell_type": "markdown",
   "id": "7655d281-d273-4623-8b41-8d9c5b3549f0",
   "metadata": {},
   "source": [
    "Q6. Can we create a nested dictionary? If so, please give an example by creating a simple one-level \n",
    "nested dictionary."
   ]
  },
  {
   "cell_type": "markdown",
   "id": "af3e13d9-4e5c-4efd-9093-fe1f46b2f240",
   "metadata": {},
   "source": [
    ":- Yes we can create a nested dictionary.In Python, a nested dictionary is a dictionary inside a dictionary. It is a collection of dictionaries into one single dictionary."
   ]
  },
  {
   "cell_type": "code",
   "execution_count": 16,
   "id": "3f811d16-25ce-4a78-a9a3-c3720e3cee15",
   "metadata": {},
   "outputs": [
    {
     "name": "stdout",
     "output_type": "stream",
     "text": [
      "({'key1': 'value', 'key2': 'value2'}, {'key3': 'value3', 'key4': 'value4'})\n"
     ]
    }
   ],
   "source": [
    "d1 = {\"key1\" : \"value\" , \"key2\" : \"value2\"}\n",
    "d2 = {\"key3\" : \"value3\" , \"key4\" :\"value4\"}\n",
    "d3 = (d1,d2)\n",
    "print(d3)"
   ]
  },
  {
   "cell_type": "markdown",
   "id": "5a23d4ab-5d21-4f00-af3d-a40de479dc88",
   "metadata": {},
   "source": [
    "Q7. Using setdefault() method, create key named topics in the given dictionary and also add the value of \n",
    "the key as this list ['Python', 'Machine Learning’, 'Deep Learning']\n",
    "\n",
    "dict1 = {'language' : 'Python', 'course': 'Data Science Masters'}"
   ]
  },
  {
   "cell_type": "code",
   "execution_count": 18,
   "id": "a3732634-3ceb-456a-bfd2-37eb99f26106",
   "metadata": {},
   "outputs": [
    {
     "data": {
      "text/plain": [
       "{'language': 'Python',\n",
       " 'course': 'Data Science Masters',\n",
       " 'topics': ['Python', 'Machine Learning', 'Deep Learning']}"
      ]
     },
     "execution_count": 18,
     "metadata": {},
     "output_type": "execute_result"
    }
   ],
   "source": [
    "dict1={'language':'Python','course':'Data Science Masters'}\n",
    "dict1.setdefault(\"topics\",['Python','Machine Learning','Deep Learning'])\n",
    "dict1"
   ]
  },
  {
   "cell_type": "markdown",
   "id": "abf5cb0e-133d-47c5-8cc2-81814988895e",
   "metadata": {},
   "source": [
    "Q8. What are the three view objects in dictionaries? Use the three in-built methods in python to display \n",
    "these three view objects for the given dictionary.\n",
    "\n",
    "dict1 = {'Sport': 'Cricket' , 'Teams': ['India', 'Australia', 'England', 'South Africa', 'Sri Lanka', 'New Zealand']}"
   ]
  },
  {
   "cell_type": "markdown",
   "id": "8eafa34c-8e56-4fa8-9e5c-713e8b507669",
   "metadata": {},
   "source": [
    "*In the python dictionaries, some of the methods return view objects. This view objects are dynamic view objects, meaning that when we made some changes in the dictionary then the view reflects all these changes.\n",
    "\n",
    "*The main view objects of dictionary in python are keys, values and items. They provide a non-constant view of the dictionary’s entries.\n",
    "\n",
    "*Keys holds all the keys of the dictionary, the values objects holds all the values, whereas the items holds the key-value pairs."
   ]
  },
  {
   "cell_type": "code",
   "execution_count": 19,
   "id": "42866b57-9b5a-4c02-97a3-104239fa9606",
   "metadata": {},
   "outputs": [
    {
     "name": "stdout",
     "output_type": "stream",
     "text": [
      "dict_keys(['Sport', 'Teams'])\n",
      "<class 'dict_keys'>\n"
     ]
    }
   ],
   "source": [
    "dict1={'Sport':'Cricket','Teams':['India','Australia','England','South Africa','Sri Lanka','New Zealand']}\n",
    "t=dict1.keys()\n",
    "print(t)\n",
    "print(type(t))"
   ]
  },
  {
   "cell_type": "code",
   "execution_count": 20,
   "id": "e7f47d20-00cd-468e-8d55-3d5891421f02",
   "metadata": {},
   "outputs": [
    {
     "data": {
      "text/plain": [
       "{'Sport': 'Cricket',\n",
       " 'Teams': ['India',\n",
       "  'Australia',\n",
       "  'England',\n",
       "  'South Africa',\n",
       "  'Sri Lanka',\n",
       "  'New Zealand']}"
      ]
     },
     "execution_count": 20,
     "metadata": {},
     "output_type": "execute_result"
    }
   ],
   "source": [
    "dict1"
   ]
  },
  {
   "cell_type": "code",
   "execution_count": 21,
   "id": "3acd0928-f04f-4c99-95aa-eafa33a052d8",
   "metadata": {},
   "outputs": [
    {
     "name": "stdout",
     "output_type": "stream",
     "text": [
      "dict_values(['Cricket', ['India', 'Australia', 'England', 'South Africa', 'Sri Lanka', 'New Zealand']])\n",
      "<class 'dict_values'>\n"
     ]
    }
   ],
   "source": [
    "v=dict1.values()\n",
    "print(v)\n",
    "print(type(v))"
   ]
  },
  {
   "cell_type": "code",
   "execution_count": 22,
   "id": "f35f682a-d29e-45be-8ca2-c1f9a6a788bd",
   "metadata": {},
   "outputs": [
    {
     "data": {
      "text/plain": [
       "{'Sport': 'Cricket',\n",
       " 'Teams': ['India',\n",
       "  'Australia',\n",
       "  'England',\n",
       "  'South Africa',\n",
       "  'Sri Lanka',\n",
       "  'New Zealand']}"
      ]
     },
     "execution_count": 22,
     "metadata": {},
     "output_type": "execute_result"
    }
   ],
   "source": [
    "dict1"
   ]
  },
  {
   "cell_type": "code",
   "execution_count": 23,
   "id": "30f83603-c947-4f5e-9a4a-2f336cc52d86",
   "metadata": {},
   "outputs": [
    {
     "name": "stdout",
     "output_type": "stream",
     "text": [
      "dict_items([('Sport', 'Cricket'), ('Teams', ['India', 'Australia', 'England', 'South Africa', 'Sri Lanka', 'New Zealand'])])\n",
      "<class 'dict_items'>\n"
     ]
    }
   ],
   "source": [
    "i=dict1.items()\n",
    "print(i)\n",
    "print(type(i))"
   ]
  },
  {
   "cell_type": "code",
   "execution_count": null,
   "id": "4c396033-b5ce-48ff-bf65-f571d86e9088",
   "metadata": {},
   "outputs": [],
   "source": []
  }
 ],
 "metadata": {
  "kernelspec": {
   "display_name": "Python 3 (ipykernel)",
   "language": "python",
   "name": "python3"
  },
  "language_info": {
   "codemirror_mode": {
    "name": "ipython",
    "version": 3
   },
   "file_extension": ".py",
   "mimetype": "text/x-python",
   "name": "python",
   "nbconvert_exporter": "python",
   "pygments_lexer": "ipython3",
   "version": "3.10.8"
  }
 },
 "nbformat": 4,
 "nbformat_minor": 5
}
