{
 "cells": [
  {
   "cell_type": "markdown",
   "id": "bc72f7ff-15e8-48f9-89aa-791250b03c36",
   "metadata": {},
   "source": [
    "## FEB 7 ASSIGNEMNT PYTHON"
   ]
  },
  {
   "cell_type": "markdown",
   "id": "be09c50e-3310-4c09-b533-66fbd492a0f9",
   "metadata": {},
   "source": [
    "Q1. You are writing code for a company. The requirement of the company is that you create a python \n",
    "function that will check whether the password entered by the user is correct or not. The function should \n",
    "take the password as input and return the string “Valid Password” if the entered password follows the \n",
    "below-given password guidelines else it should return “Invalid Password”.\n",
    "\n",
    "\n",
    "Note: 1. The Password should contain at least two uppercase letters and at least two lowercase letters.\n",
    "\n",
    "2. The Password should contain at least a number and three special characters.\n",
    "\n",
    "3. The length of the password should be 10 characters long."
   ]
  },
  {
   "cell_type": "code",
   "execution_count": 10,
   "id": "97e1b5fa-1f91-4291-8ccd-7ea6e5f9746c",
   "metadata": {},
   "outputs": [
    {
     "name": "stdin",
     "output_type": "stream",
     "text": [
      "Enter your password:- PIyush@#!1\n"
     ]
    },
    {
     "name": "stdout",
     "output_type": "stream",
     "text": [
      "Valid Password\n"
     ]
    }
   ],
   "source": [
    "def check_password(password):\n",
    "    # check if password is 10 characters long\n",
    "    if len(password) != 10:\n",
    "        return \"Invalid Password\"\n",
    "\n",
    "    # check if password contains at least two uppercase and two lowercase letters\n",
    "    upper_count = 0\n",
    "    lower_count = 0\n",
    "    for char in password:\n",
    "        if char.isupper():\n",
    "            upper_count += 1\n",
    "        elif char.islower():\n",
    "            lower_count += 1\n",
    "    if upper_count < 2 or lower_count < 2:\n",
    "        return \"Invalid Password\"\n",
    "\n",
    "    # check if password contains at least a number and three special characters\n",
    "    num_count = 0\n",
    "    special_count = 0\n",
    "    for char in password:\n",
    "        if char.isdigit():\n",
    "            num_count += 1\n",
    "        elif char in \"!@#$%^&*()_+\":\n",
    "            special_count += 1\n",
    "    if num_count < 1 or special_count < 3:\n",
    "        return \"Invalid Password\"\n",
    "\n",
    "    # if all conditions are met, return \"Valid Password\"\n",
    "    return \"Valid Password\"\n",
    "password=input(\"Enter your password:-\")\n",
    "print(check_password(password))"
   ]
  },
  {
   "cell_type": "markdown",
   "id": "1965871b-b8ca-4f77-8ef7-b05e16915b69",
   "metadata": {},
   "source": [
    "Q2. Solve the below-given questions using at least one of the following: \n",
    "\n",
    "1. Lambda function\n",
    "2. Filter function\n",
    "3. Zap function\n",
    "4. List Comprehension"
   ]
  },
  {
   "cell_type": "markdown",
   "id": "f93d9718-38f5-4faf-9bf3-860112e14c52",
   "metadata": {},
   "source": [
    "B Check if the string starts with a particular letter."
   ]
  },
  {
   "cell_type": "code",
   "execution_count": 11,
   "id": "e3eea599-75cc-40b7-8dab-73854b63395f",
   "metadata": {},
   "outputs": [],
   "source": [
    "startsWithLetter = lambda string, letter: string.startswith(letter)\n"
   ]
  },
  {
   "cell_type": "code",
   "execution_count": 12,
   "id": "6aa9d379-3278-45e2-b98a-3d03cf95a4b4",
   "metadata": {},
   "outputs": [
    {
     "name": "stdout",
     "output_type": "stream",
     "text": [
      "True\n",
      "False\n"
     ]
    }
   ],
   "source": [
    "string = \"hello world\"\n",
    "letter = \"h\"\n",
    "result = startsWithLetter(string, letter)\n",
    "print(result) # True\n",
    "\n",
    "letter = \"w\"\n",
    "result = startsWithLetter(string, letter)\n",
    "print(result) # False\n"
   ]
  },
  {
   "cell_type": "markdown",
   "id": "0cd76b30-13cd-488e-afc5-982ce3056494",
   "metadata": {},
   "source": [
    "B Check if the string is numeric."
   ]
  },
  {
   "cell_type": "code",
   "execution_count": 13,
   "id": "242413bc-be69-450b-8728-34240926e831",
   "metadata": {},
   "outputs": [],
   "source": [
    "isNumeric = lambda string: string.isnumeric()\n"
   ]
  },
  {
   "cell_type": "code",
   "execution_count": 14,
   "id": "2c97a745-34e6-4bbd-b470-1590f6552620",
   "metadata": {},
   "outputs": [
    {
     "name": "stdout",
     "output_type": "stream",
     "text": [
      "True\n",
      "False\n"
     ]
    }
   ],
   "source": [
    "string1 = \"123\"\n",
    "string2 = \"hello\"\n",
    "result1 = isNumeric(string1)\n",
    "result2 = isNumeric(string2)\n",
    "print(result1) # True\n",
    "print(result2) # False\n"
   ]
  },
  {
   "cell_type": "markdown",
   "id": "c600b59b-966d-4bdc-b8a1-b7e3511f53b6",
   "metadata": {},
   "source": [
    "*Sort a list of tuples having fruit names and their quantity. [(\"mango\",99),(\"orange\",80), (\"grapes\", 1000)-"
   ]
  },
  {
   "cell_type": "code",
   "execution_count": 15,
   "id": "f78a9604-860a-44f2-abee-a6052ca13f2b",
   "metadata": {},
   "outputs": [
    {
     "name": "stdout",
     "output_type": "stream",
     "text": [
      "[('orange', 80), ('mango', 99), ('grapes', 1000)]\n"
     ]
    }
   ],
   "source": [
    "l=[(\"mango\",99),(\"orange\",80),(\"grapes\",1000)]\n",
    "print(sorted(l,key=lambda x : x[1]))"
   ]
  },
  {
   "cell_type": "markdown",
   "id": "73bc50d9-b034-4b0d-b596-8df622964e68",
   "metadata": {},
   "source": [
    "* Find the squares of numbers from 1 to 10."
   ]
  },
  {
   "cell_type": "code",
   "execution_count": 19,
   "id": "25abc316-9b6c-461a-a488-fcbeecbc4d43",
   "metadata": {},
   "outputs": [
    {
     "name": "stdout",
     "output_type": "stream",
     "text": [
      "[1, 2, 3, 4, 5, 6, 7, 8, 9, 10]\n"
     ]
    },
    {
     "data": {
      "text/plain": [
       "[1, 4, 9, 16, 25, 36, 49, 64, 81, 100]"
      ]
     },
     "execution_count": 19,
     "metadata": {},
     "output_type": "execute_result"
    }
   ],
   "source": [
    "l=list(range(1,11))\n",
    "print(l)\n",
    "list(map(lambda x:x**2,l))"
   ]
  },
  {
   "cell_type": "markdown",
   "id": "3f7855e1-6d79-4189-9446-784abc6a1496",
   "metadata": {},
   "source": [
    "* Find the cube root of numbers from 1 to 10."
   ]
  },
  {
   "cell_type": "code",
   "execution_count": 20,
   "id": "40cbab87-5037-4173-9331-91ac9f1da931",
   "metadata": {},
   "outputs": [
    {
     "data": {
      "text/plain": [
       "[1, 8, 27, 64, 125, 216, 343, 512, 729, 1000]"
      ]
     },
     "execution_count": 20,
     "metadata": {},
     "output_type": "execute_result"
    }
   ],
   "source": [
    "l=list(range(1,11))\n",
    "list(map(lambda x:x**3,l))"
   ]
  },
  {
   "cell_type": "markdown",
   "id": "5092e624-76ee-432c-bd04-aca62518ca7b",
   "metadata": {},
   "source": [
    "* Check if a given number is even."
   ]
  },
  {
   "cell_type": "code",
   "execution_count": 24,
   "id": "e3219f03-91ba-45fa-850d-fcf16f47e1ce",
   "metadata": {},
   "outputs": [
    {
     "name": "stdout",
     "output_type": "stream",
     "text": [
      "[2, 4, 6, 8, 10]\n"
     ]
    }
   ],
   "source": [
    "number=[1,2,3,4,5,6,7,8,9,10]\n",
    "v=filter(lambda x:x%2==0,number)\n",
    "print(list(v))\n",
    "\n",
    "           "
   ]
  },
  {
   "cell_type": "markdown",
   "id": "c86faa9b-6317-4e93-b73a-8f7263883cae",
   "metadata": {},
   "source": [
    "* Filter odd numbers from the given list.\n",
    "\n",
    " [1,2,3,4,5,6,7,8,9,10]"
   ]
  },
  {
   "cell_type": "code",
   "execution_count": 25,
   "id": "a080094c-376d-4c98-adc0-17e40d88a6d1",
   "metadata": {},
   "outputs": [
    {
     "name": "stdout",
     "output_type": "stream",
     "text": [
      "[1, 3, 5, 7, 9]\n"
     ]
    }
   ],
   "source": [
    "numbers=[1,2,3,4,5,6,7,8,9,10]\n",
    "odd=filter(lambda x:x%2!=0,numbers)\n",
    "print(list(odd))"
   ]
  },
  {
   "cell_type": "markdown",
   "id": "492b3828-3650-444f-8d26-2046507b1695",
   "metadata": {},
   "source": [
    "* Sort a list of integers into positive and negative integers lists.\n",
    "\n",
    " [1,2,3,4,5,6,-1,-2,-3,-4,-5,0]"
   ]
  },
  {
   "cell_type": "code",
   "execution_count": null,
   "id": "d6bbd245-f790-4d2e-ac27-64eb4b6b2385",
   "metadata": {},
   "outputs": [],
   "source": [
    "list1=[1,2,3,4,5,6,-1,-2,-3,-4,-5,0]\n",
    "positive=filter(lambda x:x>=0,list1"
   ]
  }
 ],
 "metadata": {
  "kernelspec": {
   "display_name": "Python 3 (ipykernel)",
   "language": "python",
   "name": "python3"
  },
  "language_info": {
   "codemirror_mode": {
    "name": "ipython",
    "version": 3
   },
   "file_extension": ".py",
   "mimetype": "text/x-python",
   "name": "python",
   "nbconvert_exporter": "python",
   "pygments_lexer": "ipython3",
   "version": "3.10.8"
  }
 },
 "nbformat": 4,
 "nbformat_minor": 5
}
