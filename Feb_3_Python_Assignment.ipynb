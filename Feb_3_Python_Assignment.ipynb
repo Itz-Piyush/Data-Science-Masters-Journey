{
 "cells": [
  {
   "cell_type": "markdown",
   "id": "d5a0eacf-974a-4d79-86c3-7d55e5010e78",
   "metadata": {},
   "source": [
    "## ASSIGNMENT FEB-3 PYTHON"
   ]
  },
  {
   "cell_type": "markdown",
   "id": "3ca929b0-5f1e-4e15-9eef-5117a2db1f78",
   "metadata": {},
   "source": [
    "Q1. Which keyword is used to create a function? Create a function to return a list of odd numbers in the \n",
    "range of 1 to 25."
   ]
  },
  {
   "cell_type": "markdown",
   "id": "f47e330f-aab2-44fe-b7c4-206108b0e8e7",
   "metadata": {},
   "source": [
    ":- The def keyword is used to define or create a function in python."
   ]
  },
  {
   "cell_type": "code",
   "execution_count": 2,
   "id": "fe20a658-74a7-49b1-9bbd-1b49ba43e4c7",
   "metadata": {},
   "outputs": [
    {
     "name": "stdin",
     "output_type": "stream",
     "text": [
      "Enter the initial range value:- 1\n",
      "Enter the final range value:- 25\n"
     ]
    },
    {
     "name": "stdout",
     "output_type": "stream",
     "text": [
      "1\n",
      "3\n",
      "5\n",
      "7\n",
      "9\n",
      "11\n",
      "13\n",
      "15\n",
      "17\n",
      "19\n",
      "21\n",
      "23\n",
      "25\n"
     ]
    }
   ],
   "source": [
    "def odd_function(start,end):\n",
    "    for num in range(start,end+1):\n",
    "        if num%2 !=0:\n",
    "            print(num)\n",
    "start=int(input(\"Enter the initial range value:-\"))\n",
    "end=int(input(\"Enter the final range value:-\"))\n",
    "odd_function(start,end)"
   ]
  },
  {
   "cell_type": "markdown",
   "id": "d8bd2604-1463-4bce-80f1-2fc695d8efbe",
   "metadata": {},
   "source": [
    "Q2. Why *args and **kwargs is used in some functions? Create a function each for *args and **kwargs to \n",
    "demonstrate their use."
   ]
  },
  {
   "cell_type": "markdown",
   "id": "e602bf00-d8f7-4bb6-b9d0-b6b4bacb605b",
   "metadata": {},
   "source": [
    ":- In Python programming, we define a function to make a reusable code that performs similar operation. To perform that operation, we call a function with the specific value, this value is called a function argument in Python.\n",
    "1. *args(Non-Keyword Arguments)\n",
    "2. *Kwargs(Keyword Arguments)\n",
    "\n",
    "We use *args and **kwargs as an argument when we are unsure about the number of arguments to pass in the functions."
   ]
  },
  {
   "cell_type": "code",
   "execution_count": 5,
   "id": "7cb4ea89-cf1c-460c-b8ef-dba47d329ea4",
   "metadata": {},
   "outputs": [
    {
     "data": {
      "text/plain": [
       "((2, 3, 4, 5), {'a': 34, 'b': 3})"
      ]
     },
     "execution_count": 5,
     "metadata": {},
     "output_type": "execute_result"
    }
   ],
   "source": [
    "def fun3(*args , **kwargs):\n",
    "    return args , kwargs\n",
    "fun3(2,3,4,5 , a=34 , b=3)"
   ]
  },
  {
   "cell_type": "markdown",
   "id": "78c36ad9-68d2-42f6-a52b-deffbb7cd7c3",
   "metadata": {},
   "source": [
    "Q3.  What is an iterator in python? Name the method used to initialise the iterator object and the method \n",
    "used for iteration. Use these methods to print the first five elements of the given list [2, 4, 6, 8, 10, 12, 14, 16, \n",
    "18, 20]."
   ]
  },
  {
   "cell_type": "markdown",
   "id": "38bab4b9-0ef4-4e86-8771-161c1025f72c",
   "metadata": {},
   "source": [
    ":- Iterator in Python is an object that is used to iterate over iterable objects like lists, tuples, dicts, and sets. The iterator object is initialized using the iter() method. It uses the next() method for iteration.\n",
    "\n",
    "* __iter__() returns the iterator object itself. If required, some initialization can be performed.\n",
    "* __next__() must return the next item in the sequence. On reaching the end, and in subsequent calls, it must raise StopIteration."
   ]
  },
  {
   "cell_type": "code",
   "execution_count": 12,
   "id": "7bfad1de-4049-4e4b-975e-593ca2246391",
   "metadata": {},
   "outputs": [
    {
     "name": "stdout",
     "output_type": "stream",
     "text": [
      "2\n",
      "4\n",
      "6\n",
      "8\n",
      "10\n",
      "12\n",
      "14\n",
      "16\n",
      "18\n",
      "20\n"
     ]
    }
   ],
   "source": [
    "l=[2,4,6,8,10,12,14,16,18,20]\n",
    "iterator = iter(l)\n",
    "for i in iter(l):\n",
    "    print(i)"
   ]
  },
  {
   "cell_type": "markdown",
   "id": "f6328075-46bf-4088-a859-c1b6f34dfb33",
   "metadata": {},
   "source": [
    "Q4.  What is a generator function in python? Why yield keyword is used? Give an example of a generator function."
   ]
  },
  {
   "cell_type": "markdown",
   "id": "2e06b8d5-9c02-4874-9c09-3fc9c5828d09",
   "metadata": {},
   "source": [
    ":- In Python, a generator is a function that returns an iterator that produces a sequence of values when iterated over. Generators are useful when we want to produce a large sequence of values, but we do not want to store all of them in memory at once.The yield keyword in Python controls the flow of a generator function.This is similar to a return statement used for returning values in Python."
   ]
  },
  {
   "cell_type": "code",
   "execution_count": 13,
   "id": "12c1fa31-28ae-4506-857d-376b442e918f",
   "metadata": {},
   "outputs": [
    {
     "name": "stdout",
     "output_type": "stream",
     "text": [
      "0\n",
      "1\n",
      "1\n",
      "2\n",
      "3\n",
      "5\n",
      "8\n",
      "13\n",
      "21\n",
      "34\n",
      "55\n",
      "89\n",
      "144\n",
      "233\n",
      "377\n",
      "610\n",
      "987\n",
      "1597\n",
      "2584\n",
      "4181\n"
     ]
    }
   ],
   "source": [
    "def test_fib(n):\n",
    "    a,b=0,1\n",
    "    for i in range(n):\n",
    "        yield a\n",
    "        a,b=b,a+b\n",
    "test_fib(20)\n",
    "for i in test_fib(20) :\n",
    "    print(i)"
   ]
  },
  {
   "cell_type": "markdown",
   "id": "78f9d4d2-5ed1-4139-a653-c92131a86e8d",
   "metadata": {},
   "source": [
    "Q5. Create a generator function for prime numbers less than 1000. Use the next() method to print the first 20 prime numbers."
   ]
  },
  {
   "cell_type": "code",
   "execution_count": 14,
   "id": "33430d69-64c3-4f52-abc0-91223c59c20a",
   "metadata": {},
   "outputs": [
    {
     "name": "stdout",
     "output_type": "stream",
     "text": [
      "[2, 3, 5, 7, 11, 13, 17, 19, 23, 29, 31, 37, 41, 43, 47, 53, 59, 61, 67, 71, 73, 79, 83, 89, 97, 101, 103, 107, 109, 113, 127, 131, 137, 139, 149, 151, 157, 163, 167, 173, 179, 181, 191, 193, 197, 199, 211, 223, 227, 229, 233, 239, 241, 251, 257, 263, 269, 271, 277, 281, 283, 293, 307, 311, 313, 317, 331, 337, 347, 349, 353, 359, 367, 373, 379, 383, 389, 397, 401, 409, 419, 421, 431, 433, 439, 443, 449, 457, 461, 463, 467, 479, 487, 491, 499, 503, 509, 521, 523, 541, 547, 557, 563, 569, 571, 577, 587, 593, 599, 601, 607, 613, 617, 619, 631, 641, 643, 647, 653, 659, 661, 673, 677, 683, 691, 701, 709, 719, 727, 733, 739, 743, 751, 757, 761, 769, 773, 787, 797, 809, 811, 821, 823, 827, 829, 839, 853, 857, 859, 863, 877, 881, 883, 887, 907, 911, 919, 929, 937, 941, 947, 953, 967, 971, 977, 983, 991, 997]\n"
     ]
    }
   ],
   "source": [
    "def generator_primes(n):\n",
    "    D={}\n",
    "    a=2\n",
    "    \n",
    "    while a<=n:\n",
    "        if a not in D:\n",
    "            yield a\n",
    "            D[a * a] = [a]\n",
    "        else:\n",
    "            for b in D[a]:\n",
    "                D.setdefault(b+a,[]).append(b)\n",
    "            del D[a]\n",
    "        a +=1\n",
    "b=generator_primes(1000)\n",
    "primes=[i for i in b]\n",
    "print(primes)"
   ]
  },
  {
   "cell_type": "code",
   "execution_count": 30,
   "id": "c3d15abe-9ff3-4b99-ad75-5c66a01407cb",
   "metadata": {},
   "outputs": [
    {
     "name": "stdout",
     "output_type": "stream",
     "text": [
      "2\n",
      "3\n",
      "5\n",
      "7\n",
      "11\n",
      "13\n",
      "17\n",
      "19\n"
     ]
    }
   ],
   "source": [
    "c=generator_primes(20)\n",
    "prime_20=[num for num in c]\n",
    "iterator = iter(prime_20)\n",
    "while True:\n",
    "    item=next(iterator,\"end\")\n",
    "    if item==\"end\":\n",
    "        break\n",
    "    print(item)\n",
    "\n"
   ]
  },
  {
   "cell_type": "code",
   "execution_count": null,
   "id": "1aa8215d-44e0-46fe-b42e-9177789a243c",
   "metadata": {},
   "outputs": [],
   "source": []
  }
 ],
 "metadata": {
  "kernelspec": {
   "display_name": "Python 3 (ipykernel)",
   "language": "python",
   "name": "python3"
  },
  "language_info": {
   "codemirror_mode": {
    "name": "ipython",
    "version": 3
   },
   "file_extension": ".py",
   "mimetype": "text/x-python",
   "name": "python",
   "nbconvert_exporter": "python",
   "pygments_lexer": "ipython3",
   "version": "3.10.8"
  }
 },
 "nbformat": 4,
 "nbformat_minor": 5
}
