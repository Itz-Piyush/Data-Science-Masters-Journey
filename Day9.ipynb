{
 "cells": [
  {
   "cell_type": "markdown",
   "id": "675cbbb8-7963-4986-be15-296da5e373c2",
   "metadata": {},
   "source": [
    "## POLYMORPHISM"
   ]
  },
  {
   "cell_type": "code",
   "execution_count": 1,
   "id": "7700efd4-cfe7-4d44-af76-50a626a94d64",
   "metadata": {},
   "outputs": [],
   "source": [
    "def test(a,b):\n",
    "    return a+b"
   ]
  },
  {
   "cell_type": "code",
   "execution_count": 2,
   "id": "912320c3-59ca-4175-b482-1ae151254ac0",
   "metadata": {},
   "outputs": [
    {
     "data": {
      "text/plain": [
       "9"
      ]
     },
     "execution_count": 2,
     "metadata": {},
     "output_type": "execute_result"
    }
   ],
   "source": [
    "test(4,5)"
   ]
  },
  {
   "cell_type": "code",
   "execution_count": 3,
   "id": "a409b899-7fa8-4e7d-9dbe-fdb72c05a662",
   "metadata": {},
   "outputs": [
    {
     "data": {
      "text/plain": [
       "'piyushRaj'"
      ]
     },
     "execution_count": 3,
     "metadata": {},
     "output_type": "execute_result"
    }
   ],
   "source": [
    "test(\"piyush\",\"Raj\")"
   ]
  },
  {
   "cell_type": "code",
   "execution_count": 4,
   "id": "87832d03-2a2b-41fb-a4f8-ec8860840f09",
   "metadata": {},
   "outputs": [
    {
     "data": {
      "text/plain": [
       "[2, 3, 4, 5, 6, 7, 8, 9]"
      ]
     },
     "execution_count": 4,
     "metadata": {},
     "output_type": "execute_result"
    }
   ],
   "source": [
    "test([2,3,4,5],[6,7,8,9])"
   ]
  },
  {
   "cell_type": "code",
   "execution_count": 5,
   "id": "88778b5e-33d1-46c3-abcc-e5d1b6e99f5e",
   "metadata": {},
   "outputs": [],
   "source": [
    "class data_science:\n",
    "    def syllabus(self):\n",
    "        print(\"this is my method for data science syllabus\")"
   ]
  },
  {
   "cell_type": "code",
   "execution_count": 7,
   "id": "575a9cc0-d865-4b9b-8493-5daa8bc3b4ed",
   "metadata": {},
   "outputs": [],
   "source": [
    "class web_dev:\n",
    "    def syllabus(self):\n",
    "        print(\"this is my method for web dev\")"
   ]
  },
  {
   "cell_type": "code",
   "execution_count": 8,
   "id": "19bbea53-845f-4384-b265-0cdf7c473efe",
   "metadata": {},
   "outputs": [],
   "source": [
    "def class_parcer(class_obj):\n",
    "    for i in class_obj:\n",
    "        i.syllabus()"
   ]
  },
  {
   "cell_type": "code",
   "execution_count": 9,
   "id": "1f756f8d-f9d4-421a-917d-6daa5a0da06f",
   "metadata": {},
   "outputs": [],
   "source": [
    "obj_data_science=data_science()"
   ]
  },
  {
   "cell_type": "code",
   "execution_count": 10,
   "id": "9115ef24-9bda-438d-b0f6-453e556c3b8a",
   "metadata": {},
   "outputs": [],
   "source": [
    "obj_web_dev=web_dev()"
   ]
  },
  {
   "cell_type": "code",
   "execution_count": 11,
   "id": "7f001e08-04e0-4a70-8461-ca4155783876",
   "metadata": {},
   "outputs": [],
   "source": [
    "class_obj=[obj_data_science,obj_web_dev]"
   ]
  },
  {
   "cell_type": "code",
   "execution_count": 12,
   "id": "32a2d27c-c1a4-4cb8-8eae-632165917288",
   "metadata": {},
   "outputs": [
    {
     "name": "stdout",
     "output_type": "stream",
     "text": [
      "this is my method for data science syllabus\n",
      "this is my method for web dev\n"
     ]
    }
   ],
   "source": [
    "class_parcer(class_obj)"
   ]
  },
  {
   "cell_type": "markdown",
   "id": "169eecf7-479b-4f2a-9636-d556735db5a4",
   "metadata": {},
   "source": [
    "## ENCAPSULATION"
   ]
  },
  {
   "cell_type": "code",
   "execution_count": 13,
   "id": "9f05e4a4-3042-47d6-aaad-55064d659925",
   "metadata": {},
   "outputs": [],
   "source": [
    "class test:\n",
    "    def __init__(self,a,b):\n",
    "        self.a=a\n",
    "        self.b=b"
   ]
  },
  {
   "cell_type": "code",
   "execution_count": 14,
   "id": "398016b0-b869-41c5-a64e-882d73378502",
   "metadata": {},
   "outputs": [],
   "source": [
    "t=test(45,56)"
   ]
  },
  {
   "cell_type": "code",
   "execution_count": 15,
   "id": "acdac332-0529-4eba-9e0d-8d1a754210fb",
   "metadata": {},
   "outputs": [
    {
     "data": {
      "text/plain": [
       "45"
      ]
     },
     "execution_count": 15,
     "metadata": {},
     "output_type": "execute_result"
    }
   ],
   "source": [
    "t.a\n"
   ]
  },
  {
   "cell_type": "code",
   "execution_count": 16,
   "id": "33b6ee8c-6b1e-4581-b52c-1b88ccbe5300",
   "metadata": {},
   "outputs": [
    {
     "data": {
      "text/plain": [
       "56"
      ]
     },
     "execution_count": 16,
     "metadata": {},
     "output_type": "execute_result"
    }
   ],
   "source": [
    "t.b"
   ]
  },
  {
   "cell_type": "code",
   "execution_count": 17,
   "id": "03499b6f-9d65-4d73-a323-dd2be5e06268",
   "metadata": {},
   "outputs": [],
   "source": [
    "t.a=3243"
   ]
  },
  {
   "cell_type": "code",
   "execution_count": 18,
   "id": "2a3b73ff-428e-4669-bbe6-1d1f6f45824f",
   "metadata": {},
   "outputs": [
    {
     "data": {
      "text/plain": [
       "3243"
      ]
     },
     "execution_count": 18,
     "metadata": {},
     "output_type": "execute_result"
    }
   ],
   "source": [
    "t.a"
   ]
  },
  {
   "cell_type": "code",
   "execution_count": 2,
   "id": "ec2e6c1e-d90e-448b-b625-63abd792e2e0",
   "metadata": {},
   "outputs": [],
   "source": [
    "class car:\n",
    "    def __init__(self,year,make,model,speed):\n",
    "        self.__year=year\n",
    "        self.__make=make\n",
    "        self.__model=model\n",
    "        self.__speed=0\n",
    "    def set_speed(self,speed):\n",
    "        self.__speed=0 if speed<0 else speed\n",
    "    def get_speed(self):\n",
    "        return self.__speed"
   ]
  },
  {
   "cell_type": "code",
   "execution_count": 4,
   "id": "1752b4f0-a2a6-47a4-a342-f51afc8da14e",
   "metadata": {},
   "outputs": [],
   "source": [
    "obj_car.set_speed(3353)"
   ]
  },
  {
   "cell_type": "code",
   "execution_count": 3,
   "id": "0bf40138-6fde-4035-85ec-2c3b7de7457c",
   "metadata": {},
   "outputs": [],
   "source": [
    "obj_car=car(2021,\"toyota\",\"innova\",12)"
   ]
  },
  {
   "cell_type": "code",
   "execution_count": 5,
   "id": "cd94dc28-d6b7-4a1b-91a5-19c02f778c49",
   "metadata": {},
   "outputs": [
    {
     "data": {
      "text/plain": [
       "2021"
      ]
     },
     "execution_count": 5,
     "metadata": {},
     "output_type": "execute_result"
    }
   ],
   "source": [
    "obj_car._car__year"
   ]
  },
  {
   "cell_type": "code",
   "execution_count": 6,
   "id": "6e791612-8853-4149-b6d1-9b92731f83ff",
   "metadata": {},
   "outputs": [
    {
     "data": {
      "text/plain": [
       "3353"
      ]
     },
     "execution_count": 6,
     "metadata": {},
     "output_type": "execute_result"
    }
   ],
   "source": [
    "obj_car._car__speed"
   ]
  },
  {
   "cell_type": "code",
   "execution_count": 7,
   "id": "0db2edc0-f248-4fd0-ba3b-3e36b271630a",
   "metadata": {},
   "outputs": [
    {
     "data": {
      "text/plain": [
       "3353"
      ]
     },
     "execution_count": 7,
     "metadata": {},
     "output_type": "execute_result"
    }
   ],
   "source": [
    "obj_car.get_speed()"
   ]
  },
  {
   "cell_type": "code",
   "execution_count": 8,
   "id": "0fc42672-8782-40e5-a61b-954e49f4456d",
   "metadata": {},
   "outputs": [],
   "source": [
    "class bank_account:\n",
    "    def __init__(self,balance):\n",
    "        self.__balance=balance\n",
    "    def deposit(self,amount):\n",
    "        self.__balance=self.__balance+amount\n",
    "    def withdraw(self,amount):\n",
    "        if self.__balance >= amount:\n",
    "            self.__balance = self.__balance-amount\n",
    "            return True\n",
    "        else:\n",
    "            return False\n",
    "    def get_balance(self):\n",
    "        return self.__balance"
   ]
  },
  {
   "cell_type": "code",
   "execution_count": 10,
   "id": "21fe5cc7-98e0-4e8f-9e19-39e9f6adbfde",
   "metadata": {},
   "outputs": [],
   "source": [
    "obj_bank_account=bank_account(1000)"
   ]
  },
  {
   "cell_type": "code",
   "execution_count": 11,
   "id": "10cadc29-caa7-46ab-a269-7cd5669f30eb",
   "metadata": {},
   "outputs": [
    {
     "data": {
      "text/plain": [
       "1000"
      ]
     },
     "execution_count": 11,
     "metadata": {},
     "output_type": "execute_result"
    }
   ],
   "source": [
    "obj_bank_account.get_balance()"
   ]
  },
  {
   "cell_type": "code",
   "execution_count": 12,
   "id": "cb4ec563-b29e-48ff-9f5a-d1bcd38ba961",
   "metadata": {},
   "outputs": [],
   "source": [
    "obj_bank_account.deposit(6000)"
   ]
  },
  {
   "cell_type": "code",
   "execution_count": 13,
   "id": "af864c2a-7fc6-4839-8c82-33172605c4d1",
   "metadata": {},
   "outputs": [
    {
     "data": {
      "text/plain": [
       "7000"
      ]
     },
     "execution_count": 13,
     "metadata": {},
     "output_type": "execute_result"
    }
   ],
   "source": [
    "obj_bank_account.get_balance()"
   ]
  },
  {
   "cell_type": "code",
   "execution_count": 14,
   "id": "abccc4b8-3f61-4392-a023-0fa0693df5df",
   "metadata": {},
   "outputs": [
    {
     "data": {
      "text/plain": [
       "True"
      ]
     },
     "execution_count": 14,
     "metadata": {},
     "output_type": "execute_result"
    }
   ],
   "source": [
    "obj_bank_account.withdraw(2000)"
   ]
  },
  {
   "cell_type": "code",
   "execution_count": 15,
   "id": "89cc559c-3185-417d-a66a-93329a387d40",
   "metadata": {},
   "outputs": [
    {
     "data": {
      "text/plain": [
       "5000"
      ]
     },
     "execution_count": 15,
     "metadata": {},
     "output_type": "execute_result"
    }
   ],
   "source": [
    "obj_bank_account.get_balance()"
   ]
  },
  {
   "cell_type": "markdown",
   "id": "f3c0013c-eb55-4edc-b426-f743824dae66",
   "metadata": {},
   "source": [
    "## INHERITANCE"
   ]
  },
  {
   "cell_type": "code",
   "execution_count": 16,
   "id": "69516a6d-f6d0-482c-b4d1-30caa46b9e38",
   "metadata": {},
   "outputs": [],
   "source": [
    "class parent:\n",
    "    def test_parent(self):\n",
    "        print(\"this is my parent class\")"
   ]
  },
  {
   "cell_type": "code",
   "execution_count": 17,
   "id": "b057c006-170e-427b-b6b4-5dc2442fd387",
   "metadata": {},
   "outputs": [],
   "source": [
    "class child(parent):\n",
    "    pass"
   ]
  },
  {
   "cell_type": "code",
   "execution_count": 18,
   "id": "d4f7cdb2-6dcb-445c-85e4-fad8f51e248e",
   "metadata": {},
   "outputs": [],
   "source": [
    "child_obj=child()"
   ]
  },
  {
   "cell_type": "code",
   "execution_count": 19,
   "id": "2bc5f721-8a0d-49d7-b528-45807ff0a6c5",
   "metadata": {},
   "outputs": [
    {
     "name": "stdout",
     "output_type": "stream",
     "text": [
      "this is my parent class\n"
     ]
    }
   ],
   "source": [
    "child_obj.test_parent()"
   ]
  },
  {
   "cell_type": "code",
   "execution_count": 20,
   "id": "224d1279-5c4c-4379-8fa7-7f4646db4515",
   "metadata": {},
   "outputs": [],
   "source": [
    "class class1:\n",
    "    def test_class1(self):\n",
    "        print(\"this is my class1\")"
   ]
  },
  {
   "cell_type": "code",
   "execution_count": 21,
   "id": "e0988db9-7f03-44b5-a2af-e54f77b8653d",
   "metadata": {},
   "outputs": [],
   "source": [
    "class class2(class1):\n",
    "    def test_class2(self):\n",
    "        print(\"this is my class2\")"
   ]
  },
  {
   "cell_type": "code",
   "execution_count": 22,
   "id": "5fe1a289-53d6-409c-8bd0-83535e0defa1",
   "metadata": {},
   "outputs": [],
   "source": [
    "class class3(class2):\n",
    "    def test_class3(self):\n",
    "        print(\"this is my class3\")"
   ]
  },
  {
   "cell_type": "code",
   "execution_count": 23,
   "id": "82925fc7-6575-4aaf-a7eb-9807e6679e38",
   "metadata": {},
   "outputs": [],
   "source": [
    "obj_class3=class3()"
   ]
  },
  {
   "cell_type": "code",
   "execution_count": 24,
   "id": "663ed5a5-9933-4895-a937-c006becd7e87",
   "metadata": {},
   "outputs": [
    {
     "name": "stdout",
     "output_type": "stream",
     "text": [
      "this is my class1\n"
     ]
    }
   ],
   "source": [
    "obj_class3.test_class1()"
   ]
  },
  {
   "cell_type": "code",
   "execution_count": 25,
   "id": "f66006bb-bb47-49d7-8892-14c051c7b2ed",
   "metadata": {},
   "outputs": [
    {
     "name": "stdout",
     "output_type": "stream",
     "text": [
      "this is my class2\n"
     ]
    }
   ],
   "source": [
    "obj_class3.test_class2()"
   ]
  },
  {
   "cell_type": "code",
   "execution_count": 27,
   "id": "f860dbd7-b09e-412e-b024-1b820f4dec3f",
   "metadata": {},
   "outputs": [],
   "source": [
    "class class1:\n",
    "    def test_class1(self):\n",
    "        print(\"this is my class 1\")"
   ]
  },
  {
   "cell_type": "code",
   "execution_count": 28,
   "id": "149c85ce-2e74-40ec-90f1-f238352cd883",
   "metadata": {},
   "outputs": [],
   "source": [
    "class class2:\n",
    "    def test_class2(self):\n",
    "        print(\"this is my claas 2\")"
   ]
  },
  {
   "cell_type": "code",
   "execution_count": 29,
   "id": "3cc70cf1-129c-4592-a8fa-385f2ecf964f",
   "metadata": {},
   "outputs": [],
   "source": [
    "class class3(class1,class2):\n",
    "    pass"
   ]
  },
  {
   "cell_type": "code",
   "execution_count": 30,
   "id": "990ec39c-e0da-4932-b4f3-8fa6918abe14",
   "metadata": {},
   "outputs": [],
   "source": [
    "obj_class3=class3()"
   ]
  },
  {
   "cell_type": "code",
   "execution_count": 31,
   "id": "eab8b3b8-bf80-460b-abf4-ad36034717d3",
   "metadata": {},
   "outputs": [
    {
     "name": "stdout",
     "output_type": "stream",
     "text": [
      "this is my class 1\n"
     ]
    }
   ],
   "source": [
    "obj_class3.test_class1()"
   ]
  },
  {
   "cell_type": "code",
   "execution_count": 32,
   "id": "0d372c2a-349c-445d-be50-e6fe99708836",
   "metadata": {},
   "outputs": [
    {
     "name": "stdout",
     "output_type": "stream",
     "text": [
      "this is my claas 2\n"
     ]
    }
   ],
   "source": [
    "obj_class3.test_class2()"
   ]
  },
  {
   "cell_type": "markdown",
   "id": "ae9b39f1-f56c-4821-a838-e84d8e1bf2e0",
   "metadata": {},
   "source": [
    "## ABSTRACTION"
   ]
  },
  {
   "cell_type": "code",
   "execution_count": 37,
   "id": "19cf23a3-b817-420a-bd0a-c82460f23612",
   "metadata": {},
   "outputs": [],
   "source": [
    "import abc\n",
    "\n",
    "class pwskills:\n",
    "    \n",
    "    @abc.abstractmethod\n",
    "    def student_dtails(self):\n",
    "        pass\n",
    "    @abc.abstractmethod\n",
    "    def student_assignment(self):\n",
    "        pass\n",
    "    \n",
    "    @abc.abstractmethod\n",
    "    def student_marks(self):\n",
    "        pass"
   ]
  },
  {
   "cell_type": "code",
   "execution_count": 38,
   "id": "23c109ac-36b4-42fd-ba62-29f218c98537",
   "metadata": {},
   "outputs": [],
   "source": [
    "class data_science(pwskills):\n",
    "    def student_details(self):\n",
    "        return \"It will try to return details of data science masters\"\n",
    "    def student_assignment(self):\n",
    "        return \"It will return a details of student assignment for data science masters\""
   ]
  },
  {
   "cell_type": "code",
   "execution_count": 39,
   "id": "7cd0a9e7-8e2c-46cb-881b-e1c83a5bae42",
   "metadata": {},
   "outputs": [],
   "source": [
    "class web_dev(pwskills):\n",
    "    def student_details(self):\n",
    "        return \"this will return a details of web dev\"\n",
    "    def student_marks(self):\n",
    "        return \"this will return a marks of web dev class\""
   ]
  },
  {
   "cell_type": "code",
   "execution_count": 40,
   "id": "1b4b07be-c70f-478f-b728-9d5bc1b5366d",
   "metadata": {},
   "outputs": [
    {
     "data": {
      "text/plain": [
       "'It will try to return details of data science masters'"
      ]
     },
     "execution_count": 40,
     "metadata": {},
     "output_type": "execute_result"
    }
   ],
   "source": [
    "ds = data_science()\n",
    "ds.student_details()"
   ]
  },
  {
   "cell_type": "code",
   "execution_count": 41,
   "id": "13f54b5f-8b8f-4ac6-96c0-53f7b744a4d0",
   "metadata": {},
   "outputs": [
    {
     "data": {
      "text/plain": [
       "'this will return a details of web dev'"
      ]
     },
     "execution_count": 41,
     "metadata": {},
     "output_type": "execute_result"
    }
   ],
   "source": [
    "wb = web_dev()\n",
    "wb.student_details()"
   ]
  },
  {
   "cell_type": "code",
   "execution_count": null,
   "id": "135ea4a6-fb03-4e80-9e90-e9fc06833eac",
   "metadata": {},
   "outputs": [],
   "source": []
  }
 ],
 "metadata": {
  "kernelspec": {
   "display_name": "Python 3 (ipykernel)",
   "language": "python",
   "name": "python3"
  },
  "language_info": {
   "codemirror_mode": {
    "name": "ipython",
    "version": 3
   },
   "file_extension": ".py",
   "mimetype": "text/x-python",
   "name": "python",
   "nbconvert_exporter": "python",
   "pygments_lexer": "ipython3",
   "version": "3.10.8"
  }
 },
 "nbformat": 4,
 "nbformat_minor": 5
}
