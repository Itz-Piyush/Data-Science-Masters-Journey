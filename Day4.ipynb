{
 "cells": [
  {
   "cell_type": "markdown",
   "id": "b2e6611c-9e63-4ff1-a1d9-4b2d558ef97e",
   "metadata": {},
   "source": [
    "## String Manipulation"
   ]
  },
  {
   "cell_type": "markdown",
   "id": "9cfa6301-6ff9-4ec2-9a1c-3307be6b74dd",
   "metadata": {},
   "source": [
    "##\n",
    "## Strings are used to record text information such as name.They are arrays of bytes representing unicode characters.\n",
    "## Strings in python are surrounded by either single quotation marks,or double quotation marks.Let us check how we manipulate strings and how we take subset of string by doing some practice on it.\n",
    "## Subset of string can be access by using slice operator [] or [:](string index starts with 0 and -1 at the end)."
   ]
  },
  {
   "cell_type": "code",
   "execution_count": 9,
   "id": "55759cb6-78b0-4c6f-803d-1072358bef93",
   "metadata": {},
   "outputs": [
    {
     "data": {
      "text/plain": [
       "'hello'"
      ]
     },
     "execution_count": 9,
     "metadata": {},
     "output_type": "execute_result"
    }
   ],
   "source": [
    "# single word\n",
    "'hello'"
   ]
  },
  {
   "cell_type": "code",
   "execution_count": 11,
   "id": "0f2ed633-f419-46dd-bc7a-c6e5a5e047a6",
   "metadata": {},
   "outputs": [
    {
     "data": {
      "text/plain": [
       "' hello everyone here i am introducing myself'"
      ]
     },
     "execution_count": 11,
     "metadata": {},
     "output_type": "execute_result"
    }
   ],
   "source": [
    "# entire phrase\n",
    "\" hello everyone here i am introducing myself\""
   ]
  },
  {
   "cell_type": "code",
   "execution_count": 13,
   "id": "d460858e-c663-4c3b-a04a-20f21d7a7e99",
   "metadata": {},
   "outputs": [
    {
     "ename": "SyntaxError",
     "evalue": "invalid syntax (414195397.py, line 2)",
     "output_type": "error",
     "traceback": [
      "\u001b[0;36m  Cell \u001b[0;32mIn[13], line 2\u001b[0;36m\u001b[0m\n\u001b[0;31m    \"I\" am here baby will you 'come' here please\u001b[0m\n\u001b[0m        ^\u001b[0m\n\u001b[0;31mSyntaxError\u001b[0m\u001b[0;31m:\u001b[0m invalid syntax\n"
     ]
    }
   ],
   "source": [
    "## take care dear\n",
    "\"I\" am here baby will you 'come' here please"
   ]
  },
  {
   "cell_type": "markdown",
   "id": "e1da3f06-7cd8-4392-b46a-c1fc224d93e9",
   "metadata": {},
   "source": [
    "##  <font color='red'>Python 3 Alert!</font>\n",
    "\n",
    "Note that, In Python 3, print is a function and not a statement. So you would print statements like this:\n",
    "print('Hello World')\n",
    "\n",
    "If you want to use this functionality in Python2, you can import form the __future__ module. \n",
    "\n",
    "**Caution: After importing this; you won't be able to choose the print statement method anymore. So pick the right one whichever  you prefer depending on your Python installation and continue on with it.**"
   ]
  },
  {
   "cell_type": "code",
   "execution_count": 14,
   "id": "93bf78a7-47fb-407a-861a-b6cbcfb0c584",
   "metadata": {},
   "outputs": [
    {
     "name": "stdout",
     "output_type": "stream",
     "text": [
      "Hello World\n"
     ]
    }
   ],
   "source": [
    "# To use print function from Python 3 in Python 2\n",
    "from __future__ import print_function\n",
    "\n",
    "print('Hello World')"
   ]
  },
  {
   "cell_type": "markdown",
   "id": "c5974a03-5f2f-473e-88fc-39d5130ab3a6",
   "metadata": {},
   "source": [
    "## String Operations"
   ]
  },
  {
   "cell_type": "markdown",
   "id": "342f91c7-ab12-4f9f-b41b-cdf55c18f28f",
   "metadata": {},
   "source": [
    "### Accessing element from string\n",
    "\n",
    "We know strings are a sequence, which means Python can use indexes to call all the sequence parts. Let's learn how String Indexing works.\n",
    "\n",
    "•\tWe use brackets `[]` after an object to call its index. \n",
    "\n",
    "•\tWe should also note that indexing `starts at 0` for Python.\n",
    "\n",
    "Now, Let's create a new object called s and the walk through a few examples of indexing."
   ]
  },
  {
   "cell_type": "code",
   "execution_count": 3,
   "id": "160452f4-f93c-4da4-9980-7173cb303d56",
   "metadata": {},
   "outputs": [],
   "source": [
    "String=\"Piyush\"\n"
   ]
  },
  {
   "cell_type": "code",
   "execution_count": 5,
   "id": "37268fbd-1c43-4c32-89e8-818240774c14",
   "metadata": {},
   "outputs": [
    {
     "name": "stdout",
     "output_type": "stream",
     "text": [
      "P\n"
     ]
    }
   ],
   "source": [
    "print(String[0])"
   ]
  },
  {
   "cell_type": "code",
   "execution_count": 6,
   "id": "3e031f63-aa07-4e0f-81f8-efd4cd91f339",
   "metadata": {},
   "outputs": [
    {
     "name": "stdout",
     "output_type": "stream",
     "text": [
      "h\n"
     ]
    }
   ],
   "source": [
    "print(String[-1])"
   ]
  },
  {
   "cell_type": "code",
   "execution_count": 7,
   "id": "f0046b41-19b1-4e43-aa08-66a6b72421df",
   "metadata": {},
   "outputs": [
    {
     "ename": "IndexError",
     "evalue": "string index out of range",
     "output_type": "error",
     "traceback": [
      "\u001b[0;31m---------------------------------------------------------------------------\u001b[0m",
      "\u001b[0;31mIndexError\u001b[0m                                Traceback (most recent call last)",
      "Cell \u001b[0;32mIn[7], line 1\u001b[0m\n\u001b[0;32m----> 1\u001b[0m \u001b[38;5;28mprint\u001b[39m(\u001b[43mString\u001b[49m\u001b[43m[\u001b[49m\u001b[38;5;241;43m6\u001b[39;49m\u001b[43m]\u001b[49m)\n",
      "\u001b[0;31mIndexError\u001b[0m: string index out of range"
     ]
    }
   ],
   "source": [
    "print(String[6])"
   ]
  },
  {
   "cell_type": "code",
   "execution_count": 8,
   "id": "9003d85d-839a-4573-9a19-88bd47b72afe",
   "metadata": {},
   "outputs": [
    {
     "name": "stdout",
     "output_type": "stream",
     "text": [
      "iyush\n"
     ]
    }
   ],
   "source": [
    "## Slicing\n",
    "print(String[1:])"
   ]
  },
  {
   "cell_type": "code",
   "execution_count": 10,
   "id": "1a467f19-2197-45ab-a483-c5d5b836e3cb",
   "metadata": {},
   "outputs": [
    {
     "name": "stdout",
     "output_type": "stream",
     "text": [
      "iy\n"
     ]
    }
   ],
   "source": [
    "print(String[1:3])"
   ]
  },
  {
   "cell_type": "code",
   "execution_count": 11,
   "id": "791312fd-48eb-49a7-999a-5133a5604749",
   "metadata": {},
   "outputs": [
    {
     "name": "stdout",
     "output_type": "stream",
     "text": [
      "Piyus\n"
     ]
    }
   ],
   "source": [
    "print(String[:-1])"
   ]
  },
  {
   "cell_type": "code",
   "execution_count": 12,
   "id": "84b4e703-29d5-4218-a836-38282320d554",
   "metadata": {},
   "outputs": [
    {
     "name": "stdout",
     "output_type": "stream",
     "text": [
      "Piyush\n"
     ]
    }
   ],
   "source": [
    "print(String[::1])"
   ]
  },
  {
   "cell_type": "code",
   "execution_count": 13,
   "id": "246fb40f-120e-42b4-8abd-de11665d15df",
   "metadata": {},
   "outputs": [
    {
     "name": "stdout",
     "output_type": "stream",
     "text": [
      "hsuyiP\n"
     ]
    }
   ],
   "source": [
    "print(String[::-1])"
   ]
  },
  {
   "cell_type": "code",
   "execution_count": 16,
   "id": "2cb36148-a8aa-4bc8-9d61-cd2af9b258aa",
   "metadata": {},
   "outputs": [
    {
     "ename": "TypeError",
     "evalue": "'str' object does not support item assignment",
     "output_type": "error",
     "traceback": [
      "\u001b[0;31m---------------------------------------------------------------------------\u001b[0m",
      "\u001b[0;31mTypeError\u001b[0m                                 Traceback (most recent call last)",
      "Cell \u001b[0;32mIn[16], line 2\u001b[0m\n\u001b[1;32m      1\u001b[0m \u001b[38;5;66;03m# as we know strings are immutable so we cannot change the index value like\u001b[39;00m\n\u001b[0;32m----> 2\u001b[0m \u001b[43mString\u001b[49m\u001b[43m[\u001b[49m\u001b[38;5;241;43m0\u001b[39;49m\u001b[43m]\u001b[49m\u001b[38;5;241m=\u001b[39m\u001b[38;5;124m'\u001b[39m\u001b[38;5;124mx\u001b[39m\u001b[38;5;124m'\u001b[39m\n",
      "\u001b[0;31mTypeError\u001b[0m: 'str' object does not support item assignment"
     ]
    }
   ],
   "source": [
    "# as we know strings are immutable so we cannot change the index value like\n",
    "String[0]='x'"
   ]
  },
  {
   "cell_type": "code",
   "execution_count": 17,
   "id": "09010334-a9df-40d2-b7b9-81580c8145fd",
   "metadata": {},
   "outputs": [
    {
     "name": "stdout",
     "output_type": "stream",
     "text": [
      "Hello world\n"
     ]
    }
   ],
   "source": [
    "# we can replace string by another string like\n",
    "String=\"Hello world\"\n",
    "print(String)"
   ]
  },
  {
   "cell_type": "code",
   "execution_count": 18,
   "id": "da3249ed-1d11-4b76-9f8c-0eaec0d3377d",
   "metadata": {},
   "outputs": [
    {
     "data": {
      "text/plain": [
       "'Piyush hello '"
      ]
     },
     "execution_count": 18,
     "metadata": {},
     "output_type": "execute_result"
    }
   ],
   "source": [
    "## concatenation\n",
    "s=\"Piyush\"\n",
    "s=s+\" hello \"\n",
    "s"
   ]
  },
  {
   "cell_type": "code",
   "execution_count": 19,
   "id": "1427ee4d-6f7a-47e6-91e4-dfbab8d8615b",
   "metadata": {},
   "outputs": [
    {
     "data": {
      "text/plain": [
       "'Piyush hello Piyush hello '"
      ]
     },
     "execution_count": 19,
     "metadata": {},
     "output_type": "execute_result"
    }
   ],
   "source": [
    "s*2\n"
   ]
  },
  {
   "cell_type": "code",
   "execution_count": 20,
   "id": "f65c0b33-241b-4e23-88bb-bce4073a3253",
   "metadata": {},
   "outputs": [
    {
     "data": {
      "text/plain": [
       "13"
      ]
     },
     "execution_count": 20,
     "metadata": {},
     "output_type": "execute_result"
    }
   ],
   "source": [
    "## length of string\n",
    "len(s)"
   ]
  },
  {
   "cell_type": "code",
   "execution_count": 21,
   "id": "7afc0082-0d42-4fc7-bde7-87ec93d87570",
   "metadata": {},
   "outputs": [
    {
     "data": {
      "text/plain": [
       "11"
      ]
     },
     "execution_count": 21,
     "metadata": {},
     "output_type": "execute_result"
    }
   ],
   "source": [
    "len(String)"
   ]
  },
  {
   "cell_type": "code",
   "execution_count": 22,
   "id": "04b3940a-b6fc-41a7-81d6-fbcc5a2a8aac",
   "metadata": {},
   "outputs": [
    {
     "name": "stdout",
     "output_type": "stream",
     "text": [
      "1\n"
     ]
    }
   ],
   "source": [
    "## Count function\n",
    "print(String.count(' '))"
   ]
  },
  {
   "cell_type": "code",
   "execution_count": 24,
   "id": "989382a6-5b53-42a2-b903-41999af1ae21",
   "metadata": {},
   "outputs": [
    {
     "name": "stdout",
     "output_type": "stream",
     "text": [
      "2\n"
     ]
    }
   ],
   "source": [
    "print(String.count('o'))"
   ]
  },
  {
   "cell_type": "code",
   "execution_count": 25,
   "id": "a266743a-60e4-4ae9-916e-1f53241dbb6f",
   "metadata": {},
   "outputs": [
    {
     "data": {
      "text/plain": [
       "'Piyush hello '"
      ]
     },
     "execution_count": 25,
     "metadata": {},
     "output_type": "execute_result"
    }
   ],
   "source": [
    "## Replace\n",
    "s"
   ]
  },
  {
   "cell_type": "code",
   "execution_count": 29,
   "id": "ffbb660f-309c-473e-af93-a72e2defd301",
   "metadata": {},
   "outputs": [
    {
     "name": "stdout",
     "output_type": "stream",
     "text": [
      "Piyush hi \n"
     ]
    }
   ],
   "source": [
    "print(s.replace(\" hello \",\" hi \"))\n"
   ]
  },
  {
   "cell_type": "code",
   "execution_count": 31,
   "id": "d4706324-9a43-4c16-b88e-accec5b9715f",
   "metadata": {},
   "outputs": [
    {
     "data": {
      "text/plain": [
       "'rrrPiyush hello rrrr'"
      ]
     },
     "execution_count": 31,
     "metadata": {},
     "output_type": "execute_result"
    }
   ],
   "source": [
    "## Formatting The `center()` method allows you to place your string 'centered' between a provided string with a certain length. \n",
    "s.center(20,'r')"
   ]
  },
  {
   "cell_type": "code",
   "execution_count": 32,
   "id": "d559b226-2655-4655-8eb3-499a956035d3",
   "metadata": {},
   "outputs": [
    {
     "data": {
      "text/plain": [
       "'hello   hi'"
      ]
     },
     "execution_count": 32,
     "metadata": {},
     "output_type": "execute_result"
    }
   ],
   "source": [
    "'hello\\thi'.expandtabs() # it will expand tab notations \\t into spaces."
   ]
  },
  {
   "cell_type": "code",
   "execution_count": 36,
   "id": "5f791dc5-1aa5-4b32-91e9-9fc0b458e321",
   "metadata": {},
   "outputs": [
    {
     "name": "stdin",
     "output_type": "stream",
     "text": [
      "Enter the string:- malayalam\n"
     ]
    },
    {
     "name": "stdout",
     "output_type": "stream",
     "text": [
      " Yes String is palindrome\n"
     ]
    }
   ],
   "source": [
    "''' We will see famous palindrome program. String is called palindrom if we reverse the string then\n",
    "    original and reversed string are same or not.\n",
    "    function to check string is  \n",
    "    palindrome or not  \n",
    "'''\n",
    "def palindrome(str):\n",
    "    for i in range(0,int(len(str)/2)):\n",
    "        if str[i] != str[len(str)-i-1]:\n",
    "            return False\n",
    "    return True\n",
    "\n",
    "s=input(\"Enter the string:-\")\n",
    "res=palindrome(s)\n",
    "\n",
    "if (res):\n",
    "    print(\" Yes String is palindrome\")\n",
    "else:\n",
    "    print(\"No String is not palindrome\")"
   ]
  },
  {
   "cell_type": "code",
   "execution_count": 1,
   "id": "14b516e5-e1a3-48ea-bb34-1e7f9b0a9002",
   "metadata": {},
   "outputs": [],
   "source": [
    "name=\"Data Science Masters\""
   ]
  },
  {
   "cell_type": "code",
   "execution_count": 2,
   "id": "f3d8fb4c-7dcf-42bd-bb13-ac5237ef3429",
   "metadata": {},
   "outputs": [
    {
     "data": {
      "text/plain": [
       "'Data science masters'"
      ]
     },
     "execution_count": 2,
     "metadata": {},
     "output_type": "execute_result"
    }
   ],
   "source": [
    "name.capitalize()"
   ]
  },
  {
   "cell_type": "code",
   "execution_count": 3,
   "id": "1800cd1c-381d-426d-9597-e75b0aa2c6e6",
   "metadata": {},
   "outputs": [
    {
     "data": {
      "text/plain": [
       "<reversed at 0x7f985a0a6740>"
      ]
     },
     "execution_count": 3,
     "metadata": {},
     "output_type": "execute_result"
    }
   ],
   "source": [
    "reversed(name)"
   ]
  },
  {
   "cell_type": "code",
   "execution_count": 4,
   "id": "eb40f5b0-5dfc-49c0-9ffd-101e19efdf98",
   "metadata": {},
   "outputs": [
    {
     "data": {
      "text/plain": [
       "'s r e t s a M   e c n e i c S   a t a D'"
      ]
     },
     "execution_count": 4,
     "metadata": {},
     "output_type": "execute_result"
    }
   ],
   "source": [
    "' '.join(reversed(name))"
   ]
  },
  {
   "cell_type": "code",
   "execution_count": 5,
   "id": "ce5f4262-52db-428f-a67f-ab9b54b916f0",
   "metadata": {},
   "outputs": [
    {
     "data": {
      "text/plain": [
       "'RPiyushaPiyushj'"
      ]
     },
     "execution_count": 5,
     "metadata": {},
     "output_type": "execute_result"
    }
   ],
   "source": [
    "\"Piyush\".join(\"Raj\")"
   ]
  },
  {
   "cell_type": "code",
   "execution_count": 6,
   "id": "c6dfe123-be0f-4602-b931-9b474a6a68e6",
   "metadata": {},
   "outputs": [
    {
     "data": {
      "text/plain": [
       "['t', 'n', 'a']"
      ]
     },
     "execution_count": 6,
     "metadata": {},
     "output_type": "execute_result"
    }
   ],
   "source": [
    "list(reversed(\"ant\"))"
   ]
  },
  {
   "cell_type": "code",
   "execution_count": 2,
   "id": "55ccc0ae-a560-4668-a913-084189a95630",
   "metadata": {},
   "outputs": [],
   "source": [
    "#Removing character from the end of a string\n",
    "str1=\" DataScience \""
   ]
  },
  {
   "cell_type": "code",
   "execution_count": 3,
   "id": "5bf8780e-e343-4f3e-b885-70f3d2b8ea56",
   "metadata": {},
   "outputs": [
    {
     "data": {
      "text/plain": [
       "'DataScience'"
      ]
     },
     "execution_count": 3,
     "metadata": {},
     "output_type": "execute_result"
    }
   ],
   "source": [
    "str1.strip(\" \") # leading and trailing whitespaces removed."
   ]
  },
  {
   "cell_type": "code",
   "execution_count": 9,
   "id": "69022976-cc53-4ff5-a7a3-9edbbb310173",
   "metadata": {},
   "outputs": [],
   "source": [
    "#lstrip -> left space removed\n",
    "#rstrip -> right space removed\n"
   ]
  },
  {
   "cell_type": "code",
   "execution_count": 4,
   "id": "41cc3c6f-5c67-4717-bfa3-a8607b7dce5d",
   "metadata": {},
   "outputs": [
    {
     "data": {
      "text/plain": [
       "' DataScience '"
      ]
     },
     "execution_count": 4,
     "metadata": {},
     "output_type": "execute_result"
    }
   ],
   "source": [
    "str1"
   ]
  },
  {
   "cell_type": "code",
   "execution_count": 5,
   "id": "d990876f-f829-4ba8-932c-7e3da0472ff6",
   "metadata": {},
   "outputs": [
    {
     "data": {
      "text/plain": [
       "False"
      ]
     },
     "execution_count": 5,
     "metadata": {},
     "output_type": "execute_result"
    }
   ],
   "source": [
    "str1.isupper()"
   ]
  },
  {
   "cell_type": "code",
   "execution_count": 6,
   "id": "143ff8be-426a-458a-8bae-051fdfb24855",
   "metadata": {},
   "outputs": [
    {
     "data": {
      "text/plain": [
       "False"
      ]
     },
     "execution_count": 6,
     "metadata": {},
     "output_type": "execute_result"
    }
   ],
   "source": [
    "str1.islower()"
   ]
  },
  {
   "cell_type": "code",
   "execution_count": 7,
   "id": "7ec39ced-7f03-4693-919f-03f0543f220d",
   "metadata": {},
   "outputs": [
    {
     "data": {
      "text/plain": [
       "False"
      ]
     },
     "execution_count": 7,
     "metadata": {},
     "output_type": "execute_result"
    }
   ],
   "source": [
    "str1.isspace()"
   ]
  },
  {
   "cell_type": "code",
   "execution_count": 8,
   "id": "721871b4-bbe4-4ebb-a902-3e27e7bf5b84",
   "metadata": {},
   "outputs": [
    {
     "data": {
      "text/plain": [
       "True"
      ]
     },
     "execution_count": 8,
     "metadata": {},
     "output_type": "execute_result"
    }
   ],
   "source": [
    "' '.isspace()"
   ]
  },
  {
   "cell_type": "code",
   "execution_count": 9,
   "id": "576f2dd5-85bf-46ec-94c8-69a4f3f25464",
   "metadata": {},
   "outputs": [
    {
     "name": "stdout",
     "output_type": "stream",
     "text": [
      "hello\n"
     ]
    }
   ],
   "source": [
    "if(\" \".isspace()):\n",
    "    print(\"hello\")"
   ]
  },
  {
   "cell_type": "code",
   "execution_count": 2,
   "id": "986c27ab-c452-4a3a-9f43-6ccbf490cfea",
   "metadata": {},
   "outputs": [],
   "source": [
    "str2=\"Piyush\""
   ]
  },
  {
   "cell_type": "code",
   "execution_count": 11,
   "id": "a02f8303-7f93-40a3-993e-88bcca469d5f",
   "metadata": {},
   "outputs": [
    {
     "data": {
      "text/plain": [
       "True"
      ]
     },
     "execution_count": 11,
     "metadata": {},
     "output_type": "execute_result"
    }
   ],
   "source": [
    "str2.endswith('h')"
   ]
  },
  {
   "cell_type": "code",
   "execution_count": 13,
   "id": "605e7d87-e088-413e-a914-094110230f70",
   "metadata": {},
   "outputs": [
    {
     "data": {
      "text/plain": [
       "True"
      ]
     },
     "execution_count": 13,
     "metadata": {},
     "output_type": "execute_result"
    }
   ],
   "source": [
    "## check if all the char in string is alphanumeric\n",
    "a=\"abcd1234\"\n",
    "a.isalnum()"
   ]
  },
  {
   "cell_type": "code",
   "execution_count": 14,
   "id": "679ffcd5-5893-473e-a0d3-0e2b4bb738c5",
   "metadata": {},
   "outputs": [
    {
     "data": {
      "text/plain": [
       "6"
      ]
     },
     "execution_count": 14,
     "metadata": {},
     "output_type": "execute_result"
    }
   ],
   "source": [
    "## count the no of characters in sttring\n",
    "len(str2)"
   ]
  },
  {
   "cell_type": "code",
   "execution_count": 16,
   "id": "f67ae2ae-dc07-467c-a3ad-501ca7e626d8",
   "metadata": {},
   "outputs": [
    {
     "name": "stdout",
     "output_type": "stream",
     "text": [
      "6\n"
     ]
    }
   ],
   "source": [
    "count=0\n",
    "for i in str2:\n",
    "    count+=1\n",
    "print(count)"
   ]
  },
  {
   "cell_type": "code",
   "execution_count": 17,
   "id": "2dfd2916-2435-4128-85f3-471b65703586",
   "metadata": {},
   "outputs": [
    {
     "data": {
      "text/plain": [
       "range(0, 6)"
      ]
     },
     "execution_count": 17,
     "metadata": {},
     "output_type": "execute_result"
    }
   ],
   "source": [
    "range(len(str2))"
   ]
  },
  {
   "cell_type": "code",
   "execution_count": 18,
   "id": "9f12b187-9ee1-41fe-9a9c-380621312997",
   "metadata": {},
   "outputs": [
    {
     "name": "stdout",
     "output_type": "stream",
     "text": [
      "0 = P\n",
      "1 = i\n",
      "2 = y\n",
      "3 = u\n",
      "4 = s\n",
      "5 = h\n"
     ]
    }
   ],
   "source": [
    "for i in range(len(str2)):\n",
    "    print(i,\"=\",str2[i])"
   ]
  },
  {
   "cell_type": "code",
   "execution_count": 19,
   "id": "a2a52c15-4c7a-4177-92d3-7c7c5674ed34",
   "metadata": {},
   "outputs": [
    {
     "name": "stdout",
     "output_type": "stream",
     "text": [
      "P\n",
      "i\n",
      "y\n",
      "u\n",
      "s\n",
      "h\n"
     ]
    }
   ],
   "source": [
    "for i in str2:\n",
    "    print(i)"
   ]
  },
  {
   "cell_type": "code",
   "execution_count": 20,
   "id": "fd7078e2-29fa-4cf8-8a8a-0333df89949e",
   "metadata": {},
   "outputs": [],
   "source": [
    "# we can use index to iterate string reverse direction"
   ]
  },
  {
   "cell_type": "code",
   "execution_count": 21,
   "id": "372fc4a8-ac40-4b10-8c2b-0647dabd2033",
   "metadata": {},
   "outputs": [
    {
     "data": {
      "text/plain": [
       "5"
      ]
     },
     "execution_count": 21,
     "metadata": {},
     "output_type": "execute_result"
    }
   ],
   "source": [
    "len(str2)-1"
   ]
  },
  {
   "cell_type": "code",
   "execution_count": 33,
   "id": "1e81fd28-c345-4cd4-92cc-e3e259ce7330",
   "metadata": {},
   "outputs": [
    {
     "name": "stdout",
     "output_type": "stream",
     "text": [
      "h\n",
      "s\n",
      "u\n",
      "y\n",
      "i\n",
      "P\n"
     ]
    }
   ],
   "source": [
    "for i in range(len(str2)-1,-1,-1):\n",
    "    print(str2[i])"
   ]
  },
  {
   "cell_type": "code",
   "execution_count": 35,
   "id": "49ff6a27-a732-402d-b1b9-167bc5402e46",
   "metadata": {},
   "outputs": [
    {
     "name": "stdout",
     "output_type": "stream",
     "text": [
      "h\n",
      "s\n",
      "u\n",
      "y\n",
      "i\n",
      "P\n"
     ]
    }
   ],
   "source": [
    "ch=len(str2)-1\n",
    "while ch>=0:\n",
    "    print(str2[ch])\n",
    "    ch=ch-1"
   ]
  },
  {
   "cell_type": "code",
   "execution_count": 3,
   "id": "ffc0d418-d819-4edf-9870-a69da69d9a3d",
   "metadata": {},
   "outputs": [
    {
     "name": "stdout",
     "output_type": "stream",
     "text": [
      "h\n",
      "s\n",
      "u\n",
      "y\n",
      "i\n",
      "P\n"
     ]
    }
   ],
   "source": [
    "for i in range(len(str2)):\n",
    "    print(str2[len(str2) - (i+1)])"
   ]
  },
  {
   "cell_type": "code",
   "execution_count": 4,
   "id": "8e0c3c9c-7621-44a6-b33a-eee9c2504291",
   "metadata": {},
   "outputs": [],
   "source": [
    "Name=\"Piyush\"\n",
    "vowels=\"aeiou\""
   ]
  },
  {
   "cell_type": "code",
   "execution_count": 5,
   "id": "e390ab95-9288-430b-95b9-f3d209c8f57a",
   "metadata": {},
   "outputs": [
    {
     "name": "stdout",
     "output_type": "stream",
     "text": [
      "P is not a vowel\n",
      "i is a vowel\n",
      "y is not a vowel\n",
      "u is a vowel\n",
      "s is not a vowel\n",
      "h is not a vowel\n"
     ]
    }
   ],
   "source": [
    "for i in Name:\n",
    "    if i in vowels:\n",
    "        print(\"{} is a vowel\".format(i))\n",
    "    else:\n",
    "        print(\"{} is not a vowel\".format(i))"
   ]
  },
  {
   "cell_type": "code",
   "execution_count": 6,
   "id": "92ba4890-2bf2-4f67-963b-783bf1bacaa3",
   "metadata": {},
   "outputs": [
    {
     "data": {
      "text/plain": [
       "list"
      ]
     },
     "execution_count": 6,
     "metadata": {},
     "output_type": "execute_result"
    }
   ],
   "source": [
    "type([])"
   ]
  },
  {
   "cell_type": "code",
   "execution_count": 7,
   "id": "807b945d-8663-4391-88e0-b84e9b56d382",
   "metadata": {},
   "outputs": [
    {
     "data": {
      "text/plain": [
       "['piyush', 'nikhil', 'shyphen', 3]"
      ]
     },
     "execution_count": 7,
     "metadata": {},
     "output_type": "execute_result"
    }
   ],
   "source": [
    "[\"piyush\",\"nikhil\",\"shyphen\",3]"
   ]
  },
  {
   "cell_type": "code",
   "execution_count": 8,
   "id": "5e1e59bf-0bf4-449a-9248-61e753e1a46e",
   "metadata": {},
   "outputs": [
    {
     "data": {
      "text/plain": [
       "['P', 'i', 'y', 'u', 's', 'h']"
      ]
     },
     "execution_count": 8,
     "metadata": {},
     "output_type": "execute_result"
    }
   ],
   "source": [
    "list(str2)"
   ]
  },
  {
   "cell_type": "code",
   "execution_count": 10,
   "id": "bfd79708-4545-4d2c-9419-4171a4823ed8",
   "metadata": {},
   "outputs": [
    {
     "data": {
      "text/plain": [
       "['Data', 'Science', 'Masters']"
      ]
     },
     "execution_count": 10,
     "metadata": {},
     "output_type": "execute_result"
    }
   ],
   "source": [
    "str1=\"Data Science Masters\"\n",
    "str1.split(\" \")"
   ]
  },
  {
   "cell_type": "code",
   "execution_count": 12,
   "id": "221c44c4-51aa-4af1-bd21-ff4bd1943b8a",
   "metadata": {},
   "outputs": [
    {
     "data": {
      "text/plain": [
       "['Data', 'Science', 'Masters']"
      ]
     },
     "execution_count": 12,
     "metadata": {},
     "output_type": "execute_result"
    }
   ],
   "source": [
    "list(str1.split(\" \"))"
   ]
  },
  {
   "cell_type": "code",
   "execution_count": 13,
   "id": "ce0a7aa5-15a0-4fec-bc3a-d2f42b8675dd",
   "metadata": {},
   "outputs": [],
   "source": [
    "list1=str1.split(\" \")"
   ]
  },
  {
   "cell_type": "code",
   "execution_count": 14,
   "id": "79bdb92d-d692-4d76-91aa-e535d89b8abf",
   "metadata": {},
   "outputs": [
    {
     "data": {
      "text/plain": [
       "'Science'"
      ]
     },
     "execution_count": 14,
     "metadata": {},
     "output_type": "execute_result"
    }
   ],
   "source": [
    "list1[1]"
   ]
  },
  {
   "cell_type": "code",
   "execution_count": 15,
   "id": "e7fedb6c-cb04-4475-8b78-0e66f768fbfc",
   "metadata": {},
   "outputs": [
    {
     "data": {
      "text/plain": [
       "['Science', 'Masters']"
      ]
     },
     "execution_count": 15,
     "metadata": {},
     "output_type": "execute_result"
    }
   ],
   "source": [
    "list1[1:]"
   ]
  },
  {
   "cell_type": "code",
   "execution_count": 16,
   "id": "f2dec6f4-01d0-4f18-9923-e7a952958082",
   "metadata": {},
   "outputs": [],
   "source": [
    "list1[2]=\"analytics and\""
   ]
  },
  {
   "cell_type": "code",
   "execution_count": 18,
   "id": "2f4f8cc1-1128-4cd9-adc5-1c923e55332a",
   "metadata": {},
   "outputs": [
    {
     "data": {
      "text/plain": [
       "['Data', 'Science', 'analytics and']"
      ]
     },
     "execution_count": 18,
     "metadata": {},
     "output_type": "execute_result"
    }
   ],
   "source": [
    "list1"
   ]
  },
  {
   "cell_type": "code",
   "execution_count": 19,
   "id": "808b923c-9e4f-4f4a-bb44-b548aaf5fc8f",
   "metadata": {},
   "outputs": [
    {
     "data": {
      "text/plain": [
       "'Science'"
      ]
     },
     "execution_count": 19,
     "metadata": {},
     "output_type": "execute_result"
    }
   ],
   "source": [
    "list1[-2]"
   ]
  },
  {
   "cell_type": "code",
   "execution_count": 21,
   "id": "0d4200ab-2e97-47cc-9570-a129a455dbf1",
   "metadata": {},
   "outputs": [
    {
     "data": {
      "text/plain": [
       "['Data']"
      ]
     },
     "execution_count": 21,
     "metadata": {},
     "output_type": "execute_result"
    }
   ],
   "source": [
    "list1[-3::-2]"
   ]
  },
  {
   "cell_type": "code",
   "execution_count": 32,
   "id": "74ab7d7d-c6b4-4048-8660-9debe29f375d",
   "metadata": {},
   "outputs": [
    {
     "data": {
      "text/plain": [
       "[]"
      ]
     },
     "execution_count": 32,
     "metadata": {},
     "output_type": "execute_result"
    }
   ],
   "source": [
    "list1[-3:1:-2]"
   ]
  },
  {
   "cell_type": "code",
   "execution_count": 33,
   "id": "61a8d4ec-010f-4ce5-8961-6c0465a9ce30",
   "metadata": {},
   "outputs": [
    {
     "data": {
      "text/plain": [
       "['Data', 'Science', 'analytics and']"
      ]
     },
     "execution_count": 33,
     "metadata": {},
     "output_type": "execute_result"
    }
   ],
   "source": [
    "list1"
   ]
  },
  {
   "cell_type": "code",
   "execution_count": 77,
   "id": "cf009121-9bd6-4b44-8246-3dd8d2e2d02f",
   "metadata": {},
   "outputs": [],
   "source": [
    "##concatenation\n",
    "list2=list1+[\"masters\",3]"
   ]
  },
  {
   "cell_type": "code",
   "execution_count": 78,
   "id": "c15bc687-61d9-4776-86d5-3b51978f4bb2",
   "metadata": {},
   "outputs": [
    {
     "data": {
      "text/plain": [
       "['Data', 'Science', 'analytics and', 'masters', 3]"
      ]
     },
     "execution_count": 78,
     "metadata": {},
     "output_type": "execute_result"
    }
   ],
   "source": [
    "list2"
   ]
  },
  {
   "cell_type": "code",
   "execution_count": 79,
   "id": "39cec06a-248c-4fbb-b4e9-9c2101cb4e66",
   "metadata": {},
   "outputs": [
    {
     "name": "stdout",
     "output_type": "stream",
     "text": [
      "Data\n",
      "Science\n",
      "analytics and\n",
      "masters\n",
      "3\n"
     ]
    }
   ],
   "source": [
    "for i in list2:\n",
    "    print(i)"
   ]
  },
  {
   "cell_type": "code",
   "execution_count": 80,
   "id": "3dfe262c-94de-4d23-92ad-c6651752139d",
   "metadata": {},
   "outputs": [
    {
     "name": "stdout",
     "output_type": "stream",
     "text": [
      "['Data', 'Science', 'analytics and', 'masters']\n"
     ]
    }
   ],
   "source": [
    "for i in list2:\n",
    "    if i==3:\n",
    "        list2.pop()\n",
    "print(list2)"
   ]
  },
  {
   "cell_type": "code",
   "execution_count": null,
   "id": "92e20a81-cc2e-48dc-b28e-a19862667fbe",
   "metadata": {},
   "outputs": [],
   "source": [
    "##list.remove(element)\n",
    "##list.pop(index)\n",
    "##list.clear()\n",
    "## del lsit[start:stop]"
   ]
  },
  {
   "cell_type": "code",
   "execution_count": 81,
   "id": "032087b4-7465-4233-8e09-2e46e3be2fcb",
   "metadata": {},
   "outputs": [],
   "source": [
    "a=[\"zebra\",\"monkey\",\"donkey\",\"lion\"]\n",
    "b=[5,6,7,8,9]"
   ]
  },
  {
   "cell_type": "code",
   "execution_count": 82,
   "id": "4b1a9600-da89-4e5c-816c-36f6f633b956",
   "metadata": {},
   "outputs": [
    {
     "name": "stdout",
     "output_type": "stream",
     "text": [
      "zebra\n"
     ]
    }
   ],
   "source": [
    "print(max(a))"
   ]
  },
  {
   "cell_type": "code",
   "execution_count": 83,
   "id": "8de8c3d5-2763-496b-b1fb-be4e7ea459e4",
   "metadata": {},
   "outputs": [
    {
     "data": {
      "text/plain": [
       "9"
      ]
     },
     "execution_count": 83,
     "metadata": {},
     "output_type": "execute_result"
    }
   ],
   "source": [
    "max(b)"
   ]
  },
  {
   "cell_type": "code",
   "execution_count": 84,
   "id": "c00ec98a-bf29-4e7c-89bd-f858ddd15362",
   "metadata": {},
   "outputs": [
    {
     "data": {
      "text/plain": [
       "'donkey'"
      ]
     },
     "execution_count": 84,
     "metadata": {},
     "output_type": "execute_result"
    }
   ],
   "source": [
    "min(a)"
   ]
  },
  {
   "cell_type": "code",
   "execution_count": 85,
   "id": "64fb9b2d-2a1a-4489-a3fa-f07e2a2602fc",
   "metadata": {},
   "outputs": [
    {
     "data": {
      "text/plain": [
       "5"
      ]
     },
     "execution_count": 85,
     "metadata": {},
     "output_type": "execute_result"
    }
   ],
   "source": [
    "min(b)"
   ]
  },
  {
   "cell_type": "code",
   "execution_count": 15,
   "id": "da63f93b-f90b-4d66-9a6a-ce8572e98015",
   "metadata": {},
   "outputs": [],
   "source": [
    "## Append\n",
    "list3=[1,2,3,4,5,6]"
   ]
  },
  {
   "cell_type": "code",
   "execution_count": 16,
   "id": "68b3995f-89c9-4038-8e71-d981c0602cb9",
   "metadata": {},
   "outputs": [
    {
     "data": {
      "text/plain": [
       "True"
      ]
     },
     "execution_count": 16,
     "metadata": {},
     "output_type": "execute_result"
    }
   ],
   "source": [
    "1.9999999999999999 in [2,4,5]"
   ]
  },
  {
   "cell_type": "code",
   "execution_count": 17,
   "id": "b6a2d69d-fea0-495d-b86e-451e71ca99e9",
   "metadata": {},
   "outputs": [
    {
     "data": {
      "text/plain": [
       "True"
      ]
     },
     "execution_count": 17,
     "metadata": {},
     "output_type": "execute_result"
    }
   ],
   "source": [
    "c=[5,6,7,8,9]\n",
    "type(c[0])##integer\n",
    "type(5.0)##float\n",
    "5.0 in c##True\n"
   ]
  },
  {
   "cell_type": "code",
   "execution_count": 18,
   "id": "cd1019f5-ccc3-43a9-8946-787873683f26",
   "metadata": {},
   "outputs": [
    {
     "data": {
      "text/plain": [
       "[1, 2, 3, 4, 5, 6]"
      ]
     },
     "execution_count": 18,
     "metadata": {},
     "output_type": "execute_result"
    }
   ],
   "source": [
    "list3"
   ]
  },
  {
   "cell_type": "code",
   "execution_count": 19,
   "id": "538464a7-a385-4793-9094-67991f07cce3",
   "metadata": {},
   "outputs": [],
   "source": [
    "list3.append(7)"
   ]
  },
  {
   "cell_type": "code",
   "execution_count": 20,
   "id": "e0a3b745-c2ff-4c5f-8206-fb280fc73e68",
   "metadata": {},
   "outputs": [
    {
     "data": {
      "text/plain": [
       "[1, 2, 3, 4, 5, 6, 7]"
      ]
     },
     "execution_count": 20,
     "metadata": {},
     "output_type": "execute_result"
    }
   ],
   "source": [
    "list3"
   ]
  },
  {
   "cell_type": "code",
   "execution_count": 21,
   "id": "a600cdd8-1e49-4bd9-ae84-b10b48750f8b",
   "metadata": {},
   "outputs": [],
   "source": [
    "list3.append([\"Data\",\"Science\",\"Masters\"])"
   ]
  },
  {
   "cell_type": "code",
   "execution_count": 22,
   "id": "3e0f8bc8-6187-4e66-996c-d6fbb6b281e2",
   "metadata": {},
   "outputs": [
    {
     "data": {
      "text/plain": [
       "[1, 2, 3, 4, 5, 6, 7, ['Data', 'Science', 'Masters']]"
      ]
     },
     "execution_count": 22,
     "metadata": {},
     "output_type": "execute_result"
    }
   ],
   "source": [
    "list3 "
   ]
  },
  {
   "cell_type": "code",
   "execution_count": 23,
   "id": "aed7956b-c1d0-4a09-af1f-cac6b7f38431",
   "metadata": {},
   "outputs": [],
   "source": [
    "## sorting and reverse method in list"
   ]
  },
  {
   "cell_type": "code",
   "execution_count": 24,
   "id": "88f5537a-804b-49f8-ab4b-523a4d3942d0",
   "metadata": {},
   "outputs": [],
   "source": [
    "new=['q','e','r','s','t','v']"
   ]
  },
  {
   "cell_type": "code",
   "execution_count": 25,
   "id": "82c37a49-8ee5-46d3-960a-de88f442a6f5",
   "metadata": {},
   "outputs": [
    {
     "data": {
      "text/plain": [
       "['v', 't', 's', 'r', 'e', 'q']"
      ]
     },
     "execution_count": 25,
     "metadata": {},
     "output_type": "execute_result"
    }
   ],
   "source": [
    "new[::-1]"
   ]
  },
  {
   "cell_type": "code",
   "execution_count": 26,
   "id": "462103dd-49fb-42ac-a99f-84c857bb841f",
   "metadata": {},
   "outputs": [],
   "source": [
    "new.reverse()"
   ]
  },
  {
   "cell_type": "code",
   "execution_count": 27,
   "id": "a01d0659-a515-49ad-b3d5-eba0b2230694",
   "metadata": {},
   "outputs": [
    {
     "data": {
      "text/plain": [
       "['v', 't', 's', 'r', 'e', 'q']"
      ]
     },
     "execution_count": 27,
     "metadata": {},
     "output_type": "execute_result"
    }
   ],
   "source": [
    "new"
   ]
  },
  {
   "cell_type": "code",
   "execution_count": 28,
   "id": "808e8740-4e75-4f70-9039-4cd468cd6a16",
   "metadata": {},
   "outputs": [
    {
     "data": {
      "text/plain": [
       "['e', 'q', 'r', 's', 't', 'v']"
      ]
     },
     "execution_count": 28,
     "metadata": {},
     "output_type": "execute_result"
    }
   ],
   "source": [
    "new.sort()\n",
    "new"
   ]
  },
  {
   "cell_type": "code",
   "execution_count": 29,
   "id": "c0ec9f29-113d-4145-99eb-286dc20a5563",
   "metadata": {},
   "outputs": [
    {
     "data": {
      "text/plain": [
       "[1, 2, 3, 4, 5, 6, 7, ['Data', 'Science', 'Masters'], 'PW', 'Skills']"
      ]
     },
     "execution_count": 29,
     "metadata": {},
     "output_type": "execute_result"
    }
   ],
   "source": [
    "list3.extend(['PW','Skills'])\n",
    "list3"
   ]
  },
  {
   "cell_type": "markdown",
   "id": "abbe7055-a271-4669-88fa-24cf85bfe673",
   "metadata": {},
   "source": [
    "## Nested List"
   ]
  },
  {
   "cell_type": "code",
   "execution_count": 30,
   "id": "1338316f-ead3-427e-aa9d-640aca775555",
   "metadata": {},
   "outputs": [],
   "source": [
    "# Let's make three lists\n",
    "lst_1=[1,2,3]\n",
    "lst_2=[4,5,6]\n",
    "lst_3=[7,8,9]\n",
    "\n",
    "# Make a list of lists to form a matrix\n",
    "matrix = [lst_1,lst_2,lst_3]"
   ]
  },
  {
   "cell_type": "code",
   "execution_count": 31,
   "id": "52ed6a8c-516b-48d7-9f99-401035823bcd",
   "metadata": {},
   "outputs": [
    {
     "data": {
      "text/plain": [
       "[[1, 2, 3], [4, 5, 6], [7, 8, 9]]"
      ]
     },
     "execution_count": 31,
     "metadata": {},
     "output_type": "execute_result"
    }
   ],
   "source": [
    "matrix"
   ]
  },
  {
   "cell_type": "code",
   "execution_count": 32,
   "id": "5d8de7d1-8c96-4157-a0a5-cde7d71ad9a0",
   "metadata": {},
   "outputs": [
    {
     "data": {
      "text/plain": [
       "6"
      ]
     },
     "execution_count": 32,
     "metadata": {},
     "output_type": "execute_result"
    }
   ],
   "source": [
    "matrix[1][2]"
   ]
  },
  {
   "cell_type": "code",
   "execution_count": 36,
   "id": "28a45786-a97f-4a63-b738-a35f3b6ae2ec",
   "metadata": {},
   "outputs": [
    {
     "data": {
      "text/plain": [
       "[8, 9]"
      ]
     },
     "execution_count": 36,
     "metadata": {},
     "output_type": "execute_result"
    }
   ],
   "source": [
    "matrix[2][1:]"
   ]
  },
  {
   "cell_type": "code",
   "execution_count": 44,
   "id": "9296a3f2-aaad-4ce8-be98-5a51e3a3d55c",
   "metadata": {},
   "outputs": [
    {
     "data": {
      "text/plain": [
       "[0, 1, 2, 3, 4, 5, 6, 7, 8, 9, 10, 11, 12, 13, 14, 15, 16, 17, 18, 19]"
      ]
     },
     "execution_count": 44,
     "metadata": {},
     "output_type": "execute_result"
    }
   ],
   "source": [
    "## list comprehension\n",
    "[i for i in range(20)]"
   ]
  },
  {
   "cell_type": "code",
   "execution_count": 45,
   "id": "abf6b73c-d405-41a4-b7cc-b4fd633845cf",
   "metadata": {},
   "outputs": [
    {
     "data": {
      "text/plain": [
       "[0,\n",
       " 'ODD',\n",
       " 2,\n",
       " 'ODD',\n",
       " 4,\n",
       " 'ODD',\n",
       " 6,\n",
       " 'ODD',\n",
       " 8,\n",
       " 'ODD',\n",
       " 10,\n",
       " 'ODD',\n",
       " 12,\n",
       " 'ODD',\n",
       " 14,\n",
       " 'ODD',\n",
       " 16,\n",
       " 'ODD',\n",
       " 18,\n",
       " 'ODD']"
      ]
     },
     "execution_count": 45,
     "metadata": {},
     "output_type": "execute_result"
    }
   ],
   "source": [
    "[i if i%2==0 else \"ODD\" for i in range(0,20)]"
   ]
  },
  {
   "cell_type": "code",
   "execution_count": 2,
   "id": "fba7c902-90a6-4c2d-aee5-eb006e30e82a",
   "metadata": {},
   "outputs": [
    {
     "name": "stdout",
     "output_type": "stream",
     "text": [
      "the sum of even no in list is: 20\n",
      "the sum of odd no in list is: 16\n"
     ]
    }
   ],
   "source": [
    "## Assignment\n",
    "## summation of even and odd numbers\n",
    "list1=[1,2,3,4,5,6,7,8]\n",
    "even_sum=0\n",
    "odd_sum=0\n",
    "for i in list1:\n",
    "    if i%2==0:\n",
    "        even_sum=even_sum+i\n",
    "    else:\n",
    "        odd_sum+=i\n",
    "print(\"the sum of even no in list is:\",even_sum)\n",
    "print(\"the sum of odd no in list is:\",odd_sum)"
   ]
  },
  {
   "cell_type": "code",
   "execution_count": 3,
   "id": "dc0d48e9-07d3-4ca4-8206-bdfdc54ff036",
   "metadata": {},
   "outputs": [],
   "source": [
    "even_sum=sum([num for num in list1 if num%2==0])"
   ]
  },
  {
   "cell_type": "code",
   "execution_count": 4,
   "id": "e7043a10-0ff7-49cc-b385-f4807f516c7e",
   "metadata": {},
   "outputs": [
    {
     "data": {
      "text/plain": [
       "20"
      ]
     },
     "execution_count": 4,
     "metadata": {},
     "output_type": "execute_result"
    }
   ],
   "source": [
    "even_sum"
   ]
  },
  {
   "cell_type": "code",
   "execution_count": 7,
   "id": "68b2c57e-2854-4e71-a639-d9f282eda111",
   "metadata": {},
   "outputs": [],
   "source": [
    "odd_sum=sum([num for num in list1 if num%2!=0])"
   ]
  },
  {
   "cell_type": "code",
   "execution_count": 8,
   "id": "97efc32c-80b0-4680-8a71-52f122926a3e",
   "metadata": {},
   "outputs": [
    {
     "data": {
      "text/plain": [
       "16"
      ]
     },
     "execution_count": 8,
     "metadata": {},
     "output_type": "execute_result"
    }
   ],
   "source": [
    "odd_sum"
   ]
  },
  {
   "cell_type": "code",
   "execution_count": 9,
   "id": "bda97957-45be-4aac-a7a1-eb0d02862734",
   "metadata": {},
   "outputs": [
    {
     "data": {
      "text/plain": [
       "[1, 4, 9, 16, 25, 36, 49, 64, 81]"
      ]
     },
     "execution_count": 9,
     "metadata": {},
     "output_type": "execute_result"
    }
   ],
   "source": [
    "list2=[1,2,3,4,5,6,7,8,9]\n",
    "[num**2 for num in list2]"
   ]
  },
  {
   "cell_type": "code",
   "execution_count": 11,
   "id": "2f7a5ecc-2692-4915-bc15-ee34e84c3641",
   "metadata": {},
   "outputs": [
    {
     "data": {
      "text/plain": [
       "[0, 1, 2, 3, 4]"
      ]
     },
     "execution_count": 11,
     "metadata": {},
     "output_type": "execute_result"
    }
   ],
   "source": [
    "numbers=[-1,-2,0,1,2,3,4]\n",
    "[num for num in numbers if num>=0]"
   ]
  },
  {
   "cell_type": "code",
   "execution_count": 12,
   "id": "1a163676-e12e-427f-a70d-14117d867ea3",
   "metadata": {},
   "outputs": [
    {
     "data": {
      "text/plain": [
       "['a', 'b', 'c', 'd']"
      ]
     },
     "execution_count": 12,
     "metadata": {},
     "output_type": "execute_result"
    }
   ],
   "source": [
    "# Example 3: Create a list of only the first letters of words in a list\n",
    "words = ['apple', 'banana', 'cherry', 'date']\n",
    "[word[0] for word in words]"
   ]
  },
  {
   "cell_type": "code",
   "execution_count": 13,
   "id": "8accd2d7-cc1a-4611-b4a3-b8b492f22ce2",
   "metadata": {},
   "outputs": [],
   "source": [
    "# Example 4: Convert a list of temperatures from Celsius to Fahrenheit uing list comprehesnion\n",
    "celsius_temperatures = [0, 10, 20, 30, 40, 50]"
   ]
  },
  {
   "cell_type": "code",
   "execution_count": 14,
   "id": "05d90324-65b6-49f2-9835-26f1af217c59",
   "metadata": {},
   "outputs": [
    {
     "data": {
      "text/plain": [
       "[32.0, 50.0, 68.0, 86.0, 104.0, 122.0]"
      ]
     },
     "execution_count": 14,
     "metadata": {},
     "output_type": "execute_result"
    }
   ],
   "source": [
    "[(9/5)*temp+32 for temp in celsius_temperatures]"
   ]
  },
  {
   "cell_type": "code",
   "execution_count": 19,
   "id": "38321a5f-9a41-4b67-aa7e-5c4a86865ec9",
   "metadata": {},
   "outputs": [],
   "source": [
    "# Example 5: Flatten a list of lists into a single list\n",
    "lists = [[1, 2, 3], [4, 5, 6], [7, 8, 9]]"
   ]
  },
  {
   "cell_type": "code",
   "execution_count": 20,
   "id": "a1e685ac-e806-4d30-a4c5-acfc964896d2",
   "metadata": {},
   "outputs": [
    {
     "data": {
      "text/plain": [
       "[1, 2, 3, 4, 5, 6, 7, 8, 9]"
      ]
     },
     "execution_count": 20,
     "metadata": {},
     "output_type": "execute_result"
    }
   ],
   "source": [
    "[num for sublist in lists for num in sublist]"
   ]
  },
  {
   "cell_type": "code",
   "execution_count": 2,
   "id": "6d9b1da9-e448-4bd6-ac91-6bcd18764fdf",
   "metadata": {},
   "outputs": [
    {
     "name": "stdout",
     "output_type": "stream",
     "text": [
      "[2, 3, 5, 7]\n",
      "10\n"
     ]
    }
   ],
   "source": [
    "##Assignment\n",
    "## using both code and list comprehension\n",
    "## create a list of only thr prime numbers from a given list\n",
    "numbers=[1,2,3,4,5,6,7,8,9,10]\n",
    "prime=[]\n",
    "for i in numbers:\n",
    "    c=0\n",
    "    for j in range(1,i):\n",
    "        if i%j==0:\n",
    "            c+=1\n",
    "    if c==1:\n",
    "        prime.append(i)\n",
    "print(prime)\n",
    "print(len(numbers))\n",
    "    \n",
    "            \n",
    "        \n",
    "    \n"
   ]
  },
  {
   "cell_type": "code",
   "execution_count": 5,
   "id": "c940a8da-5db4-43bc-85f5-990143338657",
   "metadata": {},
   "outputs": [],
   "source": [
    "prime=[i for i in range(2,len(numbers)) if 0 not in [i%n for n in range(2,i)]]"
   ]
  },
  {
   "cell_type": "code",
   "execution_count": 6,
   "id": "162eac78-ee83-4f39-932f-58beaede3314",
   "metadata": {},
   "outputs": [
    {
     "name": "stdout",
     "output_type": "stream",
     "text": [
      "[2, 3, 5, 7]\n"
     ]
    }
   ],
   "source": [
    "print(prime)"
   ]
  },
  {
   "cell_type": "code",
   "execution_count": 7,
   "id": "d91ff63c-e48d-48df-917f-3ee4f21d083a",
   "metadata": {},
   "outputs": [],
   "source": [
    "#Example: create a list of all the possible combination of 2 elements from a list\n",
    "numbers=[1,2,3,4,5]\n"
   ]
  },
  {
   "cell_type": "code",
   "execution_count": 8,
   "id": "85802739-99af-48ce-9dd5-9d78e7c3d4d7",
   "metadata": {},
   "outputs": [
    {
     "name": "stdout",
     "output_type": "stream",
     "text": [
      "[[1, 2], [1, 3], [1, 4], [1, 5], [2, 3], [2, 4], [2, 5], [3, 4], [3, 5], [4, 5]]\n"
     ]
    }
   ],
   "source": [
    "def getcombinations(numbers):\n",
    "    new_list=[]\n",
    "    for i in range(0,len(numbers)):\n",
    "        for j in range(i+1,len(numbers)):\n",
    "            new_list.append([numbers[i],numbers[j]])\n",
    "    return new_list\n",
    "print(getcombinations(numbers))"
   ]
  }
 ],
 "metadata": {
  "kernelspec": {
   "display_name": "Python 3 (ipykernel)",
   "language": "python",
   "name": "python3"
  },
  "language_info": {
   "codemirror_mode": {
    "name": "ipython",
    "version": 3
   },
   "file_extension": ".py",
   "mimetype": "text/x-python",
   "name": "python",
   "nbconvert_exporter": "python",
   "pygments_lexer": "ipython3",
   "version": "3.10.8"
  },
  "toc-autonumbering": true,
  "toc-showmarkdowntxt": true,
  "toc-showtags": true
 },
 "nbformat": 4,
 "nbformat_minor": 5
}
