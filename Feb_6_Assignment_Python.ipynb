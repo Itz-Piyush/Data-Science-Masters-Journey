{
 "cells": [
  {
   "cell_type": "markdown",
   "id": "5aa96223-49b3-4a47-a55a-75aa0928cc1a",
   "metadata": {},
   "source": [
    "## FEB 6 ASSIGNMENT PYTHON"
   ]
  },
  {
   "cell_type": "markdown",
   "id": "c2e49e71-d009-4c00-9ea1-54bbc482908d",
   "metadata": {},
   "source": [
    "Q1. Create a function which will take a list as an argument and return the product of all the numbers \n",
    "after creating a flat list.\n",
    "\n",
    "Use the below-given list as an argument for your function.\n",
    "\n",
    "\n",
    "list1 = [1,2,3,4, [44,55,66, True], False, (34,56,78,89,34), {1,2,3,3,2,1}, {1:34, \"key2\": [55, 67, 78, 89], 4: (45, \n",
    "22, 61, 34)}, [56, 'data science'], 'Machine Learning']\n",
    "\n",
    "\n",
    "Note: you must extract numeric keys and values of the dictionary also."
   ]
  },
  {
   "cell_type": "code",
   "execution_count": 2,
   "id": "2ebf4c1b-5417-4cb2-915d-d19cdd5e4d13",
   "metadata": {},
   "outputs": [],
   "source": [
    "\n",
    "list1 = [1,2,3,4, [44,55,66, True], False, (34,56,78,89,34), {1,2,3,3,2,1}, {1:34, \"key2\": [55, 67, 78, 89], 4: (45, \n",
    "22, 61, 34)}, [56, 'data science'], 'Machine Learning']\n",
    "\n"
   ]
  },
  {
   "cell_type": "code",
   "execution_count": 3,
   "id": "a4b568d1-e1fd-43c6-84a7-939d1cc2cd8b",
   "metadata": {},
   "outputs": [
    {
     "name": "stdout",
     "output_type": "stream",
     "text": [
      "[44, 55, 66, 56]\n"
     ]
    }
   ],
   "source": [
    "from functools import reduce\n",
    "list2=[]\n",
    "list3=[]\n",
    "for i in list1:\n",
    "    if type(i) == list:\n",
    "        list2.append(i)\n",
    "v=reduce(lambda x,y:x+y,list2)\n",
    "for j in v:\n",
    "    if type(j)==int:\n",
    "        list3.append(j)\n",
    "print(list3)"
   ]
  },
  {
   "cell_type": "code",
   "execution_count": 4,
   "id": "f317fdf9-200b-494c-ad9f-040563dfa956",
   "metadata": {},
   "outputs": [
    {
     "name": "stdout",
     "output_type": "stream",
     "text": [
      "[1, 2, 3, 4]\n",
      "[34, 56, 78, 89, 34]\n"
     ]
    }
   ],
   "source": [
    "from functools import reduce\n",
    "list4=[]\n",
    "for i in list1:\n",
    "    if(type(i))==int:\n",
    "        list4.append(i)\n",
    "print(list4)\n",
    "list5=[]\n",
    "for j in list1:\n",
    "    if(type(j))==tuple:\n",
    "        list5.append(j)\n",
    "z=reduce(lambda x,y:x+y,list5)\n",
    "print(list(z))"
   ]
  },
  {
   "cell_type": "code",
   "execution_count": 5,
   "id": "2078595b-be84-4e68-9775-733cc5bc812c",
   "metadata": {},
   "outputs": [
    {
     "name": "stdout",
     "output_type": "stream",
     "text": [
      "[1, 2, 3]\n"
     ]
    }
   ],
   "source": [
    "list6=[]\n",
    "for i in list1:\n",
    "    if type(i)==set:\n",
    "        list6.append(i)\n",
    "y=reduce(lambda x,y:x+y,list6)\n",
    "print(list(y))"
   ]
  },
  {
   "cell_type": "code",
   "execution_count": 6,
   "id": "eccd24fb-9572-42eb-9465-138ecaf566d1",
   "metadata": {},
   "outputs": [
    {
     "name": "stdout",
     "output_type": "stream",
     "text": [
      "[1, 4]\n",
      "[34]\n",
      "[55, 67, 78, 89]\n",
      "[45, 22, 61, 34]\n"
     ]
    }
   ],
   "source": [
    "from functools import reduce\n",
    "dict1={}\n",
    "for i in list1:\n",
    "    if(type(i))==dict:\n",
    "        dict1.update(i)\n",
    "list8=[]\n",
    "list7=list(dict1.keys())\n",
    "for i in list7:\n",
    "    if(type(i))==int:\n",
    "        list8.append(i)\n",
    "print(list8)\n",
    "list10=[]\n",
    "list9=list(dict1.values())\n",
    "for j in list9:\n",
    "    if type(j)==int:\n",
    "        list10.append(j)\n",
    "print(list10)\n",
    "list11=[]\n",
    "for k in list9:\n",
    "    if(type(k))==list:\n",
    "        list11.append(k)\n",
    "    elif(type(k))==tuple:\n",
    "         list11.append(k)\n",
    "list12=[]\n",
    "for i in list11:\n",
    "    if type(i)==list:\n",
    "        list12.append(i)\n",
    "n=reduce(lambda x,y:x+y,list12)\n",
    "print(n)\n",
    "list13=[]\n",
    "for j in list11:\n",
    "    if type(j)==tuple:\n",
    "        list13.append(j)\n",
    "m=reduce(lambda x,y:x+y,list13)\n",
    "print(list(m))\n",
    "\n"
   ]
  },
  {
   "cell_type": "code",
   "execution_count": 7,
   "id": "2384b424-937d-4298-a086-92966eeb38f1",
   "metadata": {},
   "outputs": [],
   "source": [
    "list14=[n,list10,list8,list4,list3,list(m),list(y),list(z)]"
   ]
  },
  {
   "cell_type": "code",
   "execution_count": 8,
   "id": "924cfa99-4049-4619-b077-0a475abdf250",
   "metadata": {},
   "outputs": [
    {
     "name": "stdout",
     "output_type": "stream",
     "text": [
      "[[55, 67, 78, 89], [34], [1, 4], [1, 2, 3, 4], [44, 55, 66, 56], [45, 22, 61, 34], [1, 2, 3], [34, 56, 78, 89, 34]]\n"
     ]
    }
   ],
   "source": [
    "print(list14)"
   ]
  },
  {
   "cell_type": "code",
   "execution_count": 9,
   "id": "c3d4cfef-e2ea-4757-a1f9-4acd166d159e",
   "metadata": {},
   "outputs": [
    {
     "name": "stdout",
     "output_type": "stream",
     "text": [
      "[55, 67, 78, 89, 34, 1, 4, 1, 2, 3, 4, 44, 55, 66, 56, 45, 22, 61, 34, 1, 2, 3, 34, 56, 78, 89, 34]\n"
     ]
    }
   ],
   "source": [
    "from functools import reduce\n",
    "flat_list=reduce(lambda x,y:x+y,list14)\n",
    "print(flat_list)"
   ]
  },
  {
   "cell_type": "code",
   "execution_count": 12,
   "id": "88b36abb-cfb8-4320-8e44-75e388bcb0d0",
   "metadata": {},
   "outputs": [
    {
     "name": "stdout",
     "output_type": "stream",
     "text": [
      "The product of numbers in the list is:- 4134711838987085478833841242112000\n"
     ]
    }
   ],
   "source": [
    "def multiplication(product):\n",
    "    start=1\n",
    "    for x in product:\n",
    "        start *=x\n",
    "    return start\n",
    "print(\"The product of numbers in the list is:- {}\".format(multiplication(flat_list)))\n",
    "        "
   ]
  },
  {
   "cell_type": "markdown",
   "id": "b5a43688-95f4-40e1-9cf0-a7cb1bc8f983",
   "metadata": {},
   "source": [
    "Q2. Write a python program for encrypting a message sent to you by your friend. The logic of encryption \n",
    "should be such that, for a the output should be z. For b, the output should be y. For c, the output should \n",
    "be x respectively. Also, the whitespace should be replaced with a dollar sign. Keep the punctuation \n",
    "marks unchanged.\n",
    "\n",
    "\n",
    "Input Sentence: I want to become a Data Scientist.\n",
    "\n",
    "\n",
    "Encrypt the above input sentence using the program you just created.\n",
    "\n",
    "\n",
    "Note: Convert the given input sentence into lowercase before encrypting. The final output should be \n",
    "lowercase."
   ]
  },
  {
   "cell_type": "code",
   "execution_count": 43,
   "id": "83c9695a-e702-4300-a7f7-e9df0fb6a13a",
   "metadata": {},
   "outputs": [
    {
     "name": "stdin",
     "output_type": "stream",
     "text": [
      "Enter the message:- I want to become a Data Scientist.\n"
     ]
    },
    {
     "name": "stdout",
     "output_type": "stream",
     "text": [
      "i$wznt$to$yexome$z$dztz$sxientist.\n"
     ]
    }
   ],
   "source": [
    "Input_Sentence=input(\"Enter the message:-\")\n",
    "v=Input_Sentence.replace(\"a\",\"z\")\n",
    "t=v.replace(\"b\",\"y\")\n",
    "m=t.replace(\"c\",\"x\")\n",
    "n=m.replace(\" \",\"$\")\n",
    "print(n.lower())\n",
    "\n",
    "\n"
   ]
  }
 ],
 "metadata": {
  "kernelspec": {
   "display_name": "Python 3 (ipykernel)",
   "language": "python",
   "name": "python3"
  },
  "language_info": {
   "codemirror_mode": {
    "name": "ipython",
    "version": 3
   },
   "file_extension": ".py",
   "mimetype": "text/x-python",
   "name": "python",
   "nbconvert_exporter": "python",
   "pygments_lexer": "ipython3",
   "version": "3.10.8"
  }
 },
 "nbformat": 4,
 "nbformat_minor": 5
}
