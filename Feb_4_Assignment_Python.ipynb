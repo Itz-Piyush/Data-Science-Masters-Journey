{
 "cells": [
  {
   "cell_type": "markdown",
   "id": "e9b92172-3cee-4a8b-bb61-1db95d589619",
   "metadata": {},
   "source": [
    "## FEB 4 ASSIGNMENT PYTHON"
   ]
  },
  {
   "cell_type": "markdown",
   "id": "99aa5c05-c196-4740-aef9-048ca3bf9838",
   "metadata": {},
   "source": [
    "Q1. Create a python program to sort the given list of tuples based on integer value using a \n",
    "lambda function. \n",
    "\n",
    "\n",
    "[('Sachin Tendulkar', 34357), ('Ricky Ponting', 27483), ('Jack Kallis', 25534), ('Virat Kohli', 24936)]"
   ]
  },
  {
   "cell_type": "code",
   "execution_count": 6,
   "id": "d29cc5a8-d6dd-43b4-8f92-7bc259ad9823",
   "metadata": {},
   "outputs": [],
   "source": [
    "l=[('Sachin Tendulkar',34357),('Ricky Ponting',27483),('Jack Kallis',25534),('Virat Kohli',24936)]"
   ]
  },
  {
   "cell_type": "code",
   "execution_count": 7,
   "id": "83684fc4-bb44-42a6-bd23-f438d47602fc",
   "metadata": {},
   "outputs": [
    {
     "name": "stdout",
     "output_type": "stream",
     "text": [
      "[('Virat Kohli', 24936), ('Jack Kallis', 25534), ('Ricky Ponting', 27483), ('Sachin Tendulkar', 34357)]\n"
     ]
    }
   ],
   "source": [
    "print(sorted(l,key=lambda x : x[1]))\n"
   ]
  },
  {
   "cell_type": "markdown",
   "id": "078d667e-aaa1-4035-ba69-2f6ce6844a2d",
   "metadata": {},
   "source": [
    "Q2. Write a Python Program to find the squares of all the numbers in the given list of integers using \n",
    "lambda and map functions.\n",
    "\n",
    "\n",
    "[1, 2, 3, 4, 5, 6, 7, 8, 9, 10]"
   ]
  },
  {
   "cell_type": "code",
   "execution_count": 16,
   "id": "6c92e5c9-db22-4ec2-9497-fcbfc2a9f901",
   "metadata": {},
   "outputs": [
    {
     "data": {
      "text/plain": [
       "[1, 4, 9, 16, 25, 36, 49, 64, 81, 100]"
      ]
     },
     "execution_count": 16,
     "metadata": {},
     "output_type": "execute_result"
    }
   ],
   "source": [
    "l=[1,2,3,4,5,6,7,8,9,10]\n",
    "list(map(lambda x : x**2,l))"
   ]
  },
  {
   "cell_type": "markdown",
   "id": "8697dbf4-9fbf-4b3b-8ac9-dc7ee9a51b66",
   "metadata": {},
   "source": [
    "Q3. Write a python program to convert the given list of integers into a tuple of strings. Use map and \n",
    "lambda functions\n",
    "\n",
    "\n",
    "Given String: [1, 2, 3, 4, 5, 6, 7, 8, 9, 10]\n",
    "\n",
    "Expected output: ('1', '2', '3', '4', '5', '6', '7', '8', '9', '10')"
   ]
  },
  {
   "cell_type": "code",
   "execution_count": 8,
   "id": "9fa02037-17af-4644-8896-cc0761a004c4",
   "metadata": {},
   "outputs": [],
   "source": [
    "l1=[1,2,3,4,5,6,7,8,9,10]"
   ]
  },
  {
   "cell_type": "code",
   "execution_count": 9,
   "id": "1c18b95a-502f-48f9-8ad5-07defa09e607",
   "metadata": {},
   "outputs": [
    {
     "data": {
      "text/plain": [
       "['1', '2', '3', '4', '5', '6', '7', '8', '9', '10']"
      ]
     },
     "execution_count": 9,
     "metadata": {},
     "output_type": "execute_result"
    }
   ],
   "source": [
    "list(map(lambda x : str(x) , l1))"
   ]
  },
  {
   "cell_type": "markdown",
   "id": "a493c2bb-d379-474a-8e0a-696f72b9497b",
   "metadata": {},
   "source": [
    "Q4.  Write a python program using reduce function to compute the product of a list containing numbers \n",
    "from 1 to 25."
   ]
  },
  {
   "cell_type": "code",
   "execution_count": 15,
   "id": "0b40557b-40d1-424b-82b5-e75f1917a597",
   "metadata": {},
   "outputs": [
    {
     "name": "stdout",
     "output_type": "stream",
     "text": [
      "[1, 2, 3, 4, 5, 6, 7, 8, 9, 10, 11, 12, 13, 14, 15, 16, 17, 18, 19, 20, 21, 22, 23, 24]\n"
     ]
    },
    {
     "data": {
      "text/plain": [
       "620448401733239439360000"
      ]
     },
     "execution_count": 15,
     "metadata": {},
     "output_type": "execute_result"
    }
   ],
   "source": [
    "from functools import reduce\n",
    "l3=list(range(1,25))\n",
    "print(l3)\n",
    "reduce(lambda x,y : x*y ,l3)"
   ]
  },
  {
   "cell_type": "markdown",
   "id": "9b797b43-1689-4a35-a1bf-8ce81702fbe8",
   "metadata": {},
   "source": [
    "Q5. Write a python program to filter the numbers in a given list that are divisible by 2 and 3 using the \n",
    "filter function.\n",
    "\n",
    "\n",
    "[2, 3, 6, 9, 27, 60, 90, 120, 55, 46]"
   ]
  },
  {
   "cell_type": "code",
   "execution_count": 19,
   "id": "69507af9-e685-43ff-92d7-4906fb09ed42",
   "metadata": {},
   "outputs": [],
   "source": [
    "l4=[2,3,6,9,27,60,90,120,55,46]"
   ]
  },
  {
   "cell_type": "code",
   "execution_count": 20,
   "id": "4859d256-ea46-4db2-83bb-c89d503832bc",
   "metadata": {},
   "outputs": [
    {
     "data": {
      "text/plain": [
       "[6, 60, 90, 120]"
      ]
     },
     "execution_count": 20,
     "metadata": {},
     "output_type": "execute_result"
    }
   ],
   "source": [
    "list(filter(lambda x : x%2 == 0 and x%3==0 ,l4))"
   ]
  },
  {
   "cell_type": "markdown",
   "id": "fe5675a3-e06a-4c04-aed7-d378fda56b44",
   "metadata": {},
   "source": [
    "Q6. Write a python program to find palindromes in the given list of strings using lambda and filter \n",
    "function.\n",
    "\n",
    "\n",
    "['python', 'php', 'aba', 'radar', 'level']"
   ]
  },
  {
   "cell_type": "code",
   "execution_count": null,
   "id": "a1a6564c-c65f-4c01-9e76-99947e813d81",
   "metadata": {},
   "outputs": [],
   "source": [
    "list_5 = [\"python\", \"php\", \"aba\", \"radar\", \"levl;\"]\n",
    "print(\"Orginal list of strings:\")\n",
    "print(list_5) \n",
    "result = list(filter(lambda x: (x == \"\".join(reversed(x))), tex)) \n",
    "print(\"\\nList of palindromes:\")\n",
    "print(result)"
   ]
  }
 ],
 "metadata": {
  "kernelspec": {
   "display_name": "Python 3 (ipykernel)",
   "language": "python",
   "name": "python3"
  },
  "language_info": {
   "codemirror_mode": {
    "name": "ipython",
    "version": 3
   },
   "file_extension": ".py",
   "mimetype": "text/x-python",
   "name": "python",
   "nbconvert_exporter": "python",
   "pygments_lexer": "ipython3",
   "version": "3.10.8"
  }
 },
 "nbformat": 4,
 "nbformat_minor": 5
}
