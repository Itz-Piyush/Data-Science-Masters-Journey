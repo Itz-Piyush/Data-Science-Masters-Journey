{
 "cells": [
  {
   "cell_type": "markdown",
   "id": "f3c8f068-0209-482f-a0ea-843342808a72",
   "metadata": {},
   "source": [
    "## 9 FEB ASSIGNMENT PYTHON"
   ]
  },
  {
   "cell_type": "markdown",
   "id": "a394146d-39f6-4df0-84b2-c3ed015c8d5d",
   "metadata": {},
   "source": [
    "## OOPS TASK"
   ]
  },
  {
   "cell_type": "markdown",
   "id": "46652475-0a81-471a-a161-ec8980920ffd",
   "metadata": {},
   "source": [
    "Q1. Create a vehicle class with an init method having instance variables as name_of_vehicle, max_speed \n",
    "and average_of_vehicle."
   ]
  },
  {
   "cell_type": "code",
   "execution_count": 1,
   "id": "5f8204c7-fbc2-4ffc-b05a-a062dc636aa9",
   "metadata": {},
   "outputs": [
    {
     "name": "stdout",
     "output_type": "stream",
     "text": [
      "Car\n",
      "200\n",
      "40\n"
     ]
    }
   ],
   "source": [
    "class Vehicle:\n",
    "    def __init__(self, name_of_vehicle, max_speed, average_of_vehicle):\n",
    "        self.name_of_vehicle = name_of_vehicle\n",
    "        self.max_speed = max_speed\n",
    "        self.average_of_vehicle = average_of_vehicle\n",
    "my_vehicle = Vehicle(\"Car\", 200, 40)\n",
    "print(my_vehicle.name_of_vehicle) # Output: Car\n",
    "print(my_vehicle.max_speed) # Output: 200\n",
    "print(my_vehicle.average_of_vehicle) # Output: 40\n",
    "\n"
   ]
  },
  {
   "cell_type": "markdown",
   "id": "8fce5d06-72e3-444e-af7e-aaef9513e06e",
   "metadata": {},
   "source": [
    "Q2.  Create a child class car from the vehicle class created in Que 1, which will inherit the vehicle class. \n",
    "Create a method named seating_capacity which takes capacity as an argument and returns the name of \n",
    "the vehicle and its seating capacity."
   ]
  },
  {
   "cell_type": "code",
   "execution_count": 2,
   "id": "b5a79782-f0e4-4784-9614-c5c63d6aa297",
   "metadata": {},
   "outputs": [
    {
     "name": "stdout",
     "output_type": "stream",
     "text": [
      "Sedan has a seating capacity of 5 people.\n"
     ]
    }
   ],
   "source": [
    "class Car(Vehicle):\n",
    "    def seating_capacity(self, capacity):\n",
    "        return f\"{self.name_of_vehicle} has a seating capacity of {capacity} people.\"\n",
    "my_car = Car(\"Sedan\", 180, 30)\n",
    "print(my_car.seating_capacity(5)) # Output: Sedan has a seating capacity of 5 people.\n"
   ]
  },
  {
   "cell_type": "markdown",
   "id": "ef85cc48-6be9-4986-b962-07090844934a",
   "metadata": {},
   "source": [
    "Q3. What is multiple inheritance? Write a python code to demonstrate multiple inheritance."
   ]
  },
  {
   "cell_type": "markdown",
   "id": "ac332cf5-01fa-49a3-b627-a52e47e66025",
   "metadata": {},
   "source": [
    ":-Multiple inheritance is a feature in object-oriented programming where a class can inherit attributes and methods from multiple parent classes.\n",
    "\n",
    "In Python, multiple inheritance is implemented by listing the parent classes in the parentheses after the class name, separated by commas.\n",
    "\n",
    "Here is an example code to demonstrate multiple inheritance:"
   ]
  },
  {
   "cell_type": "code",
   "execution_count": 3,
   "id": "2ddd66c6-bb89-4fcc-baa0-94731c408f5f",
   "metadata": {},
   "outputs": [
    {
     "name": "stdout",
     "output_type": "stream",
     "text": [
      "This is a Prius with a max speed of 120 km/h and an average of 25 km/L. This vehicle has an electric range of 50 km.\n"
     ]
    }
   ],
   "source": [
    "class Vehicle:\n",
    "    def __init__(self, name_of_vehicle, max_speed, average_of_vehicle):\n",
    "        self.name_of_vehicle = name_of_vehicle\n",
    "        self.max_speed = max_speed\n",
    "        self.average_of_vehicle = average_of_vehicle\n",
    "        \n",
    "    def info(self):\n",
    "        return f\"This is a {self.name_of_vehicle} with a max speed of {self.max_speed} km/h and an average of {self.average_of_vehicle} km/L.\"\n",
    "    \n",
    "class Electric:\n",
    "    def __init__(self, electric_range):\n",
    "        self.electric_range = electric_range\n",
    "        \n",
    "    def range_info(self):\n",
    "        return f\"This vehicle has an electric range of {self.electric_range} km.\"\n",
    "    \n",
    "class HybridCar(Vehicle, Electric):\n",
    "    def __init__(self, name_of_vehicle, max_speed, average_of_vehicle, electric_range):\n",
    "        Vehicle.__init__(self, name_of_vehicle, max_speed, average_of_vehicle)\n",
    "        Electric.__init__(self, electric_range)\n",
    "        \n",
    "    def print_info(self):\n",
    "        return f\"{self.info()} {self.range_info()}\"\n",
    "my_hybrid_car = HybridCar(\"Prius\", 120, 25, 50)\n",
    "print(my_hybrid_car.print_info()) # Output: This is a Prius with a max speed of 120 km/h and an average of 25 km/L. This vehicle has an electric range of 50 km.\n"
   ]
  },
  {
   "cell_type": "markdown",
   "id": "fd297008-866e-4843-b9bf-ca13cedae37d",
   "metadata": {},
   "source": [
    "Q4. What are getter and setter in python? Create a class and create a getter and a setter method in this \n",
    "class."
   ]
  },
  {
   "cell_type": "markdown",
   "id": "930e4c6d-93d3-4475-ab42-91cbc9db981f",
   "metadata": {},
   "source": [
    ":-In Python, getters and setters are methods used to access and modify the values of private attributes in a class.\n",
    "\n",
    "A getter method allows you to access the value of a private attribute, while a setter method allows you to set or modify the value of a private attribute. This helps you control access to the private attribute and ensure that any changes made to it are valid.\n",
    "\n",
    "Here's an example of a class that has a private attribute and getter and setter methods to access and modify it:"
   ]
  },
  {
   "cell_type": "code",
   "execution_count": 4,
   "id": "d37e9bca-4528-4b3c-adcf-5466a2e838fc",
   "metadata": {},
   "outputs": [
    {
     "name": "stdout",
     "output_type": "stream",
     "text": [
      "John\n",
      "30\n",
      "Mike\n",
      "25\n"
     ]
    },
    {
     "ename": "ValueError",
     "evalue": "Age cannot be negative.",
     "output_type": "error",
     "traceback": [
      "\u001b[0;31m---------------------------------------------------------------------------\u001b[0m",
      "\u001b[0;31mValueError\u001b[0m                                Traceback (most recent call last)",
      "Cell \u001b[0;32mIn[4], line 29\u001b[0m\n\u001b[1;32m     26\u001b[0m \u001b[38;5;28mprint\u001b[39m(person1\u001b[38;5;241m.\u001b[39mget_name()) \u001b[38;5;66;03m# Output: Mike\u001b[39;00m\n\u001b[1;32m     27\u001b[0m \u001b[38;5;28mprint\u001b[39m(person1\u001b[38;5;241m.\u001b[39mget_age()) \u001b[38;5;66;03m# Output: 25\u001b[39;00m\n\u001b[0;32m---> 29\u001b[0m \u001b[43mperson1\u001b[49m\u001b[38;5;241;43m.\u001b[39;49m\u001b[43mset_age\u001b[49m\u001b[43m(\u001b[49m\u001b[38;5;241;43m-\u001b[39;49m\u001b[38;5;241;43m5\u001b[39;49m\u001b[43m)\u001b[49m \u001b[38;5;66;03m# Raises ValueError: Age cannot be negative.\u001b[39;00m\n",
      "Cell \u001b[0;32mIn[4], line 19\u001b[0m, in \u001b[0;36mPerson.set_age\u001b[0;34m(self, age)\u001b[0m\n\u001b[1;32m     17\u001b[0m     \u001b[38;5;28mself\u001b[39m\u001b[38;5;241m.\u001b[39m_age \u001b[38;5;241m=\u001b[39m age\n\u001b[1;32m     18\u001b[0m \u001b[38;5;28;01melse\u001b[39;00m:\n\u001b[0;32m---> 19\u001b[0m     \u001b[38;5;28;01mraise\u001b[39;00m \u001b[38;5;167;01mValueError\u001b[39;00m(\u001b[38;5;124m\"\u001b[39m\u001b[38;5;124mAge cannot be negative.\u001b[39m\u001b[38;5;124m\"\u001b[39m)\n",
      "\u001b[0;31mValueError\u001b[0m: Age cannot be negative."
     ]
    }
   ],
   "source": [
    "class Person:\n",
    "    def __init__(self, name, age):\n",
    "        self._name = name\n",
    "        self._age = age\n",
    "        \n",
    "    def get_name(self):\n",
    "        return self._name\n",
    "    \n",
    "    def set_name(self, name):\n",
    "        self._name = name\n",
    "        \n",
    "    def get_age(self):\n",
    "        return self._age\n",
    "    \n",
    "    def set_age(self, age):\n",
    "        if age >= 0:\n",
    "            self._age = age\n",
    "        else:\n",
    "            raise ValueError(\"Age cannot be negative.\")\n",
    "person1 = Person(\"John\", 30)\n",
    "print(person1.get_name()) # Output: John\n",
    "print(person1.get_age()) # Output: 30\n",
    "\n",
    "person1.set_name(\"Mike\")\n",
    "person1.set_age(25)\n",
    "print(person1.get_name()) # Output: Mike\n",
    "print(person1.get_age()) # Output: 25\n",
    "\n",
    "person1.set_age(-5) # Raises ValueError: Age cannot be negative.\n"
   ]
  },
  {
   "cell_type": "markdown",
   "id": "857d4f3f-35fa-4018-ace8-625c0225973f",
   "metadata": {},
   "source": [
    "Q5.What is method overriding in python? Write a python code to demonstrate method overriding."
   ]
  },
  {
   "cell_type": "code",
   "execution_count": null,
   "id": "0de96a3e-715f-4496-94f7-6855a050502d",
   "metadata": {},
   "outputs": [],
   "source": []
  }
 ],
 "metadata": {
  "kernelspec": {
   "display_name": "Python 3 (ipykernel)",
   "language": "python",
   "name": "python3"
  },
  "language_info": {
   "codemirror_mode": {
    "name": "ipython",
    "version": 3
   },
   "file_extension": ".py",
   "mimetype": "text/x-python",
   "name": "python",
   "nbconvert_exporter": "python",
   "pygments_lexer": "ipython3",
   "version": "3.10.8"
  }
 },
 "nbformat": 4,
 "nbformat_minor": 5
}
